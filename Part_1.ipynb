{
  "nbformat": 4,
  "nbformat_minor": 0,
  "metadata": {
    "colab": {
      "provenance": [],
      "authorship_tag": "ABX9TyMWpO97JLWXJqju04+4Agpf",
      "include_colab_link": true
    },
    "kernelspec": {
      "name": "python3",
      "display_name": "Python 3"
    },
    "language_info": {
      "name": "python"
    }
  },
  "cells": [
    {
      "cell_type": "markdown",
      "metadata": {
        "id": "view-in-github",
        "colab_type": "text"
      },
      "source": [
        "<a href=\"https://colab.research.google.com/github/Shubham-naik-ai/Reunion/blob/main/Part_1.ipynb\" target=\"_parent\"><img src=\"https://colab.research.google.com/assets/colab-badge.svg\" alt=\"Open In Colab\"/></a>"
      ]
    },
    {
      "cell_type": "markdown",
      "source": [
        "# **Project Title : Reunion Assessment**"
      ],
      "metadata": {
        "id": "jN8c4yKA8uV_"
      }
    },
    {
      "cell_type": "markdown",
      "source": [
        "# **Problem Description**"
      ],
      "metadata": {
        "id": "OATUp4Hh8uSV"
      }
    },
    {
      "cell_type": "markdown",
      "source": [
        "### **TASK-1**\n",
        "\n",
        "1. Do the Exploratory Data Analysis & share the insights.\n",
        "2. How would you segment customers based on their risk (of default).\n",
        "3. Which of these segments / sub-segments would you propose be approved?\n",
        "    - For e.g. Would a person with critical credit history be more creditworthy? Are young people more creditworthy? Would a person with more credit accounts be more creditworthy?\n",
        "4. Tell us what your observations were on the data itself (completeness, skews)."
      ],
      "metadata": {
        "id": "JX12Op9P8uO9"
      }
    },
    {
      "cell_type": "code",
      "execution_count": 1,
      "metadata": {
        "colab": {
          "base_uri": "https://localhost:8080/"
        },
        "id": "9YWIbl-88k38",
        "outputId": "b0ccbc33-c171-4981-bdd4-0c40bb06e698"
      },
      "outputs": [
        {
          "output_type": "stream",
          "name": "stdout",
          "text": [
            "Mounted at /content/drive\n"
          ]
        }
      ],
      "source": [
        "# Importing usefull libraries for EDA\n",
        "import numpy as np\n",
        "import pandas as pd\n",
        "import matplotlib.pyplot as plt\n",
        "import seaborn as sns\n",
        "%matplotlib inline\n",
        "\n",
        "import os\n",
        "from google.colab import drive\n",
        "drive.mount('/content/drive')\n",
        "working_dir_path = '/content/drive/MyDrive/Reunion/'"
      ]
    },
    {
      "cell_type": "code",
      "source": [
        "# Importing usefull libraries\n",
        "\n",
        "\n",
        "from sklearn.preprocessing import StandardScaler\n",
        "from sklearn.model_selection import train_test_split\n",
        "from sklearn.linear_model import LogisticRegression\n",
        "from sklearn.model_selection import GridSearchCV\n",
        "from sklearn.preprocessing import LabelEncoder\n",
        "from sklearn.metrics import accuracy_score, recall_score, precision_score, f1_score, roc_auc_score, confusion_matrix, roc_curve, auc\n",
        "\n",
        "from sklearn.svm import SVC\n"
      ],
      "metadata": {
        "id": "FUS4uv9p9F62"
      },
      "execution_count": 2,
      "outputs": []
    },
    {
      "cell_type": "code",
      "source": [
        "#Loading the Dataset\n",
        "appl_df = pd.read_csv(working_dir_path + 'applicant.csv')"
      ],
      "metadata": {
        "id": "7JQ_Dk8W9F5L"
      },
      "execution_count": 3,
      "outputs": []
    },
    {
      "cell_type": "code",
      "source": [
        "loan_df = pd.read_csv(working_dir_path + 'loan.csv')"
      ],
      "metadata": {
        "id": "J6x26kuE9F3P"
      },
      "execution_count": 4,
      "outputs": []
    },
    {
      "cell_type": "code",
      "source": [
        "appl_df.head()"
      ],
      "metadata": {
        "colab": {
          "base_uri": "https://localhost:8080/",
          "height": 374
        },
        "id": "2QhbH59r9F1S",
        "outputId": "77c192e3-60ae-451c-80bc-3ee77e9a190b"
      },
      "execution_count": 5,
      "outputs": [
        {
          "output_type": "execute_result",
          "data": {
            "text/plain": [
              "   applicant_id  Primary_applicant_age_in_years  Gender  \\\n",
              "0       1469590                              67    male   \n",
              "1       1203873                              22  female   \n",
              "2       1432761                              49    male   \n",
              "3       1207582                              45    male   \n",
              "4       1674436                              53    male   \n",
              "\n",
              "               Marital_status  Number_of_dependents   Housing  \\\n",
              "0                      single                     1       own   \n",
              "1  divorced/separated/married                     1       own   \n",
              "2                      single                     2       own   \n",
              "3                      single                     2  for free   \n",
              "4                      single                     2  for free   \n",
              "\n",
              "   Years_at_current_residence            Employment_status  \\\n",
              "0                           4  skilled employee / official   \n",
              "1                           2  skilled employee / official   \n",
              "2                           3         unskilled - resident   \n",
              "3                           4  skilled employee / official   \n",
              "4                           4  skilled employee / official   \n",
              "\n",
              "  Has_been_employed_for_at_least Has_been_employed_for_at_most  \\\n",
              "0                        7 years                           NaN   \n",
              "1                         1 year                       4 years   \n",
              "2                        4 years                       7 years   \n",
              "3                        4 years                       7 years   \n",
              "4                         1 year                       4 years   \n",
              "\n",
              "                               Telephone  Foreign_worker  \\\n",
              "0  Registered under the applicant's name               1   \n",
              "1                                    NaN               1   \n",
              "2                                    NaN               1   \n",
              "3                                    NaN               1   \n",
              "4                                    NaN               1   \n",
              "\n",
              "  Savings_account_balance  \\\n",
              "0                     NaN   \n",
              "1                     Low   \n",
              "2                     Low   \n",
              "3                     Low   \n",
              "4                     Low   \n",
              "\n",
              "  Balance_in_existing_bank_account_(lower_limit_of_bucket)  \\\n",
              "0                                                NaN         \n",
              "1                                                  0         \n",
              "2                                                NaN         \n",
              "3                                                NaN         \n",
              "4                                                NaN         \n",
              "\n",
              "  Balance_in_existing_bank_account_(upper_limit_of_bucket)  \n",
              "0                                                  0        \n",
              "1                                              2 lac        \n",
              "2                                                NaN        \n",
              "3                                                  0        \n",
              "4                                                  0        "
            ],
            "text/html": [
              "\n",
              "  <div id=\"df-ba3fbc4b-ffbe-43f9-a60d-ece9c4e19eec\">\n",
              "    <div class=\"colab-df-container\">\n",
              "      <div>\n",
              "<style scoped>\n",
              "    .dataframe tbody tr th:only-of-type {\n",
              "        vertical-align: middle;\n",
              "    }\n",
              "\n",
              "    .dataframe tbody tr th {\n",
              "        vertical-align: top;\n",
              "    }\n",
              "\n",
              "    .dataframe thead th {\n",
              "        text-align: right;\n",
              "    }\n",
              "</style>\n",
              "<table border=\"1\" class=\"dataframe\">\n",
              "  <thead>\n",
              "    <tr style=\"text-align: right;\">\n",
              "      <th></th>\n",
              "      <th>applicant_id</th>\n",
              "      <th>Primary_applicant_age_in_years</th>\n",
              "      <th>Gender</th>\n",
              "      <th>Marital_status</th>\n",
              "      <th>Number_of_dependents</th>\n",
              "      <th>Housing</th>\n",
              "      <th>Years_at_current_residence</th>\n",
              "      <th>Employment_status</th>\n",
              "      <th>Has_been_employed_for_at_least</th>\n",
              "      <th>Has_been_employed_for_at_most</th>\n",
              "      <th>Telephone</th>\n",
              "      <th>Foreign_worker</th>\n",
              "      <th>Savings_account_balance</th>\n",
              "      <th>Balance_in_existing_bank_account_(lower_limit_of_bucket)</th>\n",
              "      <th>Balance_in_existing_bank_account_(upper_limit_of_bucket)</th>\n",
              "    </tr>\n",
              "  </thead>\n",
              "  <tbody>\n",
              "    <tr>\n",
              "      <th>0</th>\n",
              "      <td>1469590</td>\n",
              "      <td>67</td>\n",
              "      <td>male</td>\n",
              "      <td>single</td>\n",
              "      <td>1</td>\n",
              "      <td>own</td>\n",
              "      <td>4</td>\n",
              "      <td>skilled employee / official</td>\n",
              "      <td>7 years</td>\n",
              "      <td>NaN</td>\n",
              "      <td>Registered under the applicant's name</td>\n",
              "      <td>1</td>\n",
              "      <td>NaN</td>\n",
              "      <td>NaN</td>\n",
              "      <td>0</td>\n",
              "    </tr>\n",
              "    <tr>\n",
              "      <th>1</th>\n",
              "      <td>1203873</td>\n",
              "      <td>22</td>\n",
              "      <td>female</td>\n",
              "      <td>divorced/separated/married</td>\n",
              "      <td>1</td>\n",
              "      <td>own</td>\n",
              "      <td>2</td>\n",
              "      <td>skilled employee / official</td>\n",
              "      <td>1 year</td>\n",
              "      <td>4 years</td>\n",
              "      <td>NaN</td>\n",
              "      <td>1</td>\n",
              "      <td>Low</td>\n",
              "      <td>0</td>\n",
              "      <td>2 lac</td>\n",
              "    </tr>\n",
              "    <tr>\n",
              "      <th>2</th>\n",
              "      <td>1432761</td>\n",
              "      <td>49</td>\n",
              "      <td>male</td>\n",
              "      <td>single</td>\n",
              "      <td>2</td>\n",
              "      <td>own</td>\n",
              "      <td>3</td>\n",
              "      <td>unskilled - resident</td>\n",
              "      <td>4 years</td>\n",
              "      <td>7 years</td>\n",
              "      <td>NaN</td>\n",
              "      <td>1</td>\n",
              "      <td>Low</td>\n",
              "      <td>NaN</td>\n",
              "      <td>NaN</td>\n",
              "    </tr>\n",
              "    <tr>\n",
              "      <th>3</th>\n",
              "      <td>1207582</td>\n",
              "      <td>45</td>\n",
              "      <td>male</td>\n",
              "      <td>single</td>\n",
              "      <td>2</td>\n",
              "      <td>for free</td>\n",
              "      <td>4</td>\n",
              "      <td>skilled employee / official</td>\n",
              "      <td>4 years</td>\n",
              "      <td>7 years</td>\n",
              "      <td>NaN</td>\n",
              "      <td>1</td>\n",
              "      <td>Low</td>\n",
              "      <td>NaN</td>\n",
              "      <td>0</td>\n",
              "    </tr>\n",
              "    <tr>\n",
              "      <th>4</th>\n",
              "      <td>1674436</td>\n",
              "      <td>53</td>\n",
              "      <td>male</td>\n",
              "      <td>single</td>\n",
              "      <td>2</td>\n",
              "      <td>for free</td>\n",
              "      <td>4</td>\n",
              "      <td>skilled employee / official</td>\n",
              "      <td>1 year</td>\n",
              "      <td>4 years</td>\n",
              "      <td>NaN</td>\n",
              "      <td>1</td>\n",
              "      <td>Low</td>\n",
              "      <td>NaN</td>\n",
              "      <td>0</td>\n",
              "    </tr>\n",
              "  </tbody>\n",
              "</table>\n",
              "</div>\n",
              "      <button class=\"colab-df-convert\" onclick=\"convertToInteractive('df-ba3fbc4b-ffbe-43f9-a60d-ece9c4e19eec')\"\n",
              "              title=\"Convert this dataframe to an interactive table.\"\n",
              "              style=\"display:none;\">\n",
              "        \n",
              "  <svg xmlns=\"http://www.w3.org/2000/svg\" height=\"24px\"viewBox=\"0 0 24 24\"\n",
              "       width=\"24px\">\n",
              "    <path d=\"M0 0h24v24H0V0z\" fill=\"none\"/>\n",
              "    <path d=\"M18.56 5.44l.94 2.06.94-2.06 2.06-.94-2.06-.94-.94-2.06-.94 2.06-2.06.94zm-11 1L8.5 8.5l.94-2.06 2.06-.94-2.06-.94L8.5 2.5l-.94 2.06-2.06.94zm10 10l.94 2.06.94-2.06 2.06-.94-2.06-.94-.94-2.06-.94 2.06-2.06.94z\"/><path d=\"M17.41 7.96l-1.37-1.37c-.4-.4-.92-.59-1.43-.59-.52 0-1.04.2-1.43.59L10.3 9.45l-7.72 7.72c-.78.78-.78 2.05 0 2.83L4 21.41c.39.39.9.59 1.41.59.51 0 1.02-.2 1.41-.59l7.78-7.78 2.81-2.81c.8-.78.8-2.07 0-2.86zM5.41 20L4 18.59l7.72-7.72 1.47 1.35L5.41 20z\"/>\n",
              "  </svg>\n",
              "      </button>\n",
              "      \n",
              "  <style>\n",
              "    .colab-df-container {\n",
              "      display:flex;\n",
              "      flex-wrap:wrap;\n",
              "      gap: 12px;\n",
              "    }\n",
              "\n",
              "    .colab-df-convert {\n",
              "      background-color: #E8F0FE;\n",
              "      border: none;\n",
              "      border-radius: 50%;\n",
              "      cursor: pointer;\n",
              "      display: none;\n",
              "      fill: #1967D2;\n",
              "      height: 32px;\n",
              "      padding: 0 0 0 0;\n",
              "      width: 32px;\n",
              "    }\n",
              "\n",
              "    .colab-df-convert:hover {\n",
              "      background-color: #E2EBFA;\n",
              "      box-shadow: 0px 1px 2px rgba(60, 64, 67, 0.3), 0px 1px 3px 1px rgba(60, 64, 67, 0.15);\n",
              "      fill: #174EA6;\n",
              "    }\n",
              "\n",
              "    [theme=dark] .colab-df-convert {\n",
              "      background-color: #3B4455;\n",
              "      fill: #D2E3FC;\n",
              "    }\n",
              "\n",
              "    [theme=dark] .colab-df-convert:hover {\n",
              "      background-color: #434B5C;\n",
              "      box-shadow: 0px 1px 3px 1px rgba(0, 0, 0, 0.15);\n",
              "      filter: drop-shadow(0px 1px 2px rgba(0, 0, 0, 0.3));\n",
              "      fill: #FFFFFF;\n",
              "    }\n",
              "  </style>\n",
              "\n",
              "      <script>\n",
              "        const buttonEl =\n",
              "          document.querySelector('#df-ba3fbc4b-ffbe-43f9-a60d-ece9c4e19eec button.colab-df-convert');\n",
              "        buttonEl.style.display =\n",
              "          google.colab.kernel.accessAllowed ? 'block' : 'none';\n",
              "\n",
              "        async function convertToInteractive(key) {\n",
              "          const element = document.querySelector('#df-ba3fbc4b-ffbe-43f9-a60d-ece9c4e19eec');\n",
              "          const dataTable =\n",
              "            await google.colab.kernel.invokeFunction('convertToInteractive',\n",
              "                                                     [key], {});\n",
              "          if (!dataTable) return;\n",
              "\n",
              "          const docLinkHtml = 'Like what you see? Visit the ' +\n",
              "            '<a target=\"_blank\" href=https://colab.research.google.com/notebooks/data_table.ipynb>data table notebook</a>'\n",
              "            + ' to learn more about interactive tables.';\n",
              "          element.innerHTML = '';\n",
              "          dataTable['output_type'] = 'display_data';\n",
              "          await google.colab.output.renderOutput(dataTable, element);\n",
              "          const docLink = document.createElement('div');\n",
              "          docLink.innerHTML = docLinkHtml;\n",
              "          element.appendChild(docLink);\n",
              "        }\n",
              "      </script>\n",
              "    </div>\n",
              "  </div>\n",
              "  "
            ]
          },
          "metadata": {},
          "execution_count": 5
        }
      ]
    },
    {
      "cell_type": "code",
      "source": [
        "# Printing the first 5 observation from the data\n",
        "loan_df.head()"
      ],
      "metadata": {
        "colab": {
          "base_uri": "https://localhost:8080/",
          "height": 478
        },
        "id": "rldOJ_eo9Fx3",
        "outputId": "13bbbd12-9d35-4a4f-8341-f1afd69cc851"
      },
      "execution_count": 6,
      "outputs": [
        {
          "output_type": "execute_result",
          "data": {
            "text/plain": [
              "                    loan_application_id  applicant_id  Months_loan_taken_for  \\\n",
              "0  d68d975e-edad-11ea-8761-1d6f9c1ff461       1469590                      6   \n",
              "1  d68d989e-edad-11ea-b1d5-2bcf65006448       1203873                     48   \n",
              "2  d68d995c-edad-11ea-814a-1b6716782575       1432761                     12   \n",
              "3  d68d99fc-edad-11ea-8841-17e8848060ae       1207582                     42   \n",
              "4  d68d9a92-edad-11ea-9f3d-1f8682db006a       1674436                     24   \n",
              "\n",
              "                Purpose  Principal_loan_amount  \\\n",
              "0  electronic equipment                1169000   \n",
              "1  electronic equipment                5951000   \n",
              "2             education                2096000   \n",
              "3                  FF&E                7882000   \n",
              "4           new vehicle                4870000   \n",
              "\n",
              "   EMI_rate_in_percentage_of_disposable_income  \\\n",
              "0                                            4   \n",
              "1                                            2   \n",
              "2                                            2   \n",
              "3                                            2   \n",
              "4                                            3   \n",
              "\n",
              "                                            Property  Has_coapplicant  \\\n",
              "0                                        real estate                0   \n",
              "1                                        real estate                0   \n",
              "2                                        real estate                0   \n",
              "3  building society savings agreement/life insurance                0   \n",
              "4                                                NaN                0   \n",
              "\n",
              "   Has_guarantor Other_EMI_plans  Number_of_existing_loans_at_this_bank  \\\n",
              "0              0             NaN                                      2   \n",
              "1              0             NaN                                      1   \n",
              "2              0             NaN                                      1   \n",
              "3              1             NaN                                      1   \n",
              "4              0             NaN                                      2   \n",
              "\n",
              "                             Loan_history  high_risk_applicant  \n",
              "0   critical/pending loans at other banks                    0  \n",
              "1  existing loans paid back duly till now                    1  \n",
              "2   critical/pending loans at other banks                    0  \n",
              "3  existing loans paid back duly till now                    0  \n",
              "4   delay in paying off loans in the past                    1  "
            ],
            "text/html": [
              "\n",
              "  <div id=\"df-9b2550dc-021a-4402-890f-2c91e555c594\">\n",
              "    <div class=\"colab-df-container\">\n",
              "      <div>\n",
              "<style scoped>\n",
              "    .dataframe tbody tr th:only-of-type {\n",
              "        vertical-align: middle;\n",
              "    }\n",
              "\n",
              "    .dataframe tbody tr th {\n",
              "        vertical-align: top;\n",
              "    }\n",
              "\n",
              "    .dataframe thead th {\n",
              "        text-align: right;\n",
              "    }\n",
              "</style>\n",
              "<table border=\"1\" class=\"dataframe\">\n",
              "  <thead>\n",
              "    <tr style=\"text-align: right;\">\n",
              "      <th></th>\n",
              "      <th>loan_application_id</th>\n",
              "      <th>applicant_id</th>\n",
              "      <th>Months_loan_taken_for</th>\n",
              "      <th>Purpose</th>\n",
              "      <th>Principal_loan_amount</th>\n",
              "      <th>EMI_rate_in_percentage_of_disposable_income</th>\n",
              "      <th>Property</th>\n",
              "      <th>Has_coapplicant</th>\n",
              "      <th>Has_guarantor</th>\n",
              "      <th>Other_EMI_plans</th>\n",
              "      <th>Number_of_existing_loans_at_this_bank</th>\n",
              "      <th>Loan_history</th>\n",
              "      <th>high_risk_applicant</th>\n",
              "    </tr>\n",
              "  </thead>\n",
              "  <tbody>\n",
              "    <tr>\n",
              "      <th>0</th>\n",
              "      <td>d68d975e-edad-11ea-8761-1d6f9c1ff461</td>\n",
              "      <td>1469590</td>\n",
              "      <td>6</td>\n",
              "      <td>electronic equipment</td>\n",
              "      <td>1169000</td>\n",
              "      <td>4</td>\n",
              "      <td>real estate</td>\n",
              "      <td>0</td>\n",
              "      <td>0</td>\n",
              "      <td>NaN</td>\n",
              "      <td>2</td>\n",
              "      <td>critical/pending loans at other banks</td>\n",
              "      <td>0</td>\n",
              "    </tr>\n",
              "    <tr>\n",
              "      <th>1</th>\n",
              "      <td>d68d989e-edad-11ea-b1d5-2bcf65006448</td>\n",
              "      <td>1203873</td>\n",
              "      <td>48</td>\n",
              "      <td>electronic equipment</td>\n",
              "      <td>5951000</td>\n",
              "      <td>2</td>\n",
              "      <td>real estate</td>\n",
              "      <td>0</td>\n",
              "      <td>0</td>\n",
              "      <td>NaN</td>\n",
              "      <td>1</td>\n",
              "      <td>existing loans paid back duly till now</td>\n",
              "      <td>1</td>\n",
              "    </tr>\n",
              "    <tr>\n",
              "      <th>2</th>\n",
              "      <td>d68d995c-edad-11ea-814a-1b6716782575</td>\n",
              "      <td>1432761</td>\n",
              "      <td>12</td>\n",
              "      <td>education</td>\n",
              "      <td>2096000</td>\n",
              "      <td>2</td>\n",
              "      <td>real estate</td>\n",
              "      <td>0</td>\n",
              "      <td>0</td>\n",
              "      <td>NaN</td>\n",
              "      <td>1</td>\n",
              "      <td>critical/pending loans at other banks</td>\n",
              "      <td>0</td>\n",
              "    </tr>\n",
              "    <tr>\n",
              "      <th>3</th>\n",
              "      <td>d68d99fc-edad-11ea-8841-17e8848060ae</td>\n",
              "      <td>1207582</td>\n",
              "      <td>42</td>\n",
              "      <td>FF&amp;E</td>\n",
              "      <td>7882000</td>\n",
              "      <td>2</td>\n",
              "      <td>building society savings agreement/life insurance</td>\n",
              "      <td>0</td>\n",
              "      <td>1</td>\n",
              "      <td>NaN</td>\n",
              "      <td>1</td>\n",
              "      <td>existing loans paid back duly till now</td>\n",
              "      <td>0</td>\n",
              "    </tr>\n",
              "    <tr>\n",
              "      <th>4</th>\n",
              "      <td>d68d9a92-edad-11ea-9f3d-1f8682db006a</td>\n",
              "      <td>1674436</td>\n",
              "      <td>24</td>\n",
              "      <td>new vehicle</td>\n",
              "      <td>4870000</td>\n",
              "      <td>3</td>\n",
              "      <td>NaN</td>\n",
              "      <td>0</td>\n",
              "      <td>0</td>\n",
              "      <td>NaN</td>\n",
              "      <td>2</td>\n",
              "      <td>delay in paying off loans in the past</td>\n",
              "      <td>1</td>\n",
              "    </tr>\n",
              "  </tbody>\n",
              "</table>\n",
              "</div>\n",
              "      <button class=\"colab-df-convert\" onclick=\"convertToInteractive('df-9b2550dc-021a-4402-890f-2c91e555c594')\"\n",
              "              title=\"Convert this dataframe to an interactive table.\"\n",
              "              style=\"display:none;\">\n",
              "        \n",
              "  <svg xmlns=\"http://www.w3.org/2000/svg\" height=\"24px\"viewBox=\"0 0 24 24\"\n",
              "       width=\"24px\">\n",
              "    <path d=\"M0 0h24v24H0V0z\" fill=\"none\"/>\n",
              "    <path d=\"M18.56 5.44l.94 2.06.94-2.06 2.06-.94-2.06-.94-.94-2.06-.94 2.06-2.06.94zm-11 1L8.5 8.5l.94-2.06 2.06-.94-2.06-.94L8.5 2.5l-.94 2.06-2.06.94zm10 10l.94 2.06.94-2.06 2.06-.94-2.06-.94-.94-2.06-.94 2.06-2.06.94z\"/><path d=\"M17.41 7.96l-1.37-1.37c-.4-.4-.92-.59-1.43-.59-.52 0-1.04.2-1.43.59L10.3 9.45l-7.72 7.72c-.78.78-.78 2.05 0 2.83L4 21.41c.39.39.9.59 1.41.59.51 0 1.02-.2 1.41-.59l7.78-7.78 2.81-2.81c.8-.78.8-2.07 0-2.86zM5.41 20L4 18.59l7.72-7.72 1.47 1.35L5.41 20z\"/>\n",
              "  </svg>\n",
              "      </button>\n",
              "      \n",
              "  <style>\n",
              "    .colab-df-container {\n",
              "      display:flex;\n",
              "      flex-wrap:wrap;\n",
              "      gap: 12px;\n",
              "    }\n",
              "\n",
              "    .colab-df-convert {\n",
              "      background-color: #E8F0FE;\n",
              "      border: none;\n",
              "      border-radius: 50%;\n",
              "      cursor: pointer;\n",
              "      display: none;\n",
              "      fill: #1967D2;\n",
              "      height: 32px;\n",
              "      padding: 0 0 0 0;\n",
              "      width: 32px;\n",
              "    }\n",
              "\n",
              "    .colab-df-convert:hover {\n",
              "      background-color: #E2EBFA;\n",
              "      box-shadow: 0px 1px 2px rgba(60, 64, 67, 0.3), 0px 1px 3px 1px rgba(60, 64, 67, 0.15);\n",
              "      fill: #174EA6;\n",
              "    }\n",
              "\n",
              "    [theme=dark] .colab-df-convert {\n",
              "      background-color: #3B4455;\n",
              "      fill: #D2E3FC;\n",
              "    }\n",
              "\n",
              "    [theme=dark] .colab-df-convert:hover {\n",
              "      background-color: #434B5C;\n",
              "      box-shadow: 0px 1px 3px 1px rgba(0, 0, 0, 0.15);\n",
              "      filter: drop-shadow(0px 1px 2px rgba(0, 0, 0, 0.3));\n",
              "      fill: #FFFFFF;\n",
              "    }\n",
              "  </style>\n",
              "\n",
              "      <script>\n",
              "        const buttonEl =\n",
              "          document.querySelector('#df-9b2550dc-021a-4402-890f-2c91e555c594 button.colab-df-convert');\n",
              "        buttonEl.style.display =\n",
              "          google.colab.kernel.accessAllowed ? 'block' : 'none';\n",
              "\n",
              "        async function convertToInteractive(key) {\n",
              "          const element = document.querySelector('#df-9b2550dc-021a-4402-890f-2c91e555c594');\n",
              "          const dataTable =\n",
              "            await google.colab.kernel.invokeFunction('convertToInteractive',\n",
              "                                                     [key], {});\n",
              "          if (!dataTable) return;\n",
              "\n",
              "          const docLinkHtml = 'Like what you see? Visit the ' +\n",
              "            '<a target=\"_blank\" href=https://colab.research.google.com/notebooks/data_table.ipynb>data table notebook</a>'\n",
              "            + ' to learn more about interactive tables.';\n",
              "          element.innerHTML = '';\n",
              "          dataTable['output_type'] = 'display_data';\n",
              "          await google.colab.output.renderOutput(dataTable, element);\n",
              "          const docLink = document.createElement('div');\n",
              "          docLink.innerHTML = docLinkHtml;\n",
              "          element.appendChild(docLink);\n",
              "        }\n",
              "      </script>\n",
              "    </div>\n",
              "  </div>\n",
              "  "
            ]
          },
          "metadata": {},
          "execution_count": 6
        }
      ]
    },
    {
      "cell_type": "code",
      "source": [
        "new1 = [appl_df,loan_df]"
      ],
      "metadata": {
        "id": "SAd3iR_W9Fvf"
      },
      "execution_count": 7,
      "outputs": []
    },
    {
      "cell_type": "code",
      "source": [
        "train_df = appl_df.merge(loan_df)"
      ],
      "metadata": {
        "id": "ZenxW7eJ9FtF"
      },
      "execution_count": 8,
      "outputs": []
    },
    {
      "cell_type": "code",
      "source": [
        "train_df.head()"
      ],
      "metadata": {
        "colab": {
          "base_uri": "https://localhost:8080/",
          "height": 508
        },
        "id": "bx5XoB5D9Fqq",
        "outputId": "440de1a0-e5cf-4075-c440-4c06bbd57ba4"
      },
      "execution_count": 9,
      "outputs": [
        {
          "output_type": "execute_result",
          "data": {
            "text/plain": [
              "   applicant_id  Primary_applicant_age_in_years  Gender  \\\n",
              "0       1469590                              67    male   \n",
              "1       1203873                              22  female   \n",
              "2       1432761                              49    male   \n",
              "3       1207582                              45    male   \n",
              "4       1674436                              53    male   \n",
              "\n",
              "               Marital_status  Number_of_dependents   Housing  \\\n",
              "0                      single                     1       own   \n",
              "1  divorced/separated/married                     1       own   \n",
              "2                      single                     2       own   \n",
              "3                      single                     2  for free   \n",
              "4                      single                     2  for free   \n",
              "\n",
              "   Years_at_current_residence            Employment_status  \\\n",
              "0                           4  skilled employee / official   \n",
              "1                           2  skilled employee / official   \n",
              "2                           3         unskilled - resident   \n",
              "3                           4  skilled employee / official   \n",
              "4                           4  skilled employee / official   \n",
              "\n",
              "  Has_been_employed_for_at_least Has_been_employed_for_at_most  ...  \\\n",
              "0                        7 years                           NaN  ...   \n",
              "1                         1 year                       4 years  ...   \n",
              "2                        4 years                       7 years  ...   \n",
              "3                        4 years                       7 years  ...   \n",
              "4                         1 year                       4 years  ...   \n",
              "\n",
              "                Purpose  Principal_loan_amount  \\\n",
              "0  electronic equipment                1169000   \n",
              "1  electronic equipment                5951000   \n",
              "2             education                2096000   \n",
              "3                  FF&E                7882000   \n",
              "4           new vehicle                4870000   \n",
              "\n",
              "  EMI_rate_in_percentage_of_disposable_income  \\\n",
              "0                                           4   \n",
              "1                                           2   \n",
              "2                                           2   \n",
              "3                                           2   \n",
              "4                                           3   \n",
              "\n",
              "                                            Property Has_coapplicant  \\\n",
              "0                                        real estate               0   \n",
              "1                                        real estate               0   \n",
              "2                                        real estate               0   \n",
              "3  building society savings agreement/life insurance               0   \n",
              "4                                                NaN               0   \n",
              "\n",
              "  Has_guarantor  Other_EMI_plans Number_of_existing_loans_at_this_bank  \\\n",
              "0             0              NaN                                     2   \n",
              "1             0              NaN                                     1   \n",
              "2             0              NaN                                     1   \n",
              "3             1              NaN                                     1   \n",
              "4             0              NaN                                     2   \n",
              "\n",
              "                             Loan_history  high_risk_applicant  \n",
              "0   critical/pending loans at other banks                    0  \n",
              "1  existing loans paid back duly till now                    1  \n",
              "2   critical/pending loans at other banks                    0  \n",
              "3  existing loans paid back duly till now                    0  \n",
              "4   delay in paying off loans in the past                    1  \n",
              "\n",
              "[5 rows x 27 columns]"
            ],
            "text/html": [
              "\n",
              "  <div id=\"df-7882488a-e8e9-4764-8656-4a1e31e0c261\">\n",
              "    <div class=\"colab-df-container\">\n",
              "      <div>\n",
              "<style scoped>\n",
              "    .dataframe tbody tr th:only-of-type {\n",
              "        vertical-align: middle;\n",
              "    }\n",
              "\n",
              "    .dataframe tbody tr th {\n",
              "        vertical-align: top;\n",
              "    }\n",
              "\n",
              "    .dataframe thead th {\n",
              "        text-align: right;\n",
              "    }\n",
              "</style>\n",
              "<table border=\"1\" class=\"dataframe\">\n",
              "  <thead>\n",
              "    <tr style=\"text-align: right;\">\n",
              "      <th></th>\n",
              "      <th>applicant_id</th>\n",
              "      <th>Primary_applicant_age_in_years</th>\n",
              "      <th>Gender</th>\n",
              "      <th>Marital_status</th>\n",
              "      <th>Number_of_dependents</th>\n",
              "      <th>Housing</th>\n",
              "      <th>Years_at_current_residence</th>\n",
              "      <th>Employment_status</th>\n",
              "      <th>Has_been_employed_for_at_least</th>\n",
              "      <th>Has_been_employed_for_at_most</th>\n",
              "      <th>...</th>\n",
              "      <th>Purpose</th>\n",
              "      <th>Principal_loan_amount</th>\n",
              "      <th>EMI_rate_in_percentage_of_disposable_income</th>\n",
              "      <th>Property</th>\n",
              "      <th>Has_coapplicant</th>\n",
              "      <th>Has_guarantor</th>\n",
              "      <th>Other_EMI_plans</th>\n",
              "      <th>Number_of_existing_loans_at_this_bank</th>\n",
              "      <th>Loan_history</th>\n",
              "      <th>high_risk_applicant</th>\n",
              "    </tr>\n",
              "  </thead>\n",
              "  <tbody>\n",
              "    <tr>\n",
              "      <th>0</th>\n",
              "      <td>1469590</td>\n",
              "      <td>67</td>\n",
              "      <td>male</td>\n",
              "      <td>single</td>\n",
              "      <td>1</td>\n",
              "      <td>own</td>\n",
              "      <td>4</td>\n",
              "      <td>skilled employee / official</td>\n",
              "      <td>7 years</td>\n",
              "      <td>NaN</td>\n",
              "      <td>...</td>\n",
              "      <td>electronic equipment</td>\n",
              "      <td>1169000</td>\n",
              "      <td>4</td>\n",
              "      <td>real estate</td>\n",
              "      <td>0</td>\n",
              "      <td>0</td>\n",
              "      <td>NaN</td>\n",
              "      <td>2</td>\n",
              "      <td>critical/pending loans at other banks</td>\n",
              "      <td>0</td>\n",
              "    </tr>\n",
              "    <tr>\n",
              "      <th>1</th>\n",
              "      <td>1203873</td>\n",
              "      <td>22</td>\n",
              "      <td>female</td>\n",
              "      <td>divorced/separated/married</td>\n",
              "      <td>1</td>\n",
              "      <td>own</td>\n",
              "      <td>2</td>\n",
              "      <td>skilled employee / official</td>\n",
              "      <td>1 year</td>\n",
              "      <td>4 years</td>\n",
              "      <td>...</td>\n",
              "      <td>electronic equipment</td>\n",
              "      <td>5951000</td>\n",
              "      <td>2</td>\n",
              "      <td>real estate</td>\n",
              "      <td>0</td>\n",
              "      <td>0</td>\n",
              "      <td>NaN</td>\n",
              "      <td>1</td>\n",
              "      <td>existing loans paid back duly till now</td>\n",
              "      <td>1</td>\n",
              "    </tr>\n",
              "    <tr>\n",
              "      <th>2</th>\n",
              "      <td>1432761</td>\n",
              "      <td>49</td>\n",
              "      <td>male</td>\n",
              "      <td>single</td>\n",
              "      <td>2</td>\n",
              "      <td>own</td>\n",
              "      <td>3</td>\n",
              "      <td>unskilled - resident</td>\n",
              "      <td>4 years</td>\n",
              "      <td>7 years</td>\n",
              "      <td>...</td>\n",
              "      <td>education</td>\n",
              "      <td>2096000</td>\n",
              "      <td>2</td>\n",
              "      <td>real estate</td>\n",
              "      <td>0</td>\n",
              "      <td>0</td>\n",
              "      <td>NaN</td>\n",
              "      <td>1</td>\n",
              "      <td>critical/pending loans at other banks</td>\n",
              "      <td>0</td>\n",
              "    </tr>\n",
              "    <tr>\n",
              "      <th>3</th>\n",
              "      <td>1207582</td>\n",
              "      <td>45</td>\n",
              "      <td>male</td>\n",
              "      <td>single</td>\n",
              "      <td>2</td>\n",
              "      <td>for free</td>\n",
              "      <td>4</td>\n",
              "      <td>skilled employee / official</td>\n",
              "      <td>4 years</td>\n",
              "      <td>7 years</td>\n",
              "      <td>...</td>\n",
              "      <td>FF&amp;E</td>\n",
              "      <td>7882000</td>\n",
              "      <td>2</td>\n",
              "      <td>building society savings agreement/life insurance</td>\n",
              "      <td>0</td>\n",
              "      <td>1</td>\n",
              "      <td>NaN</td>\n",
              "      <td>1</td>\n",
              "      <td>existing loans paid back duly till now</td>\n",
              "      <td>0</td>\n",
              "    </tr>\n",
              "    <tr>\n",
              "      <th>4</th>\n",
              "      <td>1674436</td>\n",
              "      <td>53</td>\n",
              "      <td>male</td>\n",
              "      <td>single</td>\n",
              "      <td>2</td>\n",
              "      <td>for free</td>\n",
              "      <td>4</td>\n",
              "      <td>skilled employee / official</td>\n",
              "      <td>1 year</td>\n",
              "      <td>4 years</td>\n",
              "      <td>...</td>\n",
              "      <td>new vehicle</td>\n",
              "      <td>4870000</td>\n",
              "      <td>3</td>\n",
              "      <td>NaN</td>\n",
              "      <td>0</td>\n",
              "      <td>0</td>\n",
              "      <td>NaN</td>\n",
              "      <td>2</td>\n",
              "      <td>delay in paying off loans in the past</td>\n",
              "      <td>1</td>\n",
              "    </tr>\n",
              "  </tbody>\n",
              "</table>\n",
              "<p>5 rows × 27 columns</p>\n",
              "</div>\n",
              "      <button class=\"colab-df-convert\" onclick=\"convertToInteractive('df-7882488a-e8e9-4764-8656-4a1e31e0c261')\"\n",
              "              title=\"Convert this dataframe to an interactive table.\"\n",
              "              style=\"display:none;\">\n",
              "        \n",
              "  <svg xmlns=\"http://www.w3.org/2000/svg\" height=\"24px\"viewBox=\"0 0 24 24\"\n",
              "       width=\"24px\">\n",
              "    <path d=\"M0 0h24v24H0V0z\" fill=\"none\"/>\n",
              "    <path d=\"M18.56 5.44l.94 2.06.94-2.06 2.06-.94-2.06-.94-.94-2.06-.94 2.06-2.06.94zm-11 1L8.5 8.5l.94-2.06 2.06-.94-2.06-.94L8.5 2.5l-.94 2.06-2.06.94zm10 10l.94 2.06.94-2.06 2.06-.94-2.06-.94-.94-2.06-.94 2.06-2.06.94z\"/><path d=\"M17.41 7.96l-1.37-1.37c-.4-.4-.92-.59-1.43-.59-.52 0-1.04.2-1.43.59L10.3 9.45l-7.72 7.72c-.78.78-.78 2.05 0 2.83L4 21.41c.39.39.9.59 1.41.59.51 0 1.02-.2 1.41-.59l7.78-7.78 2.81-2.81c.8-.78.8-2.07 0-2.86zM5.41 20L4 18.59l7.72-7.72 1.47 1.35L5.41 20z\"/>\n",
              "  </svg>\n",
              "      </button>\n",
              "      \n",
              "  <style>\n",
              "    .colab-df-container {\n",
              "      display:flex;\n",
              "      flex-wrap:wrap;\n",
              "      gap: 12px;\n",
              "    }\n",
              "\n",
              "    .colab-df-convert {\n",
              "      background-color: #E8F0FE;\n",
              "      border: none;\n",
              "      border-radius: 50%;\n",
              "      cursor: pointer;\n",
              "      display: none;\n",
              "      fill: #1967D2;\n",
              "      height: 32px;\n",
              "      padding: 0 0 0 0;\n",
              "      width: 32px;\n",
              "    }\n",
              "\n",
              "    .colab-df-convert:hover {\n",
              "      background-color: #E2EBFA;\n",
              "      box-shadow: 0px 1px 2px rgba(60, 64, 67, 0.3), 0px 1px 3px 1px rgba(60, 64, 67, 0.15);\n",
              "      fill: #174EA6;\n",
              "    }\n",
              "\n",
              "    [theme=dark] .colab-df-convert {\n",
              "      background-color: #3B4455;\n",
              "      fill: #D2E3FC;\n",
              "    }\n",
              "\n",
              "    [theme=dark] .colab-df-convert:hover {\n",
              "      background-color: #434B5C;\n",
              "      box-shadow: 0px 1px 3px 1px rgba(0, 0, 0, 0.15);\n",
              "      filter: drop-shadow(0px 1px 2px rgba(0, 0, 0, 0.3));\n",
              "      fill: #FFFFFF;\n",
              "    }\n",
              "  </style>\n",
              "\n",
              "      <script>\n",
              "        const buttonEl =\n",
              "          document.querySelector('#df-7882488a-e8e9-4764-8656-4a1e31e0c261 button.colab-df-convert');\n",
              "        buttonEl.style.display =\n",
              "          google.colab.kernel.accessAllowed ? 'block' : 'none';\n",
              "\n",
              "        async function convertToInteractive(key) {\n",
              "          const element = document.querySelector('#df-7882488a-e8e9-4764-8656-4a1e31e0c261');\n",
              "          const dataTable =\n",
              "            await google.colab.kernel.invokeFunction('convertToInteractive',\n",
              "                                                     [key], {});\n",
              "          if (!dataTable) return;\n",
              "\n",
              "          const docLinkHtml = 'Like what you see? Visit the ' +\n",
              "            '<a target=\"_blank\" href=https://colab.research.google.com/notebooks/data_table.ipynb>data table notebook</a>'\n",
              "            + ' to learn more about interactive tables.';\n",
              "          element.innerHTML = '';\n",
              "          dataTable['output_type'] = 'display_data';\n",
              "          await google.colab.output.renderOutput(dataTable, element);\n",
              "          const docLink = document.createElement('div');\n",
              "          docLink.innerHTML = docLinkHtml;\n",
              "          element.appendChild(docLink);\n",
              "        }\n",
              "      </script>\n",
              "    </div>\n",
              "  </div>\n",
              "  "
            ]
          },
          "metadata": {},
          "execution_count": 9
        }
      ]
    },
    {
      "cell_type": "code",
      "source": [
        "# Checking the dimensions\n",
        "train_df.shape"
      ],
      "metadata": {
        "colab": {
          "base_uri": "https://localhost:8080/"
        },
        "id": "BQ7MNP9c9FoO",
        "outputId": "a5fe6bfd-2a7a-4289-aa28-cc62db76f782"
      },
      "execution_count": 10,
      "outputs": [
        {
          "output_type": "execute_result",
          "data": {
            "text/plain": [
              "(1000, 27)"
            ]
          },
          "metadata": {},
          "execution_count": 10
        }
      ]
    },
    {
      "cell_type": "code",
      "source": [
        "train_df.info()"
      ],
      "metadata": {
        "colab": {
          "base_uri": "https://localhost:8080/"
        },
        "id": "N36eflIs9Flm",
        "outputId": "aea35329-b35c-4ecc-9931-c3b75e95efa1"
      },
      "execution_count": 11,
      "outputs": [
        {
          "output_type": "stream",
          "name": "stdout",
          "text": [
            "<class 'pandas.core.frame.DataFrame'>\n",
            "Int64Index: 1000 entries, 0 to 999\n",
            "Data columns (total 27 columns):\n",
            " #   Column                                                    Non-Null Count  Dtype \n",
            "---  ------                                                    --------------  ----- \n",
            " 0   applicant_id                                              1000 non-null   int64 \n",
            " 1   Primary_applicant_age_in_years                            1000 non-null   int64 \n",
            " 2   Gender                                                    1000 non-null   object\n",
            " 3   Marital_status                                            1000 non-null   object\n",
            " 4   Number_of_dependents                                      1000 non-null   int64 \n",
            " 5   Housing                                                   1000 non-null   object\n",
            " 6   Years_at_current_residence                                1000 non-null   int64 \n",
            " 7   Employment_status                                         1000 non-null   object\n",
            " 8   Has_been_employed_for_at_least                            938 non-null    object\n",
            " 9   Has_been_employed_for_at_most                             747 non-null    object\n",
            " 10  Telephone                                                 404 non-null    object\n",
            " 11  Foreign_worker                                            1000 non-null   int64 \n",
            " 12  Savings_account_balance                                   817 non-null    object\n",
            " 13  Balance_in_existing_bank_account_(lower_limit_of_bucket)  332 non-null    object\n",
            " 14  Balance_in_existing_bank_account_(upper_limit_of_bucket)  543 non-null    object\n",
            " 15  loan_application_id                                       1000 non-null   object\n",
            " 16  Months_loan_taken_for                                     1000 non-null   int64 \n",
            " 17  Purpose                                                   988 non-null    object\n",
            " 18  Principal_loan_amount                                     1000 non-null   int64 \n",
            " 19  EMI_rate_in_percentage_of_disposable_income               1000 non-null   int64 \n",
            " 20  Property                                                  846 non-null    object\n",
            " 21  Has_coapplicant                                           1000 non-null   int64 \n",
            " 22  Has_guarantor                                             1000 non-null   int64 \n",
            " 23  Other_EMI_plans                                           186 non-null    object\n",
            " 24  Number_of_existing_loans_at_this_bank                     1000 non-null   int64 \n",
            " 25  Loan_history                                              1000 non-null   object\n",
            " 26  high_risk_applicant                                       1000 non-null   int64 \n",
            "dtypes: int64(12), object(15)\n",
            "memory usage: 218.8+ KB\n"
          ]
        }
      ]
    },
    {
      "cell_type": "markdown",
      "source": [
        "By using the info function we came to know that there are few missing values in our dataset."
      ],
      "metadata": {
        "id": "qpky3y9x9cQX"
      }
    },
    {
      "cell_type": "code",
      "source": [
        "train_df.describe()"
      ],
      "metadata": {
        "colab": {
          "base_uri": "https://localhost:8080/",
          "height": 364
        },
        "id": "IfwgmrEp9Fg0",
        "outputId": "c9ead08e-20e3-47fa-e5b7-abd22d4db0a0"
      },
      "execution_count": 12,
      "outputs": [
        {
          "output_type": "execute_result",
          "data": {
            "text/plain": [
              "       applicant_id  Primary_applicant_age_in_years  Number_of_dependents  \\\n",
              "count  1.000000e+03                     1000.000000           1000.000000   \n",
              "mean   1.514763e+06                       35.546000              1.155000   \n",
              "std    2.286764e+05                       11.375469              0.362086   \n",
              "min    1.105364e+06                       19.000000              1.000000   \n",
              "25%    1.321398e+06                       27.000000              1.000000   \n",
              "50%    1.529114e+06                       33.000000              1.000000   \n",
              "75%    1.707752e+06                       42.000000              1.000000   \n",
              "max    1.903505e+06                       75.000000              2.000000   \n",
              "\n",
              "       Years_at_current_residence  Foreign_worker  Months_loan_taken_for  \\\n",
              "count                 1000.000000     1000.000000            1000.000000   \n",
              "mean                     2.845000        0.963000              20.903000   \n",
              "std                      1.103718        0.188856              12.058814   \n",
              "min                      1.000000        0.000000               4.000000   \n",
              "25%                      2.000000        1.000000              12.000000   \n",
              "50%                      3.000000        1.000000              18.000000   \n",
              "75%                      4.000000        1.000000              24.000000   \n",
              "max                      4.000000        1.000000              72.000000   \n",
              "\n",
              "       Principal_loan_amount  EMI_rate_in_percentage_of_disposable_income  \\\n",
              "count           1.000000e+03                                  1000.000000   \n",
              "mean            3.271258e+06                                     2.973000   \n",
              "std             2.822737e+06                                     1.118715   \n",
              "min             2.500000e+05                                     1.000000   \n",
              "25%             1.365500e+06                                     2.000000   \n",
              "50%             2.319500e+06                                     3.000000   \n",
              "75%             3.972250e+06                                     4.000000   \n",
              "max             1.842400e+07                                     4.000000   \n",
              "\n",
              "       Has_coapplicant  Has_guarantor  Number_of_existing_loans_at_this_bank  \\\n",
              "count      1000.000000    1000.000000                            1000.000000   \n",
              "mean          0.041000       0.052000                               1.407000   \n",
              "std           0.198389       0.222138                               0.577654   \n",
              "min           0.000000       0.000000                               1.000000   \n",
              "25%           0.000000       0.000000                               1.000000   \n",
              "50%           0.000000       0.000000                               1.000000   \n",
              "75%           0.000000       0.000000                               2.000000   \n",
              "max           1.000000       1.000000                               4.000000   \n",
              "\n",
              "       high_risk_applicant  \n",
              "count          1000.000000  \n",
              "mean              0.300000  \n",
              "std               0.458487  \n",
              "min               0.000000  \n",
              "25%               0.000000  \n",
              "50%               0.000000  \n",
              "75%               1.000000  \n",
              "max               1.000000  "
            ],
            "text/html": [
              "\n",
              "  <div id=\"df-cb83c5f8-6ea8-4867-9adc-7f85d840f406\">\n",
              "    <div class=\"colab-df-container\">\n",
              "      <div>\n",
              "<style scoped>\n",
              "    .dataframe tbody tr th:only-of-type {\n",
              "        vertical-align: middle;\n",
              "    }\n",
              "\n",
              "    .dataframe tbody tr th {\n",
              "        vertical-align: top;\n",
              "    }\n",
              "\n",
              "    .dataframe thead th {\n",
              "        text-align: right;\n",
              "    }\n",
              "</style>\n",
              "<table border=\"1\" class=\"dataframe\">\n",
              "  <thead>\n",
              "    <tr style=\"text-align: right;\">\n",
              "      <th></th>\n",
              "      <th>applicant_id</th>\n",
              "      <th>Primary_applicant_age_in_years</th>\n",
              "      <th>Number_of_dependents</th>\n",
              "      <th>Years_at_current_residence</th>\n",
              "      <th>Foreign_worker</th>\n",
              "      <th>Months_loan_taken_for</th>\n",
              "      <th>Principal_loan_amount</th>\n",
              "      <th>EMI_rate_in_percentage_of_disposable_income</th>\n",
              "      <th>Has_coapplicant</th>\n",
              "      <th>Has_guarantor</th>\n",
              "      <th>Number_of_existing_loans_at_this_bank</th>\n",
              "      <th>high_risk_applicant</th>\n",
              "    </tr>\n",
              "  </thead>\n",
              "  <tbody>\n",
              "    <tr>\n",
              "      <th>count</th>\n",
              "      <td>1.000000e+03</td>\n",
              "      <td>1000.000000</td>\n",
              "      <td>1000.000000</td>\n",
              "      <td>1000.000000</td>\n",
              "      <td>1000.000000</td>\n",
              "      <td>1000.000000</td>\n",
              "      <td>1.000000e+03</td>\n",
              "      <td>1000.000000</td>\n",
              "      <td>1000.000000</td>\n",
              "      <td>1000.000000</td>\n",
              "      <td>1000.000000</td>\n",
              "      <td>1000.000000</td>\n",
              "    </tr>\n",
              "    <tr>\n",
              "      <th>mean</th>\n",
              "      <td>1.514763e+06</td>\n",
              "      <td>35.546000</td>\n",
              "      <td>1.155000</td>\n",
              "      <td>2.845000</td>\n",
              "      <td>0.963000</td>\n",
              "      <td>20.903000</td>\n",
              "      <td>3.271258e+06</td>\n",
              "      <td>2.973000</td>\n",
              "      <td>0.041000</td>\n",
              "      <td>0.052000</td>\n",
              "      <td>1.407000</td>\n",
              "      <td>0.300000</td>\n",
              "    </tr>\n",
              "    <tr>\n",
              "      <th>std</th>\n",
              "      <td>2.286764e+05</td>\n",
              "      <td>11.375469</td>\n",
              "      <td>0.362086</td>\n",
              "      <td>1.103718</td>\n",
              "      <td>0.188856</td>\n",
              "      <td>12.058814</td>\n",
              "      <td>2.822737e+06</td>\n",
              "      <td>1.118715</td>\n",
              "      <td>0.198389</td>\n",
              "      <td>0.222138</td>\n",
              "      <td>0.577654</td>\n",
              "      <td>0.458487</td>\n",
              "    </tr>\n",
              "    <tr>\n",
              "      <th>min</th>\n",
              "      <td>1.105364e+06</td>\n",
              "      <td>19.000000</td>\n",
              "      <td>1.000000</td>\n",
              "      <td>1.000000</td>\n",
              "      <td>0.000000</td>\n",
              "      <td>4.000000</td>\n",
              "      <td>2.500000e+05</td>\n",
              "      <td>1.000000</td>\n",
              "      <td>0.000000</td>\n",
              "      <td>0.000000</td>\n",
              "      <td>1.000000</td>\n",
              "      <td>0.000000</td>\n",
              "    </tr>\n",
              "    <tr>\n",
              "      <th>25%</th>\n",
              "      <td>1.321398e+06</td>\n",
              "      <td>27.000000</td>\n",
              "      <td>1.000000</td>\n",
              "      <td>2.000000</td>\n",
              "      <td>1.000000</td>\n",
              "      <td>12.000000</td>\n",
              "      <td>1.365500e+06</td>\n",
              "      <td>2.000000</td>\n",
              "      <td>0.000000</td>\n",
              "      <td>0.000000</td>\n",
              "      <td>1.000000</td>\n",
              "      <td>0.000000</td>\n",
              "    </tr>\n",
              "    <tr>\n",
              "      <th>50%</th>\n",
              "      <td>1.529114e+06</td>\n",
              "      <td>33.000000</td>\n",
              "      <td>1.000000</td>\n",
              "      <td>3.000000</td>\n",
              "      <td>1.000000</td>\n",
              "      <td>18.000000</td>\n",
              "      <td>2.319500e+06</td>\n",
              "      <td>3.000000</td>\n",
              "      <td>0.000000</td>\n",
              "      <td>0.000000</td>\n",
              "      <td>1.000000</td>\n",
              "      <td>0.000000</td>\n",
              "    </tr>\n",
              "    <tr>\n",
              "      <th>75%</th>\n",
              "      <td>1.707752e+06</td>\n",
              "      <td>42.000000</td>\n",
              "      <td>1.000000</td>\n",
              "      <td>4.000000</td>\n",
              "      <td>1.000000</td>\n",
              "      <td>24.000000</td>\n",
              "      <td>3.972250e+06</td>\n",
              "      <td>4.000000</td>\n",
              "      <td>0.000000</td>\n",
              "      <td>0.000000</td>\n",
              "      <td>2.000000</td>\n",
              "      <td>1.000000</td>\n",
              "    </tr>\n",
              "    <tr>\n",
              "      <th>max</th>\n",
              "      <td>1.903505e+06</td>\n",
              "      <td>75.000000</td>\n",
              "      <td>2.000000</td>\n",
              "      <td>4.000000</td>\n",
              "      <td>1.000000</td>\n",
              "      <td>72.000000</td>\n",
              "      <td>1.842400e+07</td>\n",
              "      <td>4.000000</td>\n",
              "      <td>1.000000</td>\n",
              "      <td>1.000000</td>\n",
              "      <td>4.000000</td>\n",
              "      <td>1.000000</td>\n",
              "    </tr>\n",
              "  </tbody>\n",
              "</table>\n",
              "</div>\n",
              "      <button class=\"colab-df-convert\" onclick=\"convertToInteractive('df-cb83c5f8-6ea8-4867-9adc-7f85d840f406')\"\n",
              "              title=\"Convert this dataframe to an interactive table.\"\n",
              "              style=\"display:none;\">\n",
              "        \n",
              "  <svg xmlns=\"http://www.w3.org/2000/svg\" height=\"24px\"viewBox=\"0 0 24 24\"\n",
              "       width=\"24px\">\n",
              "    <path d=\"M0 0h24v24H0V0z\" fill=\"none\"/>\n",
              "    <path d=\"M18.56 5.44l.94 2.06.94-2.06 2.06-.94-2.06-.94-.94-2.06-.94 2.06-2.06.94zm-11 1L8.5 8.5l.94-2.06 2.06-.94-2.06-.94L8.5 2.5l-.94 2.06-2.06.94zm10 10l.94 2.06.94-2.06 2.06-.94-2.06-.94-.94-2.06-.94 2.06-2.06.94z\"/><path d=\"M17.41 7.96l-1.37-1.37c-.4-.4-.92-.59-1.43-.59-.52 0-1.04.2-1.43.59L10.3 9.45l-7.72 7.72c-.78.78-.78 2.05 0 2.83L4 21.41c.39.39.9.59 1.41.59.51 0 1.02-.2 1.41-.59l7.78-7.78 2.81-2.81c.8-.78.8-2.07 0-2.86zM5.41 20L4 18.59l7.72-7.72 1.47 1.35L5.41 20z\"/>\n",
              "  </svg>\n",
              "      </button>\n",
              "      \n",
              "  <style>\n",
              "    .colab-df-container {\n",
              "      display:flex;\n",
              "      flex-wrap:wrap;\n",
              "      gap: 12px;\n",
              "    }\n",
              "\n",
              "    .colab-df-convert {\n",
              "      background-color: #E8F0FE;\n",
              "      border: none;\n",
              "      border-radius: 50%;\n",
              "      cursor: pointer;\n",
              "      display: none;\n",
              "      fill: #1967D2;\n",
              "      height: 32px;\n",
              "      padding: 0 0 0 0;\n",
              "      width: 32px;\n",
              "    }\n",
              "\n",
              "    .colab-df-convert:hover {\n",
              "      background-color: #E2EBFA;\n",
              "      box-shadow: 0px 1px 2px rgba(60, 64, 67, 0.3), 0px 1px 3px 1px rgba(60, 64, 67, 0.15);\n",
              "      fill: #174EA6;\n",
              "    }\n",
              "\n",
              "    [theme=dark] .colab-df-convert {\n",
              "      background-color: #3B4455;\n",
              "      fill: #D2E3FC;\n",
              "    }\n",
              "\n",
              "    [theme=dark] .colab-df-convert:hover {\n",
              "      background-color: #434B5C;\n",
              "      box-shadow: 0px 1px 3px 1px rgba(0, 0, 0, 0.15);\n",
              "      filter: drop-shadow(0px 1px 2px rgba(0, 0, 0, 0.3));\n",
              "      fill: #FFFFFF;\n",
              "    }\n",
              "  </style>\n",
              "\n",
              "      <script>\n",
              "        const buttonEl =\n",
              "          document.querySelector('#df-cb83c5f8-6ea8-4867-9adc-7f85d840f406 button.colab-df-convert');\n",
              "        buttonEl.style.display =\n",
              "          google.colab.kernel.accessAllowed ? 'block' : 'none';\n",
              "\n",
              "        async function convertToInteractive(key) {\n",
              "          const element = document.querySelector('#df-cb83c5f8-6ea8-4867-9adc-7f85d840f406');\n",
              "          const dataTable =\n",
              "            await google.colab.kernel.invokeFunction('convertToInteractive',\n",
              "                                                     [key], {});\n",
              "          if (!dataTable) return;\n",
              "\n",
              "          const docLinkHtml = 'Like what you see? Visit the ' +\n",
              "            '<a target=\"_blank\" href=https://colab.research.google.com/notebooks/data_table.ipynb>data table notebook</a>'\n",
              "            + ' to learn more about interactive tables.';\n",
              "          element.innerHTML = '';\n",
              "          dataTable['output_type'] = 'display_data';\n",
              "          await google.colab.output.renderOutput(dataTable, element);\n",
              "          const docLink = document.createElement('div');\n",
              "          docLink.innerHTML = docLinkHtml;\n",
              "          element.appendChild(docLink);\n",
              "        }\n",
              "      </script>\n",
              "    </div>\n",
              "  </div>\n",
              "  "
            ]
          },
          "metadata": {},
          "execution_count": 12
        }
      ]
    },
    {
      "cell_type": "code",
      "source": [
        "# Renaming few columns for better understanding\n",
        "\n",
        "train_df.rename(columns={'Has_been_employed_for_at_least':'empd_for_atleast','Has_been_employed_for_at_most ':'empd_for_atmost','EMI_rate_in_percentage_of_disposable_income':'EMI_rate_prcnt','Balance_in_existing_bank_account_(lower_limit_of_bucket)':'A/c balance lower','Balance_in_existing_bank_account_(upper_limit_of_bucket)':'A/c balance upper'},inplace = True)\n",
        "train_df.columns  "
      ],
      "metadata": {
        "colab": {
          "base_uri": "https://localhost:8080/"
        },
        "id": "5bFHqo0u9Fej",
        "outputId": "6fec8573-31fc-4001-bfed-c456920d3274"
      },
      "execution_count": 13,
      "outputs": [
        {
          "output_type": "execute_result",
          "data": {
            "text/plain": [
              "Index(['applicant_id', 'Primary_applicant_age_in_years', 'Gender',\n",
              "       'Marital_status', 'Number_of_dependents', 'Housing',\n",
              "       'Years_at_current_residence', 'Employment_status', 'empd_for_atleast',\n",
              "       'Has_been_employed_for_at_most', 'Telephone', 'Foreign_worker',\n",
              "       'Savings_account_balance', 'A/c balance lower', 'A/c balance upper',\n",
              "       'loan_application_id', 'Months_loan_taken_for', 'Purpose',\n",
              "       'Principal_loan_amount', 'EMI_rate_prcnt', 'Property',\n",
              "       'Has_coapplicant', 'Has_guarantor', 'Other_EMI_plans',\n",
              "       'Number_of_existing_loans_at_this_bank', 'Loan_history',\n",
              "       'high_risk_applicant'],\n",
              "      dtype='object')"
            ]
          },
          "metadata": {},
          "execution_count": 13
        }
      ]
    },
    {
      "cell_type": "code",
      "source": [
        "# Checking null value count\n",
        "\n",
        "train_df.isnull().sum()"
      ],
      "metadata": {
        "colab": {
          "base_uri": "https://localhost:8080/"
        },
        "id": "xbJb8B159Fb4",
        "outputId": "9e928da6-bc78-4a91-c522-2a3737d572d9"
      },
      "execution_count": 14,
      "outputs": [
        {
          "output_type": "execute_result",
          "data": {
            "text/plain": [
              "applicant_id                               0\n",
              "Primary_applicant_age_in_years             0\n",
              "Gender                                     0\n",
              "Marital_status                             0\n",
              "Number_of_dependents                       0\n",
              "Housing                                    0\n",
              "Years_at_current_residence                 0\n",
              "Employment_status                          0\n",
              "empd_for_atleast                          62\n",
              "Has_been_employed_for_at_most            253\n",
              "Telephone                                596\n",
              "Foreign_worker                             0\n",
              "Savings_account_balance                  183\n",
              "A/c balance lower                        668\n",
              "A/c balance upper                        457\n",
              "loan_application_id                        0\n",
              "Months_loan_taken_for                      0\n",
              "Purpose                                   12\n",
              "Principal_loan_amount                      0\n",
              "EMI_rate_prcnt                             0\n",
              "Property                                 154\n",
              "Has_coapplicant                            0\n",
              "Has_guarantor                              0\n",
              "Other_EMI_plans                          814\n",
              "Number_of_existing_loans_at_this_bank      0\n",
              "Loan_history                               0\n",
              "high_risk_applicant                        0\n",
              "dtype: int64"
            ]
          },
          "metadata": {},
          "execution_count": 14
        }
      ]
    },
    {
      "cell_type": "markdown",
      "source": [
        "# **Handling missing values**"
      ],
      "metadata": {
        "id": "pNHC7jJ-CX6F"
      }
    },
    {
      "cell_type": "code",
      "source": [
        "# Filling the 'NaN' field from the 'empd_for_atleast_' column to '0 year'\n",
        "\n",
        "train_df['empd_for_atleast'] =  train_df['empd_for_atleast'].fillna('0 year')"
      ],
      "metadata": {
        "id": "VrNosvyE9FZA"
      },
      "execution_count": 15,
      "outputs": []
    },
    {
      "cell_type": "code",
      "source": [
        "# Filling the 'NaN' field from the 'Has_been_employed_for_at_most' column to '7+ year'\n",
        "\n",
        "train_df['Has_been_employed_for_at_most'] =  train_df['Has_been_employed_for_at_most'].fillna('7+ years')"
      ],
      "metadata": {
        "id": "49IY5Vif9FWn"
      },
      "execution_count": 16,
      "outputs": []
    },
    {
      "cell_type": "code",
      "source": [
        "# define conditions and values\n",
        "conditions = [train_df['Housing'] == 'own',train_df['Housing']=='rent',train_df['Housing']=='for free']\n",
        "values = ['real estate','car or other','building society savings agreement/life insurance']\n",
        "\n",
        "# apply logic where Property is null\n",
        "train_df['Property'] = np.where(train_df['Property'].isnull(),\n",
        "                              np.select(conditions, values),\n",
        "                              train_df['Property'])"
      ],
      "metadata": {
        "id": "KBVcnFEL9FUW"
      },
      "execution_count": 17,
      "outputs": []
    },
    {
      "cell_type": "code",
      "source": [
        "# Filling the 'NaN' values in 'Savings_account_balance' to 'Low'\n",
        "\n",
        "train_df['Savings_account_balance'] = train_df['Savings_account_balance'].fillna('Low')"
      ],
      "metadata": {
        "id": "HZKdlzS69FSC"
      },
      "execution_count": 18,
      "outputs": []
    },
    {
      "cell_type": "markdown",
      "source": [
        "Dropping the columns which are not very useful for the model"
      ],
      "metadata": {
        "id": "jM5OLui8CmAl"
      }
    },
    {
      "cell_type": "code",
      "source": [
        "train_df.drop(['Other_EMI_plans'],axis = 1 ,inplace = True)"
      ],
      "metadata": {
        "id": "BaMk9JiJ9FM4"
      },
      "execution_count": 19,
      "outputs": []
    },
    {
      "cell_type": "code",
      "source": [
        "train_df.drop(['Telephone'],axis = 1 ,inplace = True)"
      ],
      "metadata": {
        "id": "mCqi8tSx9FKs"
      },
      "execution_count": 20,
      "outputs": []
    },
    {
      "cell_type": "code",
      "source": [
        "train_df.dropna(subset=['Purpose'], inplace=True)"
      ],
      "metadata": {
        "id": "nBCe5Lbg9FIU"
      },
      "execution_count": 21,
      "outputs": []
    },
    {
      "cell_type": "code",
      "source": [
        "# Filling '0' in 'A/c balance lower' where field is 'NaN'\n",
        "train_df['A/c balance lower'] = train_df['A/c balance lower'].fillna('0')"
      ],
      "metadata": {
        "id": "sDEzMrW39FF2"
      },
      "execution_count": 22,
      "outputs": []
    },
    {
      "cell_type": "code",
      "source": [
        "# Filling '0' in 'A/c balance upper' where field is 'NaN'\n",
        "train_df['A/c balance upper'] = train_df['A/c balance upper'].fillna('0')"
      ],
      "metadata": {
        "id": "eZWVhWna9FDq"
      },
      "execution_count": 23,
      "outputs": []
    },
    {
      "cell_type": "code",
      "source": [
        "# Final check for any null values or untreated values\n",
        "train_df.isnull().sum()"
      ],
      "metadata": {
        "colab": {
          "base_uri": "https://localhost:8080/"
        },
        "id": "JFFT-rrS9FBZ",
        "outputId": "76ceed28-2d4f-42ec-ff92-41b156ee7ae4"
      },
      "execution_count": 24,
      "outputs": [
        {
          "output_type": "execute_result",
          "data": {
            "text/plain": [
              "applicant_id                             0\n",
              "Primary_applicant_age_in_years           0\n",
              "Gender                                   0\n",
              "Marital_status                           0\n",
              "Number_of_dependents                     0\n",
              "Housing                                  0\n",
              "Years_at_current_residence               0\n",
              "Employment_status                        0\n",
              "empd_for_atleast                         0\n",
              "Has_been_employed_for_at_most            0\n",
              "Foreign_worker                           0\n",
              "Savings_account_balance                  0\n",
              "A/c balance lower                        0\n",
              "A/c balance upper                        0\n",
              "loan_application_id                      0\n",
              "Months_loan_taken_for                    0\n",
              "Purpose                                  0\n",
              "Principal_loan_amount                    0\n",
              "EMI_rate_prcnt                           0\n",
              "Property                                 0\n",
              "Has_coapplicant                          0\n",
              "Has_guarantor                            0\n",
              "Number_of_existing_loans_at_this_bank    0\n",
              "Loan_history                             0\n",
              "high_risk_applicant                      0\n",
              "dtype: int64"
            ]
          },
          "metadata": {},
          "execution_count": 24
        }
      ]
    },
    {
      "cell_type": "code",
      "source": [
        "train_df.info()"
      ],
      "metadata": {
        "colab": {
          "base_uri": "https://localhost:8080/"
        },
        "id": "fE6-sv0h9E_9",
        "outputId": "6bfeee74-773e-4541-8bf1-17e7b07b4ba6"
      },
      "execution_count": 25,
      "outputs": [
        {
          "output_type": "stream",
          "name": "stdout",
          "text": [
            "<class 'pandas.core.frame.DataFrame'>\n",
            "Int64Index: 988 entries, 0 to 999\n",
            "Data columns (total 25 columns):\n",
            " #   Column                                 Non-Null Count  Dtype \n",
            "---  ------                                 --------------  ----- \n",
            " 0   applicant_id                           988 non-null    int64 \n",
            " 1   Primary_applicant_age_in_years         988 non-null    int64 \n",
            " 2   Gender                                 988 non-null    object\n",
            " 3   Marital_status                         988 non-null    object\n",
            " 4   Number_of_dependents                   988 non-null    int64 \n",
            " 5   Housing                                988 non-null    object\n",
            " 6   Years_at_current_residence             988 non-null    int64 \n",
            " 7   Employment_status                      988 non-null    object\n",
            " 8   empd_for_atleast                       988 non-null    object\n",
            " 9   Has_been_employed_for_at_most          988 non-null    object\n",
            " 10  Foreign_worker                         988 non-null    int64 \n",
            " 11  Savings_account_balance                988 non-null    object\n",
            " 12  A/c balance lower                      988 non-null    object\n",
            " 13  A/c balance upper                      988 non-null    object\n",
            " 14  loan_application_id                    988 non-null    object\n",
            " 15  Months_loan_taken_for                  988 non-null    int64 \n",
            " 16  Purpose                                988 non-null    object\n",
            " 17  Principal_loan_amount                  988 non-null    int64 \n",
            " 18  EMI_rate_prcnt                         988 non-null    int64 \n",
            " 19  Property                               988 non-null    object\n",
            " 20  Has_coapplicant                        988 non-null    int64 \n",
            " 21  Has_guarantor                          988 non-null    int64 \n",
            " 22  Number_of_existing_loans_at_this_bank  988 non-null    int64 \n",
            " 23  Loan_history                           988 non-null    object\n",
            " 24  high_risk_applicant                    988 non-null    int64 \n",
            "dtypes: int64(12), object(13)\n",
            "memory usage: 200.7+ KB\n"
          ]
        }
      ]
    },
    {
      "cell_type": "markdown",
      "source": [
        "# **Exploratory Data Analysis**"
      ],
      "metadata": {
        "id": "92Zn3setC5f2"
      }
    },
    {
      "cell_type": "code",
      "source": [
        "# Correlation matrix\n",
        "\n",
        "plt.figure(figsize=(15,10))\n",
        "sns.heatmap(train_df.corr(),annot=True)\n",
        "plt.show()"
      ],
      "metadata": {
        "colab": {
          "base_uri": "https://localhost:8080/",
          "height": 784
        },
        "id": "GrsTJWHK9E9A",
        "outputId": "0b87432b-36e7-453b-c794-f8887417ee54"
      },
      "execution_count": 26,
      "outputs": [
        {
          "output_type": "display_data",
          "data": {
            "text/plain": [
              "<Figure size 1080x720 with 2 Axes>"
            ],
            "image/png": "[encoded data removed]"
          },
          "metadata": {
            "needs_background": "light"
          }
        }
      ]
    },
    {
      "cell_type": "code",
      "source": [
        "# Counting observations from 'high_risk_applicants'\n",
        "train_df[\"high_risk_applicant\"].value_counts()"
      ],
      "metadata": {
        "colab": {
          "base_uri": "https://localhost:8080/"
        },
        "id": "dgIAjtwY9E6U",
        "outputId": "35108014-ddb7-4ee0-eeeb-e31802596884"
      },
      "execution_count": 27,
      "outputs": [
        {
          "output_type": "execute_result",
          "data": {
            "text/plain": [
              "0    693\n",
              "1    295\n",
              "Name: high_risk_applicant, dtype: int64"
            ]
          },
          "metadata": {},
          "execution_count": 27
        }
      ]
    },
    {
      "cell_type": "code",
      "source": [
        "# Storing observations from 'high_risk_applicants'\n",
        "temp = train_df[\"high_risk_applicant\"].value_counts()\n",
        "df = pd.DataFrame({'high.risk.applicant': temp.index,'values': temp.values})\n",
        "\n",
        "# Plotting to check Low credit risk vs High credit risk applicants\n",
        "\n",
        "plt.figure(figsize = (6,6))\n",
        "plt.title('Applicant - target value - data unbalance\\n (Low credit risk = 0, High credit risk = 1)')\n",
        "sns.set_color_codes(\"pastel\")\n",
        "sns.barplot(x = 'high.risk.applicant', y=\"values\", data=df)\n",
        "locs, labels = plt.xticks()\n",
        "plt.show()"
      ],
      "metadata": {
        "colab": {
          "base_uri": "https://localhost:8080/",
          "height": 419
        },
        "id": "uCFpr78E9E3k",
        "outputId": "a2af89a9-768f-44da-92d7-bd6c11a6c4a2"
      },
      "execution_count": 28,
      "outputs": [
        {
          "output_type": "display_data",
          "data": {
            "text/plain": [
              "<Figure size 432x432 with 1 Axes>"
            ],
            "image/png": "[encoded data removed]"
          },
          "metadata": {
            "needs_background": "light"
          }
        }
      ]
    },
    {
      "cell_type": "code",
      "source": [
        "# Count based on applicants gender\n",
        "train_df['Gender'].value_counts()"
      ],
      "metadata": {
        "colab": {
          "base_uri": "https://localhost:8080/"
        },
        "id": "412Ka79t9E1E",
        "outputId": "b1d01c6c-1d1b-4489-8fa9-ac8ab11fe215"
      },
      "execution_count": 29,
      "outputs": [
        {
          "output_type": "execute_result",
          "data": {
            "text/plain": [
              "male      681\n",
              "female    307\n",
              "Name: Gender, dtype: int64"
            ]
          },
          "metadata": {},
          "execution_count": 29
        }
      ]
    },
    {
      "cell_type": "code",
      "source": [
        "# Pie-chart to show the amount of male applicants vs female applicants\n",
        "\n",
        "fig = plt.figure(figsize=(5,5), dpi=100)\n",
        "train_df['Gender'].value_counts().plot(kind='pie',  autopct='%1.0f%%', startangle=360, fontsize=12)"
      ],
      "metadata": {
        "colab": {
          "base_uri": "https://localhost:8080/",
          "height": 431
        },
        "id": "vvpTxtqm9Eyn",
        "outputId": "618536ae-7ceb-4f9f-8872-96eabfbfb8fa"
      },
      "execution_count": 30,
      "outputs": [
        {
          "output_type": "execute_result",
          "data": {
            "text/plain": [
              "<matplotlib.axes._subplots.AxesSubplot at 0x7f09ec301b50>"
            ]
          },
          "metadata": {},
          "execution_count": 30
        },
        {
          "output_type": "display_data",
          "data": {
            "text/plain": [
              "<Figure size 500x500 with 1 Axes>"
            ],
            "image/png": "[encoded data removed]"
          },
          "metadata": {}
        }
      ]
    },
    {
      "cell_type": "code",
      "source": [
        "# Marital status of each applicant\n",
        "train_df[\"Marital_status\"].value_counts()"
      ],
      "metadata": {
        "colab": {
          "base_uri": "https://localhost:8080/"
        },
        "id": "7ygw34fz9Ewb",
        "outputId": "ea03a79d-5816-425d-f914-80cc9e3a8c6c"
      },
      "execution_count": 31,
      "outputs": [
        {
          "output_type": "execute_result",
          "data": {
            "text/plain": [
              "single                        540\n",
              "divorced/separated/married    307\n",
              "married/widowed                92\n",
              "divorced/separated             49\n",
              "Name: Marital_status, dtype: int64"
            ]
          },
          "metadata": {},
          "execution_count": 31
        }
      ]
    },
    {
      "cell_type": "code",
      "source": [
        "# Check where the applicant has their own/rent/for free house\n",
        "train_df[\"Housing\"].value_counts()"
      ],
      "metadata": {
        "colab": {
          "base_uri": "https://localhost:8080/"
        },
        "id": "sT9aTJRR9EuJ",
        "outputId": "c2f30f0c-5cff-435b-e736-2bbb1d5067f2"
      },
      "execution_count": 32,
      "outputs": [
        {
          "output_type": "execute_result",
          "data": {
            "text/plain": [
              "own         705\n",
              "rent        179\n",
              "for free    104\n",
              "Name: Housing, dtype: int64"
            ]
          },
          "metadata": {},
          "execution_count": 32
        }
      ]
    },
    {
      "cell_type": "code",
      "source": [
        "# Plotting room_type and neighbourhood_group on a bar-graph\n",
        "\n",
        "plt.figure(figsize=(10,5))\n",
        "sns.countplot(data = train_df, x = 'Housing', hue = 'Marital_status')"
      ],
      "metadata": {
        "colab": {
          "base_uri": "https://localhost:8080/",
          "height": 351
        },
        "id": "ODkUMtGV9Erg",
        "outputId": "3fe859f4-d792-42f9-b95f-8e03239a42ff"
      },
      "execution_count": 33,
      "outputs": [
        {
          "output_type": "execute_result",
          "data": {
            "text/plain": [
              "<matplotlib.axes._subplots.AxesSubplot at 0x7f09f0a17510>"
            ]
          },
          "metadata": {},
          "execution_count": 33
        },
        {
          "output_type": "display_data",
          "data": {
            "text/plain": [
              "<Figure size 720x360 with 1 Axes>"
            ],
            "image/png": "[encoded data removed]"
          },
          "metadata": {
            "needs_background": "light"
          }
        }
      ]
    },
    {
      "cell_type": "code",
      "source": [
        "# Count number of dependents applicants\n",
        "train_df[\"Number_of_dependents\"].value_counts()"
      ],
      "metadata": {
        "colab": {
          "base_uri": "https://localhost:8080/"
        },
        "id": "e45_r06e9EpS",
        "outputId": "b4884f5b-16a3-4a64-a72d-7239a74153e2"
      },
      "execution_count": 34,
      "outputs": [
        {
          "output_type": "execute_result",
          "data": {
            "text/plain": [
              "1    835\n",
              "2    153\n",
              "Name: Number_of_dependents, dtype: int64"
            ]
          },
          "metadata": {},
          "execution_count": 34
        }
      ]
    },
    {
      "cell_type": "code",
      "source": [
        "# Count how many years an applicant has been in same residence\n",
        "train_df[\"Years_at_current_residence\"].value_counts()"
      ],
      "metadata": {
        "colab": {
          "base_uri": "https://localhost:8080/"
        },
        "id": "JMIUAYWv9EnC",
        "outputId": "1b88f22e-baeb-4da1-9b8a-8f6299419e10"
      },
      "execution_count": 35,
      "outputs": [
        {
          "output_type": "execute_result",
          "data": {
            "text/plain": [
              "4    408\n",
              "2    306\n",
              "3    144\n",
              "1    130\n",
              "Name: Years_at_current_residence, dtype: int64"
            ]
          },
          "metadata": {},
          "execution_count": 35
        }
      ]
    },
    {
      "cell_type": "code",
      "source": [
        "# Check the employement status of each applicant\n",
        "train_df[\"Employment_status\"].value_counts()"
      ],
      "metadata": {
        "colab": {
          "base_uri": "https://localhost:8080/"
        },
        "id": "mP3iasyW9EkR",
        "outputId": "8215c2d4-1853-4e3a-a2f9-480e14b9faaa"
      },
      "execution_count": 36,
      "outputs": [
        {
          "output_type": "execute_result",
          "data": {
            "text/plain": [
              "skilled employee / official                                         629\n",
              "unskilled - resident                                                199\n",
              "management / self-employed / highly qualified employee / officer    139\n",
              "unemployed / unskilled - non-resident                                21\n",
              "Name: Employment_status, dtype: int64"
            ]
          },
          "metadata": {},
          "execution_count": 36
        }
      ]
    },
    {
      "cell_type": "code",
      "source": [
        "# Box plot showing the marital status and employement status of each applicant\n",
        "\n",
        "def boxplot_variation(feature1, feature2, feature3, width=16):\n",
        "    fig, ax1 = plt.subplots(ncols=1, figsize=(width,6))\n",
        "    s = sns.boxplot(ax = ax1, x=feature1, y=feature2, hue=feature3,\n",
        "                data=train_df, palette=\"PRGn\",showfliers=False)\n",
        "    s.set_xticklabels(s.get_xticklabels(),rotation=90)\n",
        "    plt.show()"
      ],
      "metadata": {
        "id": "yUks8aQ39Eh5"
      },
      "execution_count": 37,
      "outputs": []
    },
    {
      "cell_type": "code",
      "source": [
        "# Boxplots with age distribution grouped by education and marriage.\n",
        "\n",
        "boxplot_variation('Employment_status','Primary_applicant_age_in_years', 'Marital_status')"
      ],
      "metadata": {
        "colab": {
          "base_uri": "https://localhost:8080/",
          "height": 706
        },
        "id": "-Z41Q3vN9EfZ",
        "outputId": "c72bbad7-b135-4b8f-fa20-24f8491d0dfb"
      },
      "execution_count": 38,
      "outputs": [
        {
          "output_type": "display_data",
          "data": {
            "text/plain": [
              "<Figure size 1152x432 with 1 Axes>"
            ],
            "image/png": "[encoded data removed]"
          },
          "metadata": {
            "needs_background": "light"
          }
        }
      ]
    },
    {
      "cell_type": "code",
      "source": [
        "# Check the applicant having minimum employement years of experience\n",
        "train_df[\"empd_for_atleast\"].value_counts()"
      ],
      "metadata": {
        "colab": {
          "base_uri": "https://localhost:8080/"
        },
        "id": "EB8DR9yI9Ec4",
        "outputId": "9e17358a-fa2e-42c2-b419-05e8a63ecccb"
      },
      "execution_count": 39,
      "outputs": [
        {
          "output_type": "execute_result",
          "data": {
            "text/plain": [
              "1 year     335\n",
              "7 years    249\n",
              "0 year     230\n",
              "4 years    174\n",
              "Name: empd_for_atleast, dtype: int64"
            ]
          },
          "metadata": {},
          "execution_count": 39
        }
      ]
    },
    {
      "cell_type": "code",
      "source": [
        "# Check the applicant having maximum employement years of experience\n",
        "train_df[\"Has_been_employed_for_at_most\"].value_counts()"
      ],
      "metadata": {
        "colab": {
          "base_uri": "https://localhost:8080/"
        },
        "id": "F5KoCHU99Eal",
        "outputId": "3c4e1e90-905b-47bd-b47b-4ef8fc4d463a"
      },
      "execution_count": 40,
      "outputs": [
        {
          "output_type": "execute_result",
          "data": {
            "text/plain": [
              "4 years     335\n",
              "7+ years    249\n",
              "7 years     174\n",
              "1 year      172\n",
              "0 year       58\n",
              "Name: Has_been_employed_for_at_most, dtype: int64"
            ]
          },
          "metadata": {},
          "execution_count": 40
        }
      ]
    },
    {
      "cell_type": "code",
      "source": [
        "# Purpose of each applicant to get the loan\n",
        "train_df[\"Purpose\"].value_counts()"
      ],
      "metadata": {
        "colab": {
          "base_uri": "https://localhost:8080/"
        },
        "id": "gqSKsEfy9EYJ",
        "outputId": "7a2ef25e-a3c5-4a45-fc9c-8daa3bad6556"
      },
      "execution_count": 41,
      "outputs": [
        {
          "output_type": "execute_result",
          "data": {
            "text/plain": [
              "electronic equipment    280\n",
              "new vehicle             234\n",
              "FF&E                    181\n",
              "used vehicle            103\n",
              "business                 97\n",
              "education                50\n",
              "repair costs             22\n",
              "domestic appliances      12\n",
              "career development        9\n",
              "Name: Purpose, dtype: int64"
            ]
          },
          "metadata": {},
          "execution_count": 41
        }
      ]
    },
    {
      "cell_type": "code",
      "source": [
        "# Property owned by each applicant\n",
        "train_df[\"Property\"].value_counts()"
      ],
      "metadata": {
        "colab": {
          "base_uri": "https://localhost:8080/"
        },
        "id": "sw82Uf6T9EVt",
        "outputId": "90d9376e-a87e-4caf-db10-a5faf90695fe"
      },
      "execution_count": 42,
      "outputs": [
        {
          "output_type": "execute_result",
          "data": {
            "text/plain": [
              "car or other                                         345\n",
              "building society savings agreement/life insurance    331\n",
              "real estate                                          312\n",
              "Name: Property, dtype: int64"
            ]
          },
          "metadata": {},
          "execution_count": 42
        }
      ]
    },
    {
      "cell_type": "code",
      "source": [
        "# Check for any existing loan to be payed by each applicant\n",
        "train_df[\"Number_of_existing_loans_at_this_bank\"].value_counts()"
      ],
      "metadata": {
        "colab": {
          "base_uri": "https://localhost:8080/"
        },
        "id": "VqyhxBI49ETQ",
        "outputId": "be7cf3b9-e090-449b-ac8c-4085891e65ff"
      },
      "execution_count": 43,
      "outputs": [
        {
          "output_type": "execute_result",
          "data": {
            "text/plain": [
              "1    627\n",
              "2    327\n",
              "3     28\n",
              "4      6\n",
              "Name: Number_of_existing_loans_at_this_bank, dtype: int64"
            ]
          },
          "metadata": {},
          "execution_count": 43
        }
      ]
    },
    {
      "cell_type": "code",
      "source": [
        "# Let's show the boxplots with credit amount limit distribution grouped by age and sex.\n",
        "\n",
        "boxplot_variation('Primary_applicant_age_in_years','Principal_loan_amount', 'Gender',16)"
      ],
      "metadata": {
        "colab": {
          "base_uri": "https://localhost:8080/",
          "height": 403
        },
        "id": "3KFqIKGy9EQt",
        "outputId": "bb7a71eb-59d9-4748-9f03-8a223f454b52"
      },
      "execution_count": 44,
      "outputs": [
        {
          "output_type": "display_data",
          "data": {
            "text/plain": [
              "<Figure size 1152x432 with 1 Axes>"
            ],
            "image/png": "[encoded data removed]"
          },
          "metadata": {
            "needs_background": "light"
          }
        }
      ]
    },
    {
      "cell_type": "code",
      "source": [
        "# Check high risk applicants\n",
        "train_df[\"high_risk_applicant\"].value_counts()"
      ],
      "metadata": {
        "colab": {
          "base_uri": "https://localhost:8080/"
        },
        "id": "5Yv9Mao89EOg",
        "outputId": "9df6217b-bd81-45ba-8d70-5fd488b7141c"
      },
      "execution_count": 45,
      "outputs": [
        {
          "output_type": "execute_result",
          "data": {
            "text/plain": [
              "0    693\n",
              "1    295\n",
              "Name: high_risk_applicant, dtype: int64"
            ]
          },
          "metadata": {},
          "execution_count": 45
        }
      ]
    },
    {
      "cell_type": "code",
      "source": [
        "# Check high risk applicants based on their age group\n",
        "\n",
        "plt.figure(figsize=(10,10))\n",
        "ax = sns.boxplot(x=\"high_risk_applicant\", y=\"Primary_applicant_age_in_years\", data=train_df)"
      ],
      "metadata": {
        "colab": {
          "base_uri": "https://localhost:8080/",
          "height": 606
        },
        "id": "sStbWNoi9EL0",
        "outputId": "2718431f-a1c1-4921-f718-f5e15e1b356c"
      },
      "execution_count": 46,
      "outputs": [
        {
          "output_type": "display_data",
          "data": {
            "text/plain": [
              "<Figure size 720x720 with 1 Axes>"
            ],
            "image/png": "[encoded data removed]"
          },
          "metadata": {
            "needs_background": "light"
          }
        }
      ]
    },
    {
      "cell_type": "code",
      "source": [
        "#Let's check the credit limit distribution vs. sex. For the sex, 1 stands for male and 2 for female\n",
        "\n",
        "fig, (ax1, ax2) = plt.subplots(ncols=2, figsize=(12,6))\n",
        "s = sns.boxplot(ax = ax1, x=\"Gender\", y=\"Principal_loan_amount\", hue=\"Gender\",data=train_df, palette=\"PRGn\",showfliers=True)\n",
        "s = sns.boxplot(ax = ax2, x=\"Gender\", y=\"Principal_loan_amount\", hue=\"Gender\",data=train_df, palette=\"PRGn\",showfliers=False)\n",
        "plt.show();"
      ],
      "metadata": {
        "colab": {
          "base_uri": "https://localhost:8080/",
          "height": 399
        },
        "id": "BUehAZL39EJX",
        "outputId": "3ec4cd23-3dc6-4ff6-9b85-347c6278ef6a"
      },
      "execution_count": 47,
      "outputs": [
        {
          "output_type": "display_data",
          "data": {
            "text/plain": [
              "<Figure size 864x432 with 2 Axes>"
            ],
            "image/png": "[encoded data removed]"
          },
          "metadata": {
            "needs_background": "light"
          }
        }
      ]
    },
    {
      "cell_type": "code",
      "source": [
        "# Gender plot of applicants\n",
        "sns.countplot(x='Gender',data=train_df)"
      ],
      "metadata": {
        "colab": {
          "base_uri": "https://localhost:8080/",
          "height": 296
        },
        "id": "lqvAgU4a9EG_",
        "outputId": "0b4bfbc7-2dd7-427b-d86c-e0404bbac2de"
      },
      "execution_count": 48,
      "outputs": [
        {
          "output_type": "execute_result",
          "data": {
            "text/plain": [
              "<matplotlib.axes._subplots.AxesSubplot at 0x7f09ebad52d0>"
            ]
          },
          "metadata": {},
          "execution_count": 48
        },
        {
          "output_type": "display_data",
          "data": {
            "text/plain": [
              "<Figure size 432x288 with 1 Axes>"
            ],
            "image/png": "[encoded data removed]"
          },
          "metadata": {
            "needs_background": "light"
          }
        }
      ]
    },
    {
      "cell_type": "markdown",
      "source": [
        "There are more male applicants than female"
      ],
      "metadata": {
        "id": "Zs_VjQOpDZsf"
      }
    },
    {
      "cell_type": "code",
      "source": [
        "# Marital status of applicants\n",
        "plt.figure(figsize=(12,8))\n",
        "sns.countplot(x='Marital_status',data=train_df)"
      ],
      "metadata": {
        "colab": {
          "base_uri": "https://localhost:8080/",
          "height": 515
        },
        "id": "xxvCyvEr9EEf",
        "outputId": "dc2fcd03-f63b-407d-da4f-ad379197cdff"
      },
      "execution_count": 49,
      "outputs": [
        {
          "output_type": "execute_result",
          "data": {
            "text/plain": [
              "<matplotlib.axes._subplots.AxesSubplot at 0x7f09f0a91810>"
            ]
          },
          "metadata": {},
          "execution_count": 49
        },
        {
          "output_type": "display_data",
          "data": {
            "text/plain": [
              "<Figure size 864x576 with 1 Axes>"
            ],
            "image/png": "[encoded data removed]"
          },
          "metadata": {
            "needs_background": "light"
          }
        }
      ]
    },
    {
      "cell_type": "markdown",
      "source": [
        "There are many applicants with marital status of single"
      ],
      "metadata": {
        "id": "k7vw1w5uDcfm"
      }
    },
    {
      "cell_type": "code",
      "source": [
        "# plot showing the number of dependents among the applicants\n",
        "sns.countplot(x='Number_of_dependents',data=train_df)"
      ],
      "metadata": {
        "colab": {
          "base_uri": "https://localhost:8080/",
          "height": 297
        },
        "id": "JM0pZs2M9ECW",
        "outputId": "2257eed1-a16c-453e-f2d9-cfe010ece349"
      },
      "execution_count": 50,
      "outputs": [
        {
          "output_type": "execute_result",
          "data": {
            "text/plain": [
              "<matplotlib.axes._subplots.AxesSubplot at 0x7f09f0a8a6d0>"
            ]
          },
          "metadata": {},
          "execution_count": 50
        },
        {
          "output_type": "display_data",
          "data": {
            "text/plain": [
              "<Figure size 432x288 with 1 Axes>"
            ],
            "image/png": "[encoded data removed]"
          },
          "metadata": {
            "needs_background": "light"
          }
        }
      ]
    },
    {
      "cell_type": "code",
      "source": [
        "# Plot showing the housing of applicants\n",
        "sns.countplot(x='Housing',data=train_df)"
      ],
      "metadata": {
        "colab": {
          "base_uri": "https://localhost:8080/",
          "height": 296
        },
        "id": "CgbgbCAQ9EAA",
        "outputId": "03b4f52b-7938-4658-9b68-34d01fa8f054"
      },
      "execution_count": 51,
      "outputs": [
        {
          "output_type": "execute_result",
          "data": {
            "text/plain": [
              "<matplotlib.axes._subplots.AxesSubplot at 0x7f09ec165cd0>"
            ]
          },
          "metadata": {},
          "execution_count": 51
        },
        {
          "output_type": "display_data",
          "data": {
            "text/plain": [
              "<Figure size 432x288 with 1 Axes>"
            ],
            "image/png": "[encoded data removed]"
          },
          "metadata": {
            "needs_background": "light"
          }
        }
      ]
    },
    {
      "cell_type": "markdown",
      "source": [
        "Many applicants have their own housing property"
      ],
      "metadata": {
        "id": "iU5lt8zXDhx1"
      }
    },
    {
      "cell_type": "code",
      "source": [
        "plt.figure(figsize=(18,8))\n",
        "sns.countplot(x='Employment_status',data=train_df)"
      ],
      "metadata": {
        "colab": {
          "base_uri": "https://localhost:8080/",
          "height": 515
        },
        "id": "fvti-Riu9D9Y",
        "outputId": "52d82611-8b07-4457-9b74-ae08715b6dde"
      },
      "execution_count": 52,
      "outputs": [
        {
          "output_type": "execute_result",
          "data": {
            "text/plain": [
              "<matplotlib.axes._subplots.AxesSubplot at 0x7f09ebb68910>"
            ]
          },
          "metadata": {},
          "execution_count": 52
        },
        {
          "output_type": "display_data",
          "data": {
            "text/plain": [
              "<Figure size 1296x576 with 1 Axes>"
            ],
            "image/png": "[encoded data removed]"
          },
          "metadata": {
            "needs_background": "light"
          }
        }
      ]
    },
    {
      "cell_type": "markdown",
      "source": [
        "Many applicants are skilled employee or officials"
      ],
      "metadata": {
        "id": "Awjcpcz5DjtN"
      }
    },
    {
      "cell_type": "code",
      "source": [
        "# Plot showing the purpose of applicants to get the loan\n",
        "plt.figure(figsize=(15,10))\n",
        "sns.countplot(x='Purpose',data=train_df)"
      ],
      "metadata": {
        "colab": {
          "base_uri": "https://localhost:8080/",
          "height": 623
        },
        "id": "T22Ebn6n9D6t",
        "outputId": "57038e0b-b033-41c7-988a-4012a3b77dad"
      },
      "execution_count": 53,
      "outputs": [
        {
          "output_type": "execute_result",
          "data": {
            "text/plain": [
              "<matplotlib.axes._subplots.AxesSubplot at 0x7f09f0e8be50>"
            ]
          },
          "metadata": {},
          "execution_count": 53
        },
        {
          "output_type": "display_data",
          "data": {
            "text/plain": [
              "<Figure size 1080x720 with 1 Axes>"
            ],
            "image/png": "[encoded data removed]"
          },
          "metadata": {
            "needs_background": "light"
          }
        }
      ]
    },
    {
      "cell_type": "markdown",
      "source": [
        "Most of the applicants bought the loan for buying electronic equipment"
      ],
      "metadata": {
        "id": "oRUFdDBzDnSq"
      }
    },
    {
      "cell_type": "code",
      "source": [
        "sns.countplot(x='Has_coapplicant',data=train_df)"
      ],
      "metadata": {
        "colab": {
          "base_uri": "https://localhost:8080/",
          "height": 297
        },
        "id": "8R01TfIu9D4O",
        "outputId": "c0e114c6-d071-474e-f624-dcf2a6a85029"
      },
      "execution_count": 54,
      "outputs": [
        {
          "output_type": "execute_result",
          "data": {
            "text/plain": [
              "<matplotlib.axes._subplots.AxesSubplot at 0x7f09ebfdd410>"
            ]
          },
          "metadata": {},
          "execution_count": 54
        },
        {
          "output_type": "display_data",
          "data": {
            "text/plain": [
              "<Figure size 432x288 with 1 Axes>"
            ],
            "image/png": "[encoded data removed]"
          },
          "metadata": {
            "needs_background": "light"
          }
        }
      ]
    },
    {
      "cell_type": "code",
      "source": [
        "# Plot showing the type of property owned by the applicant\n",
        "plt.figure(figsize=(10,8))\n",
        "sns.countplot(x='Property',data=train_df)"
      ],
      "metadata": {
        "colab": {
          "base_uri": "https://localhost:8080/",
          "height": 514
        },
        "id": "X11tk1ih9D1v",
        "outputId": "3ad828dd-064e-4e1f-a4c5-cbb1b0a65cbb"
      },
      "execution_count": 55,
      "outputs": [
        {
          "output_type": "execute_result",
          "data": {
            "text/plain": [
              "<matplotlib.axes._subplots.AxesSubplot at 0x7f09ec167050>"
            ]
          },
          "metadata": {},
          "execution_count": 55
        },
        {
          "output_type": "display_data",
          "data": {
            "text/plain": [
              "<Figure size 720x576 with 1 Axes>"
            ],
            "image/png": "[encoded data removed]"
          },
          "metadata": {
            "needs_background": "light"
          }
        }
      ]
    },
    {
      "cell_type": "code",
      "source": [
        "sns.countplot(x='Has_guarantor',data=train_df)"
      ],
      "metadata": {
        "colab": {
          "base_uri": "https://localhost:8080/",
          "height": 297
        },
        "id": "Uihi3K6F9DzS",
        "outputId": "8237f740-7c47-423d-ca37-6226fbbd5828"
      },
      "execution_count": 56,
      "outputs": [
        {
          "output_type": "execute_result",
          "data": {
            "text/plain": [
              "<matplotlib.axes._subplots.AxesSubplot at 0x7f09ee0fb710>"
            ]
          },
          "metadata": {},
          "execution_count": 56
        },
        {
          "output_type": "display_data",
          "data": {
            "text/plain": [
              "<Figure size 432x288 with 1 Axes>"
            ],
            "image/png": "[encoded data removed]"
          },
          "metadata": {
            "needs_background": "light"
          }
        }
      ]
    },
    {
      "cell_type": "code",
      "source": [
        "# Count of applicants having existing number of loan\n",
        "sns.countplot(x='Number_of_existing_loans_at_this_bank',data=train_df)"
      ],
      "metadata": {
        "colab": {
          "base_uri": "https://localhost:8080/",
          "height": 297
        },
        "id": "7FmqS5ZW9Dw5",
        "outputId": "6184e56d-b921-4cd6-a87d-d28a7b0c44e4"
      },
      "execution_count": 57,
      "outputs": [
        {
          "output_type": "execute_result",
          "data": {
            "text/plain": [
              "<matplotlib.axes._subplots.AxesSubplot at 0x7f09ebc77dd0>"
            ]
          },
          "metadata": {},
          "execution_count": 57
        },
        {
          "output_type": "display_data",
          "data": {
            "text/plain": [
              "<Figure size 432x288 with 1 Axes>"
            ],
            "image/png": "[encoded data removed]"
          },
          "metadata": {
            "needs_background": "light"
          }
        }
      ]
    },
    {
      "cell_type": "code",
      "source": [
        "# Plot showing the savings account balance of applicant\n",
        "sns.countplot(x='Savings_account_balance',data=train_df)"
      ],
      "metadata": {
        "colab": {
          "base_uri": "https://localhost:8080/",
          "height": 297
        },
        "id": "BC7J1eL89Dux",
        "outputId": "73f4379a-719f-4327-f16d-004223c452d9"
      },
      "execution_count": 58,
      "outputs": [
        {
          "output_type": "execute_result",
          "data": {
            "text/plain": [
              "<matplotlib.axes._subplots.AxesSubplot at 0x7f09ebe8e5d0>"
            ]
          },
          "metadata": {},
          "execution_count": 58
        },
        {
          "output_type": "display_data",
          "data": {
            "text/plain": [
              "<Figure size 432x288 with 1 Axes>"
            ],
            "image/png": "[encoded data removed]"
          },
          "metadata": {
            "needs_background": "light"
          }
        }
      ]
    },
    {
      "cell_type": "code",
      "source": [
        "sns.countplot(x='EMI_rate_prcnt',data=train_df)"
      ],
      "metadata": {
        "colab": {
          "base_uri": "https://localhost:8080/",
          "height": 297
        },
        "id": "SL-OCEkv9Dsw",
        "outputId": "a4c5a970-6971-40a9-8e57-e2651b1e0290"
      },
      "execution_count": 59,
      "outputs": [
        {
          "output_type": "execute_result",
          "data": {
            "text/plain": [
              "<matplotlib.axes._subplots.AxesSubplot at 0x7f09ebc47650>"
            ]
          },
          "metadata": {},
          "execution_count": 59
        },
        {
          "output_type": "display_data",
          "data": {
            "text/plain": [
              "<Figure size 432x288 with 1 Axes>"
            ],
            "image/png": "[encoded data removed]"
          },
          "metadata": {
            "needs_background": "light"
          }
        }
      ]
    },
    {
      "cell_type": "code",
      "source": [
        "plt.figure(figsize=(18,8))\n",
        "sns.countplot(x='Loan_history',data=train_df)"
      ],
      "metadata": {
        "colab": {
          "base_uri": "https://localhost:8080/",
          "height": 515
        },
        "id": "httYtqAj9DqM",
        "outputId": "890b266c-73b6-4ce4-8f3b-13cb63bb9f24"
      },
      "execution_count": 60,
      "outputs": [
        {
          "output_type": "execute_result",
          "data": {
            "text/plain": [
              "<matplotlib.axes._subplots.AxesSubplot at 0x7f09ec072810>"
            ]
          },
          "metadata": {},
          "execution_count": 60
        },
        {
          "output_type": "display_data",
          "data": {
            "text/plain": [
              "<Figure size 1296x576 with 1 Axes>"
            ],
            "image/png": "[encoded data removed]"
          },
          "metadata": {
            "needs_background": "light"
          }
        }
      ]
    },
    {
      "cell_type": "code",
      "source": [
        "# Plot showing how many applicants have been living in the same residence\n",
        "sns.countplot(x='Years_at_current_residence',data=train_df)"
      ],
      "metadata": {
        "colab": {
          "base_uri": "https://localhost:8080/",
          "height": 297
        },
        "id": "3N88SvcX9Dnx",
        "outputId": "1e15655e-6b16-4ffb-fd40-01cf84796581"
      },
      "execution_count": 61,
      "outputs": [
        {
          "output_type": "execute_result",
          "data": {
            "text/plain": [
              "<matplotlib.axes._subplots.AxesSubplot at 0x7f09ec0e2510>"
            ]
          },
          "metadata": {},
          "execution_count": 61
        },
        {
          "output_type": "display_data",
          "data": {
            "text/plain": [
              "<Figure size 432x288 with 1 Axes>"
            ],
            "image/png": "[encoded data removed]"
          },
          "metadata": {
            "needs_background": "light"
          }
        }
      ]
    },
    {
      "cell_type": "code",
      "source": [
        "#Exporting final data for model building\n",
        "\n",
        "df.to_csv('/content/drive/My Drive/Reunion/finaldata.csv', encoding='utf-8', index=False)"
      ],
      "metadata": {
        "id": "XahiRZFnFiZk"
      },
      "execution_count": 62,
      "outputs": []
    }
  ]
}