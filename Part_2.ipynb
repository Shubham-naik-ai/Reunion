{
  "nbformat": 4,
  "nbformat_minor": 0,
  "metadata": {
    "colab": {
      "provenance": [],
      "authorship_tag": "ABX9TyO8BdZuJLZIwfghhgFi8qvx",
      "include_colab_link": true
    },
    "kernelspec": {
      "name": "python3",
      "display_name": "Python 3"
    },
    "language_info": {
      "name": "python"
    }
  },
  "cells": [
    {
      "cell_type": "markdown",
      "metadata": {
        "id": "view-in-github",
        "colab_type": "text"
      },
      "source": [
        "<a href=\"https://colab.research.google.com/github/Shubham-naik-ai/Reunion/blob/main/Part_2.ipynb\" target=\"_parent\"><img src=\"https://colab.research.google.com/assets/colab-badge.svg\" alt=\"Open In Colab\"/></a>"
      ]
    },
    {
      "cell_type": "markdown",
      "source": [
        "# **Part-2**"
      ],
      "metadata": {
        "id": "MKpsqdxCI92u"
      }
    },
    {
      "cell_type": "markdown",
      "source": [
        "**Develop the ML model(s) to predict the credit risk(low or high) for a given applicant.** \n",
        "\n",
        "**Business Constraint:** Note that it is worse to state an applicant as a low credit risk when they are actually a high risk, than it is to state an applicant to be a high credit risk when they aren’t."
      ],
      "metadata": {
        "id": "eKqmLq-EIzZv"
      }
    },
    {
      "cell_type": "code",
      "source": [
        "# Importing usefull libraries for EDA\n",
        "import numpy as np\n",
        "import pandas as pd\n",
        "import matplotlib.pyplot as plt\n",
        "import seaborn as sns\n",
        "%matplotlib inline\n",
        "\n",
        "import os\n",
        "from google.colab import drive\n",
        "drive.mount('/content/drive')\n",
        "working_dir_path = '/content/drive/MyDrive/Reunion/'"
      ],
      "metadata": {
        "colab": {
          "base_uri": "https://localhost:8080/"
        },
        "id": "-fmnd2oBGozZ",
        "outputId": "ba22b0ac-616d-43da-dc94-dfb5b75edd04"
      },
      "execution_count": 7,
      "outputs": [
        {
          "output_type": "stream",
          "name": "stdout",
          "text": [
            "Drive already mounted at /content/drive; to attempt to forcibly remount, call drive.mount(\"/content/drive\", force_remount=True).\n"
          ]
        }
      ]
    },
    {
      "cell_type": "code",
      "source": [
        "# Importing usefull libraries\n",
        "\n",
        "\n",
        "from sklearn.preprocessing import StandardScaler\n",
        "from sklearn.model_selection import train_test_split\n",
        "from sklearn.linear_model import LogisticRegression\n",
        "from sklearn.model_selection import GridSearchCV\n",
        "from sklearn.preprocessing import LabelEncoder\n",
        "from sklearn.metrics import accuracy_score, recall_score, precision_score, f1_score, roc_auc_score, confusion_matrix, roc_curve, auc\n",
        "\n",
        "from sklearn.svm import SVC\n"
      ],
      "metadata": {
        "id": "FUS4uv9p9F62"
      },
      "execution_count": 8,
      "outputs": []
    },
    {
      "cell_type": "code",
      "source": [
        "#Loading the Dataset\n",
        "train_df = pd.read_csv(working_dir_path + 'finaldata.csv')"
      ],
      "metadata": {
        "id": "7JQ_Dk8W9F5L"
      },
      "execution_count": 9,
      "outputs": []
    },
    {
      "cell_type": "code",
      "source": [
        "train_df.head()"
      ],
      "metadata": {
        "colab": {
          "base_uri": "https://localhost:8080/",
          "height": 543
        },
        "id": "2QhbH59r9F1S",
        "outputId": "b1536fbd-16ef-4b02-d499-c035c25a3491"
      },
      "execution_count": 10,
      "outputs": [
        {
          "output_type": "execute_result",
          "data": {
            "text/plain": [
              "   applicant_id  Primary_applicant_age_in_years  Gender  \\\n",
              "0       1469590                              67    male   \n",
              "1       1203873                              22  female   \n",
              "2       1432761                              49    male   \n",
              "3       1207582                              45    male   \n",
              "4       1674436                              53    male   \n",
              "\n",
              "               Marital_status  Number_of_dependents   Housing  \\\n",
              "0                      single                     1       own   \n",
              "1  divorced/separated/married                     1       own   \n",
              "2                      single                     2       own   \n",
              "3                      single                     2  for free   \n",
              "4                      single                     2  for free   \n",
              "\n",
              "   Years_at_current_residence            Employment_status empd_for_atleast  \\\n",
              "0                           4  skilled employee / official          7 years   \n",
              "1                           2  skilled employee / official           1 year   \n",
              "2                           3         unskilled - resident          4 years   \n",
              "3                           4  skilled employee / official          4 years   \n",
              "4                           4  skilled employee / official           1 year   \n",
              "\n",
              "  Has_been_employed_for_at_most  ...  Months_loan_taken_for  \\\n",
              "0                      7+ years  ...                      6   \n",
              "1                       4 years  ...                     48   \n",
              "2                       7 years  ...                     12   \n",
              "3                       7 years  ...                     42   \n",
              "4                       4 years  ...                     24   \n",
              "\n",
              "                Purpose Principal_loan_amount EMI_rate_prcnt  \\\n",
              "0  electronic equipment               1169000              4   \n",
              "1  electronic equipment               5951000              2   \n",
              "2             education               2096000              2   \n",
              "3                  FF&E               7882000              2   \n",
              "4           new vehicle               4870000              3   \n",
              "\n",
              "                                            Property  Has_coapplicant  \\\n",
              "0                                        real estate                0   \n",
              "1                                        real estate                0   \n",
              "2                                        real estate                0   \n",
              "3  building society savings agreement/life insurance                0   \n",
              "4  building society savings agreement/life insurance                0   \n",
              "\n",
              "  Has_guarantor  Number_of_existing_loans_at_this_bank  \\\n",
              "0             0                                      2   \n",
              "1             0                                      1   \n",
              "2             0                                      1   \n",
              "3             1                                      1   \n",
              "4             0                                      2   \n",
              "\n",
              "                             Loan_history high_risk_applicant  \n",
              "0   critical/pending loans at other banks                   0  \n",
              "1  existing loans paid back duly till now                   1  \n",
              "2   critical/pending loans at other banks                   0  \n",
              "3  existing loans paid back duly till now                   0  \n",
              "4   delay in paying off loans in the past                   1  \n",
              "\n",
              "[5 rows x 25 columns]"
            ],
            "text/html": [
              "\n",
              "  <div id=\"df-199d2d7e-b35d-4f92-8e14-02522ed39a0f\">\n",
              "    <div class=\"colab-df-container\">\n",
              "      <div>\n",
              "<style scoped>\n",
              "    .dataframe tbody tr th:only-of-type {\n",
              "        vertical-align: middle;\n",
              "    }\n",
              "\n",
              "    .dataframe tbody tr th {\n",
              "        vertical-align: top;\n",
              "    }\n",
              "\n",
              "    .dataframe thead th {\n",
              "        text-align: right;\n",
              "    }\n",
              "</style>\n",
              "<table border=\"1\" class=\"dataframe\">\n",
              "  <thead>\n",
              "    <tr style=\"text-align: right;\">\n",
              "      <th></th>\n",
              "      <th>applicant_id</th>\n",
              "      <th>Primary_applicant_age_in_years</th>\n",
              "      <th>Gender</th>\n",
              "      <th>Marital_status</th>\n",
              "      <th>Number_of_dependents</th>\n",
              "      <th>Housing</th>\n",
              "      <th>Years_at_current_residence</th>\n",
              "      <th>Employment_status</th>\n",
              "      <th>empd_for_atleast</th>\n",
              "      <th>Has_been_employed_for_at_most</th>\n",
              "      <th>...</th>\n",
              "      <th>Months_loan_taken_for</th>\n",
              "      <th>Purpose</th>\n",
              "      <th>Principal_loan_amount</th>\n",
              "      <th>EMI_rate_prcnt</th>\n",
              "      <th>Property</th>\n",
              "      <th>Has_coapplicant</th>\n",
              "      <th>Has_guarantor</th>\n",
              "      <th>Number_of_existing_loans_at_this_bank</th>\n",
              "      <th>Loan_history</th>\n",
              "      <th>high_risk_applicant</th>\n",
              "    </tr>\n",
              "  </thead>\n",
              "  <tbody>\n",
              "    <tr>\n",
              "      <th>0</th>\n",
              "      <td>1469590</td>\n",
              "      <td>67</td>\n",
              "      <td>male</td>\n",
              "      <td>single</td>\n",
              "      <td>1</td>\n",
              "      <td>own</td>\n",
              "      <td>4</td>\n",
              "      <td>skilled employee / official</td>\n",
              "      <td>7 years</td>\n",
              "      <td>7+ years</td>\n",
              "      <td>...</td>\n",
              "      <td>6</td>\n",
              "      <td>electronic equipment</td>\n",
              "      <td>1169000</td>\n",
              "      <td>4</td>\n",
              "      <td>real estate</td>\n",
              "      <td>0</td>\n",
              "      <td>0</td>\n",
              "      <td>2</td>\n",
              "      <td>critical/pending loans at other banks</td>\n",
              "      <td>0</td>\n",
              "    </tr>\n",
              "    <tr>\n",
              "      <th>1</th>\n",
              "      <td>1203873</td>\n",
              "      <td>22</td>\n",
              "      <td>female</td>\n",
              "      <td>divorced/separated/married</td>\n",
              "      <td>1</td>\n",
              "      <td>own</td>\n",
              "      <td>2</td>\n",
              "      <td>skilled employee / official</td>\n",
              "      <td>1 year</td>\n",
              "      <td>4 years</td>\n",
              "      <td>...</td>\n",
              "      <td>48</td>\n",
              "      <td>electronic equipment</td>\n",
              "      <td>5951000</td>\n",
              "      <td>2</td>\n",
              "      <td>real estate</td>\n",
              "      <td>0</td>\n",
              "      <td>0</td>\n",
              "      <td>1</td>\n",
              "      <td>existing loans paid back duly till now</td>\n",
              "      <td>1</td>\n",
              "    </tr>\n",
              "    <tr>\n",
              "      <th>2</th>\n",
              "      <td>1432761</td>\n",
              "      <td>49</td>\n",
              "      <td>male</td>\n",
              "      <td>single</td>\n",
              "      <td>2</td>\n",
              "      <td>own</td>\n",
              "      <td>3</td>\n",
              "      <td>unskilled - resident</td>\n",
              "      <td>4 years</td>\n",
              "      <td>7 years</td>\n",
              "      <td>...</td>\n",
              "      <td>12</td>\n",
              "      <td>education</td>\n",
              "      <td>2096000</td>\n",
              "      <td>2</td>\n",
              "      <td>real estate</td>\n",
              "      <td>0</td>\n",
              "      <td>0</td>\n",
              "      <td>1</td>\n",
              "      <td>critical/pending loans at other banks</td>\n",
              "      <td>0</td>\n",
              "    </tr>\n",
              "    <tr>\n",
              "      <th>3</th>\n",
              "      <td>1207582</td>\n",
              "      <td>45</td>\n",
              "      <td>male</td>\n",
              "      <td>single</td>\n",
              "      <td>2</td>\n",
              "      <td>for free</td>\n",
              "      <td>4</td>\n",
              "      <td>skilled employee / official</td>\n",
              "      <td>4 years</td>\n",
              "      <td>7 years</td>\n",
              "      <td>...</td>\n",
              "      <td>42</td>\n",
              "      <td>FF&amp;E</td>\n",
              "      <td>7882000</td>\n",
              "      <td>2</td>\n",
              "      <td>building society savings agreement/life insurance</td>\n",
              "      <td>0</td>\n",
              "      <td>1</td>\n",
              "      <td>1</td>\n",
              "      <td>existing loans paid back duly till now</td>\n",
              "      <td>0</td>\n",
              "    </tr>\n",
              "    <tr>\n",
              "      <th>4</th>\n",
              "      <td>1674436</td>\n",
              "      <td>53</td>\n",
              "      <td>male</td>\n",
              "      <td>single</td>\n",
              "      <td>2</td>\n",
              "      <td>for free</td>\n",
              "      <td>4</td>\n",
              "      <td>skilled employee / official</td>\n",
              "      <td>1 year</td>\n",
              "      <td>4 years</td>\n",
              "      <td>...</td>\n",
              "      <td>24</td>\n",
              "      <td>new vehicle</td>\n",
              "      <td>4870000</td>\n",
              "      <td>3</td>\n",
              "      <td>building society savings agreement/life insurance</td>\n",
              "      <td>0</td>\n",
              "      <td>0</td>\n",
              "      <td>2</td>\n",
              "      <td>delay in paying off loans in the past</td>\n",
              "      <td>1</td>\n",
              "    </tr>\n",
              "  </tbody>\n",
              "</table>\n",
              "<p>5 rows × 25 columns</p>\n",
              "</div>\n",
              "      <button class=\"colab-df-convert\" onclick=\"convertToInteractive('df-199d2d7e-b35d-4f92-8e14-02522ed39a0f')\"\n",
              "              title=\"Convert this dataframe to an interactive table.\"\n",
              "              style=\"display:none;\">\n",
              "        \n",
              "  <svg xmlns=\"http://www.w3.org/2000/svg\" height=\"24px\"viewBox=\"0 0 24 24\"\n",
              "       width=\"24px\">\n",
              "    <path d=\"M0 0h24v24H0V0z\" fill=\"none\"/>\n",
              "    <path d=\"M18.56 5.44l.94 2.06.94-2.06 2.06-.94-2.06-.94-.94-2.06-.94 2.06-2.06.94zm-11 1L8.5 8.5l.94-2.06 2.06-.94-2.06-.94L8.5 2.5l-.94 2.06-2.06.94zm10 10l.94 2.06.94-2.06 2.06-.94-2.06-.94-.94-2.06-.94 2.06-2.06.94z\"/><path d=\"M17.41 7.96l-1.37-1.37c-.4-.4-.92-.59-1.43-.59-.52 0-1.04.2-1.43.59L10.3 9.45l-7.72 7.72c-.78.78-.78 2.05 0 2.83L4 21.41c.39.39.9.59 1.41.59.51 0 1.02-.2 1.41-.59l7.78-7.78 2.81-2.81c.8-.78.8-2.07 0-2.86zM5.41 20L4 18.59l7.72-7.72 1.47 1.35L5.41 20z\"/>\n",
              "  </svg>\n",
              "      </button>\n",
              "      \n",
              "  <style>\n",
              "    .colab-df-container {\n",
              "      display:flex;\n",
              "      flex-wrap:wrap;\n",
              "      gap: 12px;\n",
              "    }\n",
              "\n",
              "    .colab-df-convert {\n",
              "      background-color: #E8F0FE;\n",
              "      border: none;\n",
              "      border-radius: 50%;\n",
              "      cursor: pointer;\n",
              "      display: none;\n",
              "      fill: #1967D2;\n",
              "      height: 32px;\n",
              "      padding: 0 0 0 0;\n",
              "      width: 32px;\n",
              "    }\n",
              "\n",
              "    .colab-df-convert:hover {\n",
              "      background-color: #E2EBFA;\n",
              "      box-shadow: 0px 1px 2px rgba(60, 64, 67, 0.3), 0px 1px 3px 1px rgba(60, 64, 67, 0.15);\n",
              "      fill: #174EA6;\n",
              "    }\n",
              "\n",
              "    [theme=dark] .colab-df-convert {\n",
              "      background-color: #3B4455;\n",
              "      fill: #D2E3FC;\n",
              "    }\n",
              "\n",
              "    [theme=dark] .colab-df-convert:hover {\n",
              "      background-color: #434B5C;\n",
              "      box-shadow: 0px 1px 3px 1px rgba(0, 0, 0, 0.15);\n",
              "      filter: drop-shadow(0px 1px 2px rgba(0, 0, 0, 0.3));\n",
              "      fill: #FFFFFF;\n",
              "    }\n",
              "  </style>\n",
              "\n",
              "      <script>\n",
              "        const buttonEl =\n",
              "          document.querySelector('#df-199d2d7e-b35d-4f92-8e14-02522ed39a0f button.colab-df-convert');\n",
              "        buttonEl.style.display =\n",
              "          google.colab.kernel.accessAllowed ? 'block' : 'none';\n",
              "\n",
              "        async function convertToInteractive(key) {\n",
              "          const element = document.querySelector('#df-199d2d7e-b35d-4f92-8e14-02522ed39a0f');\n",
              "          const dataTable =\n",
              "            await google.colab.kernel.invokeFunction('convertToInteractive',\n",
              "                                                     [key], {});\n",
              "          if (!dataTable) return;\n",
              "\n",
              "          const docLinkHtml = 'Like what you see? Visit the ' +\n",
              "            '<a target=\"_blank\" href=https://colab.research.google.com/notebooks/data_table.ipynb>data table notebook</a>'\n",
              "            + ' to learn more about interactive tables.';\n",
              "          element.innerHTML = '';\n",
              "          dataTable['output_type'] = 'display_data';\n",
              "          await google.colab.output.renderOutput(dataTable, element);\n",
              "          const docLink = document.createElement('div');\n",
              "          docLink.innerHTML = docLinkHtml;\n",
              "          element.appendChild(docLink);\n",
              "        }\n",
              "      </script>\n",
              "    </div>\n",
              "  </div>\n",
              "  "
            ]
          },
          "metadata": {},
          "execution_count": 10
        }
      ]
    },
    {
      "cell_type": "code",
      "execution_count": 11,
      "metadata": {
        "id": "kEruc8Assp9p"
      },
      "outputs": [],
      "source": [
        "# Using Label encoder on categorical columns\n",
        "\n",
        "train_df[['Gender', 'Marital_status', 'Housing','Employment_status','empd_for_atleast','Has_been_employed_for_at_most','Savings_account_balance','A/c balance lower','A/c balance upper','Purpose','Property','Loan_history']] = train_df[['Gender', 'Marital_status', 'Housing','Employment_status','empd_for_atleast','Has_been_employed_for_at_most','Savings_account_balance','A/c balance lower','A/c balance upper','Purpose','Property','Loan_history']].apply(LabelEncoder().fit_transform)"
      ]
    },
    {
      "cell_type": "code",
      "source": [
        "columns_to_keep = ['Primary_applicant_age_in_years', 'Gender',\n",
        "       'Marital_status', 'Number_of_dependents', 'Housing',\n",
        "       'Years_at_current_residence', 'Employment_status', 'empd_for_atleast',\n",
        "       'Has_been_employed_for_at_most', 'Foreign_worker',\n",
        "       'Savings_account_balance', 'A/c balance lower', 'A/c balance upper',\n",
        "       'Months_loan_taken_for', 'Purpose',\n",
        "       'Principal_loan_amount', 'EMI_rate_prcnt', 'Property',\n",
        "       'Has_coapplicant', 'Has_guarantor',\n",
        "       'Number_of_existing_loans_at_this_bank', 'Loan_history',\n",
        "       'high_risk_applicant']"
      ],
      "metadata": {
        "id": "Fgp62f8l41ey"
      },
      "execution_count": 12,
      "outputs": []
    },
    {
      "cell_type": "code",
      "source": [
        "train_df = train_df[columns_to_keep]"
      ],
      "metadata": {
        "id": "8uYdG5UG41cf"
      },
      "execution_count": 13,
      "outputs": []
    },
    {
      "cell_type": "code",
      "source": [
        "train_df.columns"
      ],
      "metadata": {
        "colab": {
          "base_uri": "https://localhost:8080/"
        },
        "id": "wnpAgdGb41al",
        "outputId": "d0de23d9-1869-4704-990c-e35e0aa9380b"
      },
      "execution_count": 14,
      "outputs": [
        {
          "output_type": "execute_result",
          "data": {
            "text/plain": [
              "Index(['Primary_applicant_age_in_years', 'Gender', 'Marital_status',\n",
              "       'Number_of_dependents', 'Housing', 'Years_at_current_residence',\n",
              "       'Employment_status', 'empd_for_atleast',\n",
              "       'Has_been_employed_for_at_most', 'Foreign_worker',\n",
              "       'Savings_account_balance', 'A/c balance lower', 'A/c balance upper',\n",
              "       'Months_loan_taken_for', 'Purpose', 'Principal_loan_amount',\n",
              "       'EMI_rate_prcnt', 'Property', 'Has_coapplicant', 'Has_guarantor',\n",
              "       'Number_of_existing_loans_at_this_bank', 'Loan_history',\n",
              "       'high_risk_applicant'],\n",
              "      dtype='object')"
            ]
          },
          "metadata": {},
          "execution_count": 14
        }
      ]
    },
    {
      "cell_type": "code",
      "source": [
        "train_df.info()"
      ],
      "metadata": {
        "colab": {
          "base_uri": "https://localhost:8080/"
        },
        "id": "NpU9n8Rp41YE",
        "outputId": "ea34c508-a1bc-4cd5-f6ca-b5672dfd81e6"
      },
      "execution_count": 15,
      "outputs": [
        {
          "output_type": "stream",
          "name": "stdout",
          "text": [
            "<class 'pandas.core.frame.DataFrame'>\n",
            "RangeIndex: 988 entries, 0 to 987\n",
            "Data columns (total 23 columns):\n",
            " #   Column                                 Non-Null Count  Dtype\n",
            "---  ------                                 --------------  -----\n",
            " 0   Primary_applicant_age_in_years         988 non-null    int64\n",
            " 1   Gender                                 988 non-null    int64\n",
            " 2   Marital_status                         988 non-null    int64\n",
            " 3   Number_of_dependents                   988 non-null    int64\n",
            " 4   Housing                                988 non-null    int64\n",
            " 5   Years_at_current_residence             988 non-null    int64\n",
            " 6   Employment_status                      988 non-null    int64\n",
            " 7   empd_for_atleast                       988 non-null    int64\n",
            " 8   Has_been_employed_for_at_most          988 non-null    int64\n",
            " 9   Foreign_worker                         988 non-null    int64\n",
            " 10  Savings_account_balance                988 non-null    int64\n",
            " 11  A/c balance lower                      988 non-null    int64\n",
            " 12  A/c balance upper                      988 non-null    int64\n",
            " 13  Months_loan_taken_for                  988 non-null    int64\n",
            " 14  Purpose                                988 non-null    int64\n",
            " 15  Principal_loan_amount                  988 non-null    int64\n",
            " 16  EMI_rate_prcnt                         988 non-null    int64\n",
            " 17  Property                               988 non-null    int64\n",
            " 18  Has_coapplicant                        988 non-null    int64\n",
            " 19  Has_guarantor                          988 non-null    int64\n",
            " 20  Number_of_existing_loans_at_this_bank  988 non-null    int64\n",
            " 21  Loan_history                           988 non-null    int64\n",
            " 22  high_risk_applicant                    988 non-null    int64\n",
            "dtypes: int64(23)\n",
            "memory usage: 177.7 KB\n"
          ]
        }
      ]
    },
    {
      "cell_type": "markdown",
      "source": [
        "## **As we have seen earlier that we have imbalanced dataset. So to remediate Imbalance we are using SMOTE(Synthetic Minority Oversampling Technique)**"
      ],
      "metadata": {
        "id": "948tRJx-4_7F"
      }
    },
    {
      "cell_type": "code",
      "source": [
        "from imblearn.over_sampling import SMOTE\n",
        "\n",
        "smote = SMOTE()\n",
        "\n",
        "# fit predictor and target variable\n",
        "x_smote, y_smote = smote.fit_resample(train_df.iloc[:,0:-1], train_df['high_risk_applicant'])\n",
        "\n",
        "print('Original dataset shape', len(train_df))\n",
        "print('Resampled dataset shape', len(y_smote))"
      ],
      "metadata": {
        "colab": {
          "base_uri": "https://localhost:8080/"
        },
        "id": "0XnV_HX541Nr",
        "outputId": "b5baa094-fffc-4558-8b60-9731fe4110d4"
      },
      "execution_count": 16,
      "outputs": [
        {
          "output_type": "stream",
          "name": "stdout",
          "text": [
            "Original dataset shape 988\n",
            "Resampled dataset shape 1386\n"
          ]
        }
      ]
    },
    {
      "cell_type": "code",
      "source": [
        "x_smote"
      ],
      "metadata": {
        "colab": {
          "base_uri": "https://localhost:8080/",
          "height": 522
        },
        "id": "0abw3Afe41Kw",
        "outputId": "734b139d-69f1-4e03-baac-beb3c3f814b9"
      },
      "execution_count": 17,
      "outputs": [
        {
          "output_type": "execute_result",
          "data": {
            "text/plain": [
              "      Primary_applicant_age_in_years  Gender  Marital_status  \\\n",
              "0                                 67       1               3   \n",
              "1                                 22       0               1   \n",
              "2                                 49       1               3   \n",
              "3                                 45       1               3   \n",
              "4                                 53       1               3   \n",
              "...                              ...     ...             ...   \n",
              "1381                              42       1               3   \n",
              "1382                              33       0               2   \n",
              "1383                              23       0               1   \n",
              "1384                              35       0               2   \n",
              "1385                              31       1               2   \n",
              "\n",
              "      Number_of_dependents  Housing  Years_at_current_residence  \\\n",
              "0                        1        1                           4   \n",
              "1                        1        1                           2   \n",
              "2                        2        1                           3   \n",
              "3                        2        0                           4   \n",
              "4                        2        0                           4   \n",
              "...                    ...      ...                         ...   \n",
              "1381                     2        0                           3   \n",
              "1382                     1        1                           2   \n",
              "1383                     1        1                           3   \n",
              "1384                     1        0                           4   \n",
              "1385                     1        1                           2   \n",
              "\n",
              "      Employment_status  empd_for_atleast  Has_been_employed_for_at_most  \\\n",
              "0                     1                 3                              4   \n",
              "1                     1                 1                              2   \n",
              "2                     3                 2                              3   \n",
              "3                     1                 2                              3   \n",
              "4                     1                 1                              2   \n",
              "...                 ...               ...                            ...   \n",
              "1381                  1                 1                              2   \n",
              "1382                  0                 0                              0   \n",
              "1383                  1                 0                              1   \n",
              "1384                  1                 1                              2   \n",
              "1385                  0                 0                              0   \n",
              "\n",
              "      Foreign_worker  ...  A/c balance upper  Months_loan_taken_for  Purpose  \\\n",
              "0                  1  ...                  0                      6        5   \n",
              "1                  1  ...                  1                     48        5   \n",
              "2                  1  ...                  0                     12        4   \n",
              "3                  1  ...                  0                     42        0   \n",
              "4                  1  ...                  0                     24        6   \n",
              "...              ...  ...                ...                    ...      ...   \n",
              "1381               1  ...                  0                     41        4   \n",
              "1382               1  ...                  0                     18        5   \n",
              "1383               1  ...                  0                     18        6   \n",
              "1384               1  ...                  0                     30        4   \n",
              "1385               1  ...                  0                     29        5   \n",
              "\n",
              "      Principal_loan_amount  EMI_rate_prcnt  Property  Has_coapplicant  \\\n",
              "0                   1169000               4         2                0   \n",
              "1                   5951000               2         2                0   \n",
              "2                   2096000               2         2                0   \n",
              "3                   7882000               2         0                0   \n",
              "4                   4870000               3         0                0   \n",
              "...                     ...             ...       ...              ...   \n",
              "1381                3925761               4         0                0   \n",
              "1382                6840044               1         0                0   \n",
              "1383                1940451               4         2                0   \n",
              "1384                1827180               4         0                0   \n",
              "1385                5244238               3         0                0   \n",
              "\n",
              "      Has_guarantor  Number_of_existing_loans_at_this_bank  Loan_history  \n",
              "0                 0                                      2             1  \n",
              "1                 0                                      1             3  \n",
              "2                 0                                      1             1  \n",
              "3                 1                                      1             3  \n",
              "4                 0                                      2             2  \n",
              "...             ...                                    ...           ...  \n",
              "1381              0                                      1             3  \n",
              "1382              0                                      1             0  \n",
              "1383              0                                      1             3  \n",
              "1384              0                                      1             1  \n",
              "1385              0                                      2             1  \n",
              "\n",
              "[1386 rows x 22 columns]"
            ],
            "text/html": [
              "\n",
              "  <div id=\"df-2ba9f273-fedb-4caf-a738-962fc672035e\">\n",
              "    <div class=\"colab-df-container\">\n",
              "      <div>\n",
              "<style scoped>\n",
              "    .dataframe tbody tr th:only-of-type {\n",
              "        vertical-align: middle;\n",
              "    }\n",
              "\n",
              "    .dataframe tbody tr th {\n",
              "        vertical-align: top;\n",
              "    }\n",
              "\n",
              "    .dataframe thead th {\n",
              "        text-align: right;\n",
              "    }\n",
              "</style>\n",
              "<table border=\"1\" class=\"dataframe\">\n",
              "  <thead>\n",
              "    <tr style=\"text-align: right;\">\n",
              "      <th></th>\n",
              "      <th>Primary_applicant_age_in_years</th>\n",
              "      <th>Gender</th>\n",
              "      <th>Marital_status</th>\n",
              "      <th>Number_of_dependents</th>\n",
              "      <th>Housing</th>\n",
              "      <th>Years_at_current_residence</th>\n",
              "      <th>Employment_status</th>\n",
              "      <th>empd_for_atleast</th>\n",
              "      <th>Has_been_employed_for_at_most</th>\n",
              "      <th>Foreign_worker</th>\n",
              "      <th>...</th>\n",
              "      <th>A/c balance upper</th>\n",
              "      <th>Months_loan_taken_for</th>\n",
              "      <th>Purpose</th>\n",
              "      <th>Principal_loan_amount</th>\n",
              "      <th>EMI_rate_prcnt</th>\n",
              "      <th>Property</th>\n",
              "      <th>Has_coapplicant</th>\n",
              "      <th>Has_guarantor</th>\n",
              "      <th>Number_of_existing_loans_at_this_bank</th>\n",
              "      <th>Loan_history</th>\n",
              "    </tr>\n",
              "  </thead>\n",
              "  <tbody>\n",
              "    <tr>\n",
              "      <th>0</th>\n",
              "      <td>67</td>\n",
              "      <td>1</td>\n",
              "      <td>3</td>\n",
              "      <td>1</td>\n",
              "      <td>1</td>\n",
              "      <td>4</td>\n",
              "      <td>1</td>\n",
              "      <td>3</td>\n",
              "      <td>4</td>\n",
              "      <td>1</td>\n",
              "      <td>...</td>\n",
              "      <td>0</td>\n",
              "      <td>6</td>\n",
              "      <td>5</td>\n",
              "      <td>1169000</td>\n",
              "      <td>4</td>\n",
              "      <td>2</td>\n",
              "      <td>0</td>\n",
              "      <td>0</td>\n",
              "      <td>2</td>\n",
              "      <td>1</td>\n",
              "    </tr>\n",
              "    <tr>\n",
              "      <th>1</th>\n",
              "      <td>22</td>\n",
              "      <td>0</td>\n",
              "      <td>1</td>\n",
              "      <td>1</td>\n",
              "      <td>1</td>\n",
              "      <td>2</td>\n",
              "      <td>1</td>\n",
              "      <td>1</td>\n",
              "      <td>2</td>\n",
              "      <td>1</td>\n",
              "      <td>...</td>\n",
              "      <td>1</td>\n",
              "      <td>48</td>\n",
              "      <td>5</td>\n",
              "      <td>5951000</td>\n",
              "      <td>2</td>\n",
              "      <td>2</td>\n",
              "      <td>0</td>\n",
              "      <td>0</td>\n",
              "      <td>1</td>\n",
              "      <td>3</td>\n",
              "    </tr>\n",
              "    <tr>\n",
              "      <th>2</th>\n",
              "      <td>49</td>\n",
              "      <td>1</td>\n",
              "      <td>3</td>\n",
              "      <td>2</td>\n",
              "      <td>1</td>\n",
              "      <td>3</td>\n",
              "      <td>3</td>\n",
              "      <td>2</td>\n",
              "      <td>3</td>\n",
              "      <td>1</td>\n",
              "      <td>...</td>\n",
              "      <td>0</td>\n",
              "      <td>12</td>\n",
              "      <td>4</td>\n",
              "      <td>2096000</td>\n",
              "      <td>2</td>\n",
              "      <td>2</td>\n",
              "      <td>0</td>\n",
              "      <td>0</td>\n",
              "      <td>1</td>\n",
              "      <td>1</td>\n",
              "    </tr>\n",
              "    <tr>\n",
              "      <th>3</th>\n",
              "      <td>45</td>\n",
              "      <td>1</td>\n",
              "      <td>3</td>\n",
              "      <td>2</td>\n",
              "      <td>0</td>\n",
              "      <td>4</td>\n",
              "      <td>1</td>\n",
              "      <td>2</td>\n",
              "      <td>3</td>\n",
              "      <td>1</td>\n",
              "      <td>...</td>\n",
              "      <td>0</td>\n",
              "      <td>42</td>\n",
              "      <td>0</td>\n",
              "      <td>7882000</td>\n",
              "      <td>2</td>\n",
              "      <td>0</td>\n",
              "      <td>0</td>\n",
              "      <td>1</td>\n",
              "      <td>1</td>\n",
              "      <td>3</td>\n",
              "    </tr>\n",
              "    <tr>\n",
              "      <th>4</th>\n",
              "      <td>53</td>\n",
              "      <td>1</td>\n",
              "      <td>3</td>\n",
              "      <td>2</td>\n",
              "      <td>0</td>\n",
              "      <td>4</td>\n",
              "      <td>1</td>\n",
              "      <td>1</td>\n",
              "      <td>2</td>\n",
              "      <td>1</td>\n",
              "      <td>...</td>\n",
              "      <td>0</td>\n",
              "      <td>24</td>\n",
              "      <td>6</td>\n",
              "      <td>4870000</td>\n",
              "      <td>3</td>\n",
              "      <td>0</td>\n",
              "      <td>0</td>\n",
              "      <td>0</td>\n",
              "      <td>2</td>\n",
              "      <td>2</td>\n",
              "    </tr>\n",
              "    <tr>\n",
              "      <th>...</th>\n",
              "      <td>...</td>\n",
              "      <td>...</td>\n",
              "      <td>...</td>\n",
              "      <td>...</td>\n",
              "      <td>...</td>\n",
              "      <td>...</td>\n",
              "      <td>...</td>\n",
              "      <td>...</td>\n",
              "      <td>...</td>\n",
              "      <td>...</td>\n",
              "      <td>...</td>\n",
              "      <td>...</td>\n",
              "      <td>...</td>\n",
              "      <td>...</td>\n",
              "      <td>...</td>\n",
              "      <td>...</td>\n",
              "      <td>...</td>\n",
              "      <td>...</td>\n",
              "      <td>...</td>\n",
              "      <td>...</td>\n",
              "      <td>...</td>\n",
              "    </tr>\n",
              "    <tr>\n",
              "      <th>1381</th>\n",
              "      <td>42</td>\n",
              "      <td>1</td>\n",
              "      <td>3</td>\n",
              "      <td>2</td>\n",
              "      <td>0</td>\n",
              "      <td>3</td>\n",
              "      <td>1</td>\n",
              "      <td>1</td>\n",
              "      <td>2</td>\n",
              "      <td>1</td>\n",
              "      <td>...</td>\n",
              "      <td>0</td>\n",
              "      <td>41</td>\n",
              "      <td>4</td>\n",
              "      <td>3925761</td>\n",
              "      <td>4</td>\n",
              "      <td>0</td>\n",
              "      <td>0</td>\n",
              "      <td>0</td>\n",
              "      <td>1</td>\n",
              "      <td>3</td>\n",
              "    </tr>\n",
              "    <tr>\n",
              "      <th>1382</th>\n",
              "      <td>33</td>\n",
              "      <td>0</td>\n",
              "      <td>2</td>\n",
              "      <td>1</td>\n",
              "      <td>1</td>\n",
              "      <td>2</td>\n",
              "      <td>0</td>\n",
              "      <td>0</td>\n",
              "      <td>0</td>\n",
              "      <td>1</td>\n",
              "      <td>...</td>\n",
              "      <td>0</td>\n",
              "      <td>18</td>\n",
              "      <td>5</td>\n",
              "      <td>6840044</td>\n",
              "      <td>1</td>\n",
              "      <td>0</td>\n",
              "      <td>0</td>\n",
              "      <td>0</td>\n",
              "      <td>1</td>\n",
              "      <td>0</td>\n",
              "    </tr>\n",
              "    <tr>\n",
              "      <th>1383</th>\n",
              "      <td>23</td>\n",
              "      <td>0</td>\n",
              "      <td>1</td>\n",
              "      <td>1</td>\n",
              "      <td>1</td>\n",
              "      <td>3</td>\n",
              "      <td>1</td>\n",
              "      <td>0</td>\n",
              "      <td>1</td>\n",
              "      <td>1</td>\n",
              "      <td>...</td>\n",
              "      <td>0</td>\n",
              "      <td>18</td>\n",
              "      <td>6</td>\n",
              "      <td>1940451</td>\n",
              "      <td>4</td>\n",
              "      <td>2</td>\n",
              "      <td>0</td>\n",
              "      <td>0</td>\n",
              "      <td>1</td>\n",
              "      <td>3</td>\n",
              "    </tr>\n",
              "    <tr>\n",
              "      <th>1384</th>\n",
              "      <td>35</td>\n",
              "      <td>0</td>\n",
              "      <td>2</td>\n",
              "      <td>1</td>\n",
              "      <td>0</td>\n",
              "      <td>4</td>\n",
              "      <td>1</td>\n",
              "      <td>1</td>\n",
              "      <td>2</td>\n",
              "      <td>1</td>\n",
              "      <td>...</td>\n",
              "      <td>0</td>\n",
              "      <td>30</td>\n",
              "      <td>4</td>\n",
              "      <td>1827180</td>\n",
              "      <td>4</td>\n",
              "      <td>0</td>\n",
              "      <td>0</td>\n",
              "      <td>0</td>\n",
              "      <td>1</td>\n",
              "      <td>1</td>\n",
              "    </tr>\n",
              "    <tr>\n",
              "      <th>1385</th>\n",
              "      <td>31</td>\n",
              "      <td>1</td>\n",
              "      <td>2</td>\n",
              "      <td>1</td>\n",
              "      <td>1</td>\n",
              "      <td>2</td>\n",
              "      <td>0</td>\n",
              "      <td>0</td>\n",
              "      <td>0</td>\n",
              "      <td>1</td>\n",
              "      <td>...</td>\n",
              "      <td>0</td>\n",
              "      <td>29</td>\n",
              "      <td>5</td>\n",
              "      <td>5244238</td>\n",
              "      <td>3</td>\n",
              "      <td>0</td>\n",
              "      <td>0</td>\n",
              "      <td>0</td>\n",
              "      <td>2</td>\n",
              "      <td>1</td>\n",
              "    </tr>\n",
              "  </tbody>\n",
              "</table>\n",
              "<p>1386 rows × 22 columns</p>\n",
              "</div>\n",
              "      <button class=\"colab-df-convert\" onclick=\"convertToInteractive('df-2ba9f273-fedb-4caf-a738-962fc672035e')\"\n",
              "              title=\"Convert this dataframe to an interactive table.\"\n",
              "              style=\"display:none;\">\n",
              "        \n",
              "  <svg xmlns=\"http://www.w3.org/2000/svg\" height=\"24px\"viewBox=\"0 0 24 24\"\n",
              "       width=\"24px\">\n",
              "    <path d=\"M0 0h24v24H0V0z\" fill=\"none\"/>\n",
              "    <path d=\"M18.56 5.44l.94 2.06.94-2.06 2.06-.94-2.06-.94-.94-2.06-.94 2.06-2.06.94zm-11 1L8.5 8.5l.94-2.06 2.06-.94-2.06-.94L8.5 2.5l-.94 2.06-2.06.94zm10 10l.94 2.06.94-2.06 2.06-.94-2.06-.94-.94-2.06-.94 2.06-2.06.94z\"/><path d=\"M17.41 7.96l-1.37-1.37c-.4-.4-.92-.59-1.43-.59-.52 0-1.04.2-1.43.59L10.3 9.45l-7.72 7.72c-.78.78-.78 2.05 0 2.83L4 21.41c.39.39.9.59 1.41.59.51 0 1.02-.2 1.41-.59l7.78-7.78 2.81-2.81c.8-.78.8-2.07 0-2.86zM5.41 20L4 18.59l7.72-7.72 1.47 1.35L5.41 20z\"/>\n",
              "  </svg>\n",
              "      </button>\n",
              "      \n",
              "  <style>\n",
              "    .colab-df-container {\n",
              "      display:flex;\n",
              "      flex-wrap:wrap;\n",
              "      gap: 12px;\n",
              "    }\n",
              "\n",
              "    .colab-df-convert {\n",
              "      background-color: #E8F0FE;\n",
              "      border: none;\n",
              "      border-radius: 50%;\n",
              "      cursor: pointer;\n",
              "      display: none;\n",
              "      fill: #1967D2;\n",
              "      height: 32px;\n",
              "      padding: 0 0 0 0;\n",
              "      width: 32px;\n",
              "    }\n",
              "\n",
              "    .colab-df-convert:hover {\n",
              "      background-color: #E2EBFA;\n",
              "      box-shadow: 0px 1px 2px rgba(60, 64, 67, 0.3), 0px 1px 3px 1px rgba(60, 64, 67, 0.15);\n",
              "      fill: #174EA6;\n",
              "    }\n",
              "\n",
              "    [theme=dark] .colab-df-convert {\n",
              "      background-color: #3B4455;\n",
              "      fill: #D2E3FC;\n",
              "    }\n",
              "\n",
              "    [theme=dark] .colab-df-convert:hover {\n",
              "      background-color: #434B5C;\n",
              "      box-shadow: 0px 1px 3px 1px rgba(0, 0, 0, 0.15);\n",
              "      filter: drop-shadow(0px 1px 2px rgba(0, 0, 0, 0.3));\n",
              "      fill: #FFFFFF;\n",
              "    }\n",
              "  </style>\n",
              "\n",
              "      <script>\n",
              "        const buttonEl =\n",
              "          document.querySelector('#df-2ba9f273-fedb-4caf-a738-962fc672035e button.colab-df-convert');\n",
              "        buttonEl.style.display =\n",
              "          google.colab.kernel.accessAllowed ? 'block' : 'none';\n",
              "\n",
              "        async function convertToInteractive(key) {\n",
              "          const element = document.querySelector('#df-2ba9f273-fedb-4caf-a738-962fc672035e');\n",
              "          const dataTable =\n",
              "            await google.colab.kernel.invokeFunction('convertToInteractive',\n",
              "                                                     [key], {});\n",
              "          if (!dataTable) return;\n",
              "\n",
              "          const docLinkHtml = 'Like what you see? Visit the ' +\n",
              "            '<a target=\"_blank\" href=https://colab.research.google.com/notebooks/data_table.ipynb>data table notebook</a>'\n",
              "            + ' to learn more about interactive tables.';\n",
              "          element.innerHTML = '';\n",
              "          dataTable['output_type'] = 'display_data';\n",
              "          await google.colab.output.renderOutput(dataTable, element);\n",
              "          const docLink = document.createElement('div');\n",
              "          docLink.innerHTML = docLinkHtml;\n",
              "          element.appendChild(docLink);\n",
              "        }\n",
              "      </script>\n",
              "    </div>\n",
              "  </div>\n",
              "  "
            ]
          },
          "metadata": {},
          "execution_count": 17
        }
      ]
    },
    {
      "cell_type": "code",
      "source": [
        "columns = list(train_df.columns)"
      ],
      "metadata": {
        "id": "fY_XFf8041Hu"
      },
      "execution_count": 18,
      "outputs": []
    },
    {
      "cell_type": "code",
      "source": [
        "columns.pop()\n"
      ],
      "metadata": {
        "colab": {
          "base_uri": "https://localhost:8080/",
          "height": 35
        },
        "id": "7VKNv3Nl41By",
        "outputId": "3ded4c79-83a8-44e0-86e5-de3c1b57a5f5"
      },
      "execution_count": 19,
      "outputs": [
        {
          "output_type": "execute_result",
          "data": {
            "text/plain": [
              "'high_risk_applicant'"
            ],
            "application/vnd.google.colaboratory.intrinsic+json": {
              "type": "string"
            }
          },
          "metadata": {},
          "execution_count": 19
        }
      ]
    },
    {
      "cell_type": "code",
      "source": [
        "balance_df = pd.DataFrame(x_smote, columns=columns)\n"
      ],
      "metadata": {
        "id": "yM2b9uOq40-w"
      },
      "execution_count": 20,
      "outputs": []
    },
    {
      "cell_type": "code",
      "source": [
        "balance_df['high_risk_applicant'] = y_smote\n"
      ],
      "metadata": {
        "id": "eFypkFQe4072"
      },
      "execution_count": 21,
      "outputs": []
    },
    {
      "cell_type": "code",
      "source": [
        "sns.countplot('high_risk_applicant', data = balance_df)\n"
      ],
      "metadata": {
        "colab": {
          "base_uri": "https://localhost:8080/",
          "height": 352
        },
        "id": "TDGDOEIl405M",
        "outputId": "38267642-67c6-4516-e413-95ee0431d258"
      },
      "execution_count": 22,
      "outputs": [
        {
          "output_type": "stream",
          "name": "stderr",
          "text": [
            "/usr/local/lib/python3.7/dist-packages/seaborn/_decorators.py:43: FutureWarning: Pass the following variable as a keyword arg: x. From version 0.12, the only valid positional argument will be `data`, and passing other arguments without an explicit keyword will result in an error or misinterpretation.\n",
            "  FutureWarning\n"
          ]
        },
        {
          "output_type": "execute_result",
          "data": {
            "text/plain": [
              "<matplotlib.axes._subplots.AxesSubplot at 0x7fbad3e90fd0>"
            ]
          },
          "metadata": {},
          "execution_count": 22
        },
        {
          "output_type": "display_data",
          "data": {
            "text/plain": [
              "<Figure size 432x288 with 1 Axes>"
            ],
            "image/png": "[encoded data removed]"
          },
          "metadata": {
            "needs_background": "light"
          }
        }
      ]
    },
    {
      "cell_type": "code",
      "source": [
        "balance_df[balance_df['high_risk_applicant']==1]"
      ],
      "metadata": {
        "colab": {
          "base_uri": "https://localhost:8080/",
          "height": 488
        },
        "id": "aYi5HSlz402B",
        "outputId": "f7a67705-da07-4dd0-cf30-2fdad96bd41a"
      },
      "execution_count": 23,
      "outputs": [
        {
          "output_type": "execute_result",
          "data": {
            "text/plain": [
              "      Primary_applicant_age_in_years  Gender  Marital_status  \\\n",
              "1                                 22       0               1   \n",
              "4                                 53       1               3   \n",
              "9                                 28       1               2   \n",
              "10                                25       0               1   \n",
              "11                                24       0               1   \n",
              "...                              ...     ...             ...   \n",
              "1381                              42       1               3   \n",
              "1382                              33       0               2   \n",
              "1383                              23       0               1   \n",
              "1384                              35       0               2   \n",
              "1385                              31       1               2   \n",
              "\n",
              "      Number_of_dependents  Housing  Years_at_current_residence  \\\n",
              "1                        1        1                           2   \n",
              "4                        2        0                           4   \n",
              "9                        1        1                           2   \n",
              "10                       1        2                           1   \n",
              "11                       1        2                           4   \n",
              "...                    ...      ...                         ...   \n",
              "1381                     2        0                           3   \n",
              "1382                     1        1                           2   \n",
              "1383                     1        1                           3   \n",
              "1384                     1        0                           4   \n",
              "1385                     1        1                           2   \n",
              "\n",
              "      Employment_status  empd_for_atleast  Has_been_employed_for_at_most  \\\n",
              "1                     1                 1                              2   \n",
              "4                     1                 1                              2   \n",
              "9                     0                 0                              0   \n",
              "10                    1                 0                              1   \n",
              "11                    1                 0                              1   \n",
              "...                 ...               ...                            ...   \n",
              "1381                  1                 1                              2   \n",
              "1382                  0                 0                              0   \n",
              "1383                  1                 0                              1   \n",
              "1384                  1                 1                              2   \n",
              "1385                  0                 0                              0   \n",
              "\n",
              "      Foreign_worker  ...  Months_loan_taken_for  Purpose  \\\n",
              "1                  1  ...                     48        5   \n",
              "4                  1  ...                     24        6   \n",
              "9                  1  ...                     30        6   \n",
              "10                 1  ...                     12        6   \n",
              "11                 1  ...                     48        1   \n",
              "...              ...  ...                    ...      ...   \n",
              "1381               1  ...                     41        4   \n",
              "1382               1  ...                     18        5   \n",
              "1383               1  ...                     18        6   \n",
              "1384               1  ...                     30        4   \n",
              "1385               1  ...                     29        5   \n",
              "\n",
              "      Principal_loan_amount  EMI_rate_prcnt  Property  Has_coapplicant  \\\n",
              "1                   5951000               2         2                0   \n",
              "4                   4870000               3         0                0   \n",
              "9                   5234000               4         1                0   \n",
              "10                  1295000               3         1                0   \n",
              "11                  4308000               3         0                0   \n",
              "...                     ...             ...       ...              ...   \n",
              "1381                3925761               4         0                0   \n",
              "1382                6840044               1         0                0   \n",
              "1383                1940451               4         2                0   \n",
              "1384                1827180               4         0                0   \n",
              "1385                5244238               3         0                0   \n",
              "\n",
              "      Has_guarantor  Number_of_existing_loans_at_this_bank  Loan_history  \\\n",
              "1                 0                                      1             3   \n",
              "4                 0                                      2             2   \n",
              "9                 0                                      2             1   \n",
              "10                0                                      1             3   \n",
              "11                0                                      1             3   \n",
              "...             ...                                    ...           ...   \n",
              "1381              0                                      1             3   \n",
              "1382              0                                      1             0   \n",
              "1383              0                                      1             3   \n",
              "1384              0                                      1             1   \n",
              "1385              0                                      2             1   \n",
              "\n",
              "      high_risk_applicant  \n",
              "1                       1  \n",
              "4                       1  \n",
              "9                       1  \n",
              "10                      1  \n",
              "11                      1  \n",
              "...                   ...  \n",
              "1381                    1  \n",
              "1382                    1  \n",
              "1383                    1  \n",
              "1384                    1  \n",
              "1385                    1  \n",
              "\n",
              "[693 rows x 23 columns]"
            ],
            "text/html": [
              "\n",
              "  <div id=\"df-ff4f12c4-6ca0-4acf-8c03-cc7775c7ae58\">\n",
              "    <div class=\"colab-df-container\">\n",
              "      <div>\n",
              "<style scoped>\n",
              "    .dataframe tbody tr th:only-of-type {\n",
              "        vertical-align: middle;\n",
              "    }\n",
              "\n",
              "    .dataframe tbody tr th {\n",
              "        vertical-align: top;\n",
              "    }\n",
              "\n",
              "    .dataframe thead th {\n",
              "        text-align: right;\n",
              "    }\n",
              "</style>\n",
              "<table border=\"1\" class=\"dataframe\">\n",
              "  <thead>\n",
              "    <tr style=\"text-align: right;\">\n",
              "      <th></th>\n",
              "      <th>Primary_applicant_age_in_years</th>\n",
              "      <th>Gender</th>\n",
              "      <th>Marital_status</th>\n",
              "      <th>Number_of_dependents</th>\n",
              "      <th>Housing</th>\n",
              "      <th>Years_at_current_residence</th>\n",
              "      <th>Employment_status</th>\n",
              "      <th>empd_for_atleast</th>\n",
              "      <th>Has_been_employed_for_at_most</th>\n",
              "      <th>Foreign_worker</th>\n",
              "      <th>...</th>\n",
              "      <th>Months_loan_taken_for</th>\n",
              "      <th>Purpose</th>\n",
              "      <th>Principal_loan_amount</th>\n",
              "      <th>EMI_rate_prcnt</th>\n",
              "      <th>Property</th>\n",
              "      <th>Has_coapplicant</th>\n",
              "      <th>Has_guarantor</th>\n",
              "      <th>Number_of_existing_loans_at_this_bank</th>\n",
              "      <th>Loan_history</th>\n",
              "      <th>high_risk_applicant</th>\n",
              "    </tr>\n",
              "  </thead>\n",
              "  <tbody>\n",
              "    <tr>\n",
              "      <th>1</th>\n",
              "      <td>22</td>\n",
              "      <td>0</td>\n",
              "      <td>1</td>\n",
              "      <td>1</td>\n",
              "      <td>1</td>\n",
              "      <td>2</td>\n",
              "      <td>1</td>\n",
              "      <td>1</td>\n",
              "      <td>2</td>\n",
              "      <td>1</td>\n",
              "      <td>...</td>\n",
              "      <td>48</td>\n",
              "      <td>5</td>\n",
              "      <td>5951000</td>\n",
              "      <td>2</td>\n",
              "      <td>2</td>\n",
              "      <td>0</td>\n",
              "      <td>0</td>\n",
              "      <td>1</td>\n",
              "      <td>3</td>\n",
              "      <td>1</td>\n",
              "    </tr>\n",
              "    <tr>\n",
              "      <th>4</th>\n",
              "      <td>53</td>\n",
              "      <td>1</td>\n",
              "      <td>3</td>\n",
              "      <td>2</td>\n",
              "      <td>0</td>\n",
              "      <td>4</td>\n",
              "      <td>1</td>\n",
              "      <td>1</td>\n",
              "      <td>2</td>\n",
              "      <td>1</td>\n",
              "      <td>...</td>\n",
              "      <td>24</td>\n",
              "      <td>6</td>\n",
              "      <td>4870000</td>\n",
              "      <td>3</td>\n",
              "      <td>0</td>\n",
              "      <td>0</td>\n",
              "      <td>0</td>\n",
              "      <td>2</td>\n",
              "      <td>2</td>\n",
              "      <td>1</td>\n",
              "    </tr>\n",
              "    <tr>\n",
              "      <th>9</th>\n",
              "      <td>28</td>\n",
              "      <td>1</td>\n",
              "      <td>2</td>\n",
              "      <td>1</td>\n",
              "      <td>1</td>\n",
              "      <td>2</td>\n",
              "      <td>0</td>\n",
              "      <td>0</td>\n",
              "      <td>0</td>\n",
              "      <td>1</td>\n",
              "      <td>...</td>\n",
              "      <td>30</td>\n",
              "      <td>6</td>\n",
              "      <td>5234000</td>\n",
              "      <td>4</td>\n",
              "      <td>1</td>\n",
              "      <td>0</td>\n",
              "      <td>0</td>\n",
              "      <td>2</td>\n",
              "      <td>1</td>\n",
              "      <td>1</td>\n",
              "    </tr>\n",
              "    <tr>\n",
              "      <th>10</th>\n",
              "      <td>25</td>\n",
              "      <td>0</td>\n",
              "      <td>1</td>\n",
              "      <td>1</td>\n",
              "      <td>2</td>\n",
              "      <td>1</td>\n",
              "      <td>1</td>\n",
              "      <td>0</td>\n",
              "      <td>1</td>\n",
              "      <td>1</td>\n",
              "      <td>...</td>\n",
              "      <td>12</td>\n",
              "      <td>6</td>\n",
              "      <td>1295000</td>\n",
              "      <td>3</td>\n",
              "      <td>1</td>\n",
              "      <td>0</td>\n",
              "      <td>0</td>\n",
              "      <td>1</td>\n",
              "      <td>3</td>\n",
              "      <td>1</td>\n",
              "    </tr>\n",
              "    <tr>\n",
              "      <th>11</th>\n",
              "      <td>24</td>\n",
              "      <td>0</td>\n",
              "      <td>1</td>\n",
              "      <td>1</td>\n",
              "      <td>2</td>\n",
              "      <td>4</td>\n",
              "      <td>1</td>\n",
              "      <td>0</td>\n",
              "      <td>1</td>\n",
              "      <td>1</td>\n",
              "      <td>...</td>\n",
              "      <td>48</td>\n",
              "      <td>1</td>\n",
              "      <td>4308000</td>\n",
              "      <td>3</td>\n",
              "      <td>0</td>\n",
              "      <td>0</td>\n",
              "      <td>0</td>\n",
              "      <td>1</td>\n",
              "      <td>3</td>\n",
              "      <td>1</td>\n",
              "    </tr>\n",
              "    <tr>\n",
              "      <th>...</th>\n",
              "      <td>...</td>\n",
              "      <td>...</td>\n",
              "      <td>...</td>\n",
              "      <td>...</td>\n",
              "      <td>...</td>\n",
              "      <td>...</td>\n",
              "      <td>...</td>\n",
              "      <td>...</td>\n",
              "      <td>...</td>\n",
              "      <td>...</td>\n",
              "      <td>...</td>\n",
              "      <td>...</td>\n",
              "      <td>...</td>\n",
              "      <td>...</td>\n",
              "      <td>...</td>\n",
              "      <td>...</td>\n",
              "      <td>...</td>\n",
              "      <td>...</td>\n",
              "      <td>...</td>\n",
              "      <td>...</td>\n",
              "      <td>...</td>\n",
              "    </tr>\n",
              "    <tr>\n",
              "      <th>1381</th>\n",
              "      <td>42</td>\n",
              "      <td>1</td>\n",
              "      <td>3</td>\n",
              "      <td>2</td>\n",
              "      <td>0</td>\n",
              "      <td>3</td>\n",
              "      <td>1</td>\n",
              "      <td>1</td>\n",
              "      <td>2</td>\n",
              "      <td>1</td>\n",
              "      <td>...</td>\n",
              "      <td>41</td>\n",
              "      <td>4</td>\n",
              "      <td>3925761</td>\n",
              "      <td>4</td>\n",
              "      <td>0</td>\n",
              "      <td>0</td>\n",
              "      <td>0</td>\n",
              "      <td>1</td>\n",
              "      <td>3</td>\n",
              "      <td>1</td>\n",
              "    </tr>\n",
              "    <tr>\n",
              "      <th>1382</th>\n",
              "      <td>33</td>\n",
              "      <td>0</td>\n",
              "      <td>2</td>\n",
              "      <td>1</td>\n",
              "      <td>1</td>\n",
              "      <td>2</td>\n",
              "      <td>0</td>\n",
              "      <td>0</td>\n",
              "      <td>0</td>\n",
              "      <td>1</td>\n",
              "      <td>...</td>\n",
              "      <td>18</td>\n",
              "      <td>5</td>\n",
              "      <td>6840044</td>\n",
              "      <td>1</td>\n",
              "      <td>0</td>\n",
              "      <td>0</td>\n",
              "      <td>0</td>\n",
              "      <td>1</td>\n",
              "      <td>0</td>\n",
              "      <td>1</td>\n",
              "    </tr>\n",
              "    <tr>\n",
              "      <th>1383</th>\n",
              "      <td>23</td>\n",
              "      <td>0</td>\n",
              "      <td>1</td>\n",
              "      <td>1</td>\n",
              "      <td>1</td>\n",
              "      <td>3</td>\n",
              "      <td>1</td>\n",
              "      <td>0</td>\n",
              "      <td>1</td>\n",
              "      <td>1</td>\n",
              "      <td>...</td>\n",
              "      <td>18</td>\n",
              "      <td>6</td>\n",
              "      <td>1940451</td>\n",
              "      <td>4</td>\n",
              "      <td>2</td>\n",
              "      <td>0</td>\n",
              "      <td>0</td>\n",
              "      <td>1</td>\n",
              "      <td>3</td>\n",
              "      <td>1</td>\n",
              "    </tr>\n",
              "    <tr>\n",
              "      <th>1384</th>\n",
              "      <td>35</td>\n",
              "      <td>0</td>\n",
              "      <td>2</td>\n",
              "      <td>1</td>\n",
              "      <td>0</td>\n",
              "      <td>4</td>\n",
              "      <td>1</td>\n",
              "      <td>1</td>\n",
              "      <td>2</td>\n",
              "      <td>1</td>\n",
              "      <td>...</td>\n",
              "      <td>30</td>\n",
              "      <td>4</td>\n",
              "      <td>1827180</td>\n",
              "      <td>4</td>\n",
              "      <td>0</td>\n",
              "      <td>0</td>\n",
              "      <td>0</td>\n",
              "      <td>1</td>\n",
              "      <td>1</td>\n",
              "      <td>1</td>\n",
              "    </tr>\n",
              "    <tr>\n",
              "      <th>1385</th>\n",
              "      <td>31</td>\n",
              "      <td>1</td>\n",
              "      <td>2</td>\n",
              "      <td>1</td>\n",
              "      <td>1</td>\n",
              "      <td>2</td>\n",
              "      <td>0</td>\n",
              "      <td>0</td>\n",
              "      <td>0</td>\n",
              "      <td>1</td>\n",
              "      <td>...</td>\n",
              "      <td>29</td>\n",
              "      <td>5</td>\n",
              "      <td>5244238</td>\n",
              "      <td>3</td>\n",
              "      <td>0</td>\n",
              "      <td>0</td>\n",
              "      <td>0</td>\n",
              "      <td>2</td>\n",
              "      <td>1</td>\n",
              "      <td>1</td>\n",
              "    </tr>\n",
              "  </tbody>\n",
              "</table>\n",
              "<p>693 rows × 23 columns</p>\n",
              "</div>\n",
              "      <button class=\"colab-df-convert\" onclick=\"convertToInteractive('df-ff4f12c4-6ca0-4acf-8c03-cc7775c7ae58')\"\n",
              "              title=\"Convert this dataframe to an interactive table.\"\n",
              "              style=\"display:none;\">\n",
              "        \n",
              "  <svg xmlns=\"http://www.w3.org/2000/svg\" height=\"24px\"viewBox=\"0 0 24 24\"\n",
              "       width=\"24px\">\n",
              "    <path d=\"M0 0h24v24H0V0z\" fill=\"none\"/>\n",
              "    <path d=\"M18.56 5.44l.94 2.06.94-2.06 2.06-.94-2.06-.94-.94-2.06-.94 2.06-2.06.94zm-11 1L8.5 8.5l.94-2.06 2.06-.94-2.06-.94L8.5 2.5l-.94 2.06-2.06.94zm10 10l.94 2.06.94-2.06 2.06-.94-2.06-.94-.94-2.06-.94 2.06-2.06.94z\"/><path d=\"M17.41 7.96l-1.37-1.37c-.4-.4-.92-.59-1.43-.59-.52 0-1.04.2-1.43.59L10.3 9.45l-7.72 7.72c-.78.78-.78 2.05 0 2.83L4 21.41c.39.39.9.59 1.41.59.51 0 1.02-.2 1.41-.59l7.78-7.78 2.81-2.81c.8-.78.8-2.07 0-2.86zM5.41 20L4 18.59l7.72-7.72 1.47 1.35L5.41 20z\"/>\n",
              "  </svg>\n",
              "      </button>\n",
              "      \n",
              "  <style>\n",
              "    .colab-df-container {\n",
              "      display:flex;\n",
              "      flex-wrap:wrap;\n",
              "      gap: 12px;\n",
              "    }\n",
              "\n",
              "    .colab-df-convert {\n",
              "      background-color: #E8F0FE;\n",
              "      border: none;\n",
              "      border-radius: 50%;\n",
              "      cursor: pointer;\n",
              "      display: none;\n",
              "      fill: #1967D2;\n",
              "      height: 32px;\n",
              "      padding: 0 0 0 0;\n",
              "      width: 32px;\n",
              "    }\n",
              "\n",
              "    .colab-df-convert:hover {\n",
              "      background-color: #E2EBFA;\n",
              "      box-shadow: 0px 1px 2px rgba(60, 64, 67, 0.3), 0px 1px 3px 1px rgba(60, 64, 67, 0.15);\n",
              "      fill: #174EA6;\n",
              "    }\n",
              "\n",
              "    [theme=dark] .colab-df-convert {\n",
              "      background-color: #3B4455;\n",
              "      fill: #D2E3FC;\n",
              "    }\n",
              "\n",
              "    [theme=dark] .colab-df-convert:hover {\n",
              "      background-color: #434B5C;\n",
              "      box-shadow: 0px 1px 3px 1px rgba(0, 0, 0, 0.15);\n",
              "      filter: drop-shadow(0px 1px 2px rgba(0, 0, 0, 0.3));\n",
              "      fill: #FFFFFF;\n",
              "    }\n",
              "  </style>\n",
              "\n",
              "      <script>\n",
              "        const buttonEl =\n",
              "          document.querySelector('#df-ff4f12c4-6ca0-4acf-8c03-cc7775c7ae58 button.colab-df-convert');\n",
              "        buttonEl.style.display =\n",
              "          google.colab.kernel.accessAllowed ? 'block' : 'none';\n",
              "\n",
              "        async function convertToInteractive(key) {\n",
              "          const element = document.querySelector('#df-ff4f12c4-6ca0-4acf-8c03-cc7775c7ae58');\n",
              "          const dataTable =\n",
              "            await google.colab.kernel.invokeFunction('convertToInteractive',\n",
              "                                                     [key], {});\n",
              "          if (!dataTable) return;\n",
              "\n",
              "          const docLinkHtml = 'Like what you see? Visit the ' +\n",
              "            '<a target=\"_blank\" href=https://colab.research.google.com/notebooks/data_table.ipynb>data table notebook</a>'\n",
              "            + ' to learn more about interactive tables.';\n",
              "          element.innerHTML = '';\n",
              "          dataTable['output_type'] = 'display_data';\n",
              "          await google.colab.output.renderOutput(dataTable, element);\n",
              "          const docLink = document.createElement('div');\n",
              "          docLink.innerHTML = docLinkHtml;\n",
              "          element.appendChild(docLink);\n",
              "        }\n",
              "      </script>\n",
              "    </div>\n",
              "  </div>\n",
              "  "
            ]
          },
          "metadata": {},
          "execution_count": 23
        }
      ]
    },
    {
      "cell_type": "code",
      "source": [
        "train_df = balance_df.copy()"
      ],
      "metadata": {
        "id": "z7bzTSy840za"
      },
      "execution_count": 24,
      "outputs": []
    },
    {
      "cell_type": "code",
      "source": [
        "train_df.head()"
      ],
      "metadata": {
        "colab": {
          "base_uri": "https://localhost:8080/",
          "height": 300
        },
        "id": "lnU-pwbl40w6",
        "outputId": "30e324cd-b0fa-4793-cb9e-680555f52c6e"
      },
      "execution_count": 25,
      "outputs": [
        {
          "output_type": "execute_result",
          "data": {
            "text/plain": [
              "   Primary_applicant_age_in_years  Gender  Marital_status  \\\n",
              "0                              67       1               3   \n",
              "1                              22       0               1   \n",
              "2                              49       1               3   \n",
              "3                              45       1               3   \n",
              "4                              53       1               3   \n",
              "\n",
              "   Number_of_dependents  Housing  Years_at_current_residence  \\\n",
              "0                     1        1                           4   \n",
              "1                     1        1                           2   \n",
              "2                     2        1                           3   \n",
              "3                     2        0                           4   \n",
              "4                     2        0                           4   \n",
              "\n",
              "   Employment_status  empd_for_atleast  Has_been_employed_for_at_most  \\\n",
              "0                  1                 3                              4   \n",
              "1                  1                 1                              2   \n",
              "2                  3                 2                              3   \n",
              "3                  1                 2                              3   \n",
              "4                  1                 1                              2   \n",
              "\n",
              "   Foreign_worker  ...  Months_loan_taken_for  Purpose  Principal_loan_amount  \\\n",
              "0               1  ...                      6        5                1169000   \n",
              "1               1  ...                     48        5                5951000   \n",
              "2               1  ...                     12        4                2096000   \n",
              "3               1  ...                     42        0                7882000   \n",
              "4               1  ...                     24        6                4870000   \n",
              "\n",
              "   EMI_rate_prcnt  Property  Has_coapplicant  Has_guarantor  \\\n",
              "0               4         2                0              0   \n",
              "1               2         2                0              0   \n",
              "2               2         2                0              0   \n",
              "3               2         0                0              1   \n",
              "4               3         0                0              0   \n",
              "\n",
              "   Number_of_existing_loans_at_this_bank  Loan_history  high_risk_applicant  \n",
              "0                                      2             1                    0  \n",
              "1                                      1             3                    1  \n",
              "2                                      1             1                    0  \n",
              "3                                      1             3                    0  \n",
              "4                                      2             2                    1  \n",
              "\n",
              "[5 rows x 23 columns]"
            ],
            "text/html": [
              "\n",
              "  <div id=\"df-6a60a439-bacb-4046-948a-982a88d4b3bc\">\n",
              "    <div class=\"colab-df-container\">\n",
              "      <div>\n",
              "<style scoped>\n",
              "    .dataframe tbody tr th:only-of-type {\n",
              "        vertical-align: middle;\n",
              "    }\n",
              "\n",
              "    .dataframe tbody tr th {\n",
              "        vertical-align: top;\n",
              "    }\n",
              "\n",
              "    .dataframe thead th {\n",
              "        text-align: right;\n",
              "    }\n",
              "</style>\n",
              "<table border=\"1\" class=\"dataframe\">\n",
              "  <thead>\n",
              "    <tr style=\"text-align: right;\">\n",
              "      <th></th>\n",
              "      <th>Primary_applicant_age_in_years</th>\n",
              "      <th>Gender</th>\n",
              "      <th>Marital_status</th>\n",
              "      <th>Number_of_dependents</th>\n",
              "      <th>Housing</th>\n",
              "      <th>Years_at_current_residence</th>\n",
              "      <th>Employment_status</th>\n",
              "      <th>empd_for_atleast</th>\n",
              "      <th>Has_been_employed_for_at_most</th>\n",
              "      <th>Foreign_worker</th>\n",
              "      <th>...</th>\n",
              "      <th>Months_loan_taken_for</th>\n",
              "      <th>Purpose</th>\n",
              "      <th>Principal_loan_amount</th>\n",
              "      <th>EMI_rate_prcnt</th>\n",
              "      <th>Property</th>\n",
              "      <th>Has_coapplicant</th>\n",
              "      <th>Has_guarantor</th>\n",
              "      <th>Number_of_existing_loans_at_this_bank</th>\n",
              "      <th>Loan_history</th>\n",
              "      <th>high_risk_applicant</th>\n",
              "    </tr>\n",
              "  </thead>\n",
              "  <tbody>\n",
              "    <tr>\n",
              "      <th>0</th>\n",
              "      <td>67</td>\n",
              "      <td>1</td>\n",
              "      <td>3</td>\n",
              "      <td>1</td>\n",
              "      <td>1</td>\n",
              "      <td>4</td>\n",
              "      <td>1</td>\n",
              "      <td>3</td>\n",
              "      <td>4</td>\n",
              "      <td>1</td>\n",
              "      <td>...</td>\n",
              "      <td>6</td>\n",
              "      <td>5</td>\n",
              "      <td>1169000</td>\n",
              "      <td>4</td>\n",
              "      <td>2</td>\n",
              "      <td>0</td>\n",
              "      <td>0</td>\n",
              "      <td>2</td>\n",
              "      <td>1</td>\n",
              "      <td>0</td>\n",
              "    </tr>\n",
              "    <tr>\n",
              "      <th>1</th>\n",
              "      <td>22</td>\n",
              "      <td>0</td>\n",
              "      <td>1</td>\n",
              "      <td>1</td>\n",
              "      <td>1</td>\n",
              "      <td>2</td>\n",
              "      <td>1</td>\n",
              "      <td>1</td>\n",
              "      <td>2</td>\n",
              "      <td>1</td>\n",
              "      <td>...</td>\n",
              "      <td>48</td>\n",
              "      <td>5</td>\n",
              "      <td>5951000</td>\n",
              "      <td>2</td>\n",
              "      <td>2</td>\n",
              "      <td>0</td>\n",
              "      <td>0</td>\n",
              "      <td>1</td>\n",
              "      <td>3</td>\n",
              "      <td>1</td>\n",
              "    </tr>\n",
              "    <tr>\n",
              "      <th>2</th>\n",
              "      <td>49</td>\n",
              "      <td>1</td>\n",
              "      <td>3</td>\n",
              "      <td>2</td>\n",
              "      <td>1</td>\n",
              "      <td>3</td>\n",
              "      <td>3</td>\n",
              "      <td>2</td>\n",
              "      <td>3</td>\n",
              "      <td>1</td>\n",
              "      <td>...</td>\n",
              "      <td>12</td>\n",
              "      <td>4</td>\n",
              "      <td>2096000</td>\n",
              "      <td>2</td>\n",
              "      <td>2</td>\n",
              "      <td>0</td>\n",
              "      <td>0</td>\n",
              "      <td>1</td>\n",
              "      <td>1</td>\n",
              "      <td>0</td>\n",
              "    </tr>\n",
              "    <tr>\n",
              "      <th>3</th>\n",
              "      <td>45</td>\n",
              "      <td>1</td>\n",
              "      <td>3</td>\n",
              "      <td>2</td>\n",
              "      <td>0</td>\n",
              "      <td>4</td>\n",
              "      <td>1</td>\n",
              "      <td>2</td>\n",
              "      <td>3</td>\n",
              "      <td>1</td>\n",
              "      <td>...</td>\n",
              "      <td>42</td>\n",
              "      <td>0</td>\n",
              "      <td>7882000</td>\n",
              "      <td>2</td>\n",
              "      <td>0</td>\n",
              "      <td>0</td>\n",
              "      <td>1</td>\n",
              "      <td>1</td>\n",
              "      <td>3</td>\n",
              "      <td>0</td>\n",
              "    </tr>\n",
              "    <tr>\n",
              "      <th>4</th>\n",
              "      <td>53</td>\n",
              "      <td>1</td>\n",
              "      <td>3</td>\n",
              "      <td>2</td>\n",
              "      <td>0</td>\n",
              "      <td>4</td>\n",
              "      <td>1</td>\n",
              "      <td>1</td>\n",
              "      <td>2</td>\n",
              "      <td>1</td>\n",
              "      <td>...</td>\n",
              "      <td>24</td>\n",
              "      <td>6</td>\n",
              "      <td>4870000</td>\n",
              "      <td>3</td>\n",
              "      <td>0</td>\n",
              "      <td>0</td>\n",
              "      <td>0</td>\n",
              "      <td>2</td>\n",
              "      <td>2</td>\n",
              "      <td>1</td>\n",
              "    </tr>\n",
              "  </tbody>\n",
              "</table>\n",
              "<p>5 rows × 23 columns</p>\n",
              "</div>\n",
              "      <button class=\"colab-df-convert\" onclick=\"convertToInteractive('df-6a60a439-bacb-4046-948a-982a88d4b3bc')\"\n",
              "              title=\"Convert this dataframe to an interactive table.\"\n",
              "              style=\"display:none;\">\n",
              "        \n",
              "  <svg xmlns=\"http://www.w3.org/2000/svg\" height=\"24px\"viewBox=\"0 0 24 24\"\n",
              "       width=\"24px\">\n",
              "    <path d=\"M0 0h24v24H0V0z\" fill=\"none\"/>\n",
              "    <path d=\"M18.56 5.44l.94 2.06.94-2.06 2.06-.94-2.06-.94-.94-2.06-.94 2.06-2.06.94zm-11 1L8.5 8.5l.94-2.06 2.06-.94-2.06-.94L8.5 2.5l-.94 2.06-2.06.94zm10 10l.94 2.06.94-2.06 2.06-.94-2.06-.94-.94-2.06-.94 2.06-2.06.94z\"/><path d=\"M17.41 7.96l-1.37-1.37c-.4-.4-.92-.59-1.43-.59-.52 0-1.04.2-1.43.59L10.3 9.45l-7.72 7.72c-.78.78-.78 2.05 0 2.83L4 21.41c.39.39.9.59 1.41.59.51 0 1.02-.2 1.41-.59l7.78-7.78 2.81-2.81c.8-.78.8-2.07 0-2.86zM5.41 20L4 18.59l7.72-7.72 1.47 1.35L5.41 20z\"/>\n",
              "  </svg>\n",
              "      </button>\n",
              "      \n",
              "  <style>\n",
              "    .colab-df-container {\n",
              "      display:flex;\n",
              "      flex-wrap:wrap;\n",
              "      gap: 12px;\n",
              "    }\n",
              "\n",
              "    .colab-df-convert {\n",
              "      background-color: #E8F0FE;\n",
              "      border: none;\n",
              "      border-radius: 50%;\n",
              "      cursor: pointer;\n",
              "      display: none;\n",
              "      fill: #1967D2;\n",
              "      height: 32px;\n",
              "      padding: 0 0 0 0;\n",
              "      width: 32px;\n",
              "    }\n",
              "\n",
              "    .colab-df-convert:hover {\n",
              "      background-color: #E2EBFA;\n",
              "      box-shadow: 0px 1px 2px rgba(60, 64, 67, 0.3), 0px 1px 3px 1px rgba(60, 64, 67, 0.15);\n",
              "      fill: #174EA6;\n",
              "    }\n",
              "\n",
              "    [theme=dark] .colab-df-convert {\n",
              "      background-color: #3B4455;\n",
              "      fill: #D2E3FC;\n",
              "    }\n",
              "\n",
              "    [theme=dark] .colab-df-convert:hover {\n",
              "      background-color: #434B5C;\n",
              "      box-shadow: 0px 1px 3px 1px rgba(0, 0, 0, 0.15);\n",
              "      filter: drop-shadow(0px 1px 2px rgba(0, 0, 0, 0.3));\n",
              "      fill: #FFFFFF;\n",
              "    }\n",
              "  </style>\n",
              "\n",
              "      <script>\n",
              "        const buttonEl =\n",
              "          document.querySelector('#df-6a60a439-bacb-4046-948a-982a88d4b3bc button.colab-df-convert');\n",
              "        buttonEl.style.display =\n",
              "          google.colab.kernel.accessAllowed ? 'block' : 'none';\n",
              "\n",
              "        async function convertToInteractive(key) {\n",
              "          const element = document.querySelector('#df-6a60a439-bacb-4046-948a-982a88d4b3bc');\n",
              "          const dataTable =\n",
              "            await google.colab.kernel.invokeFunction('convertToInteractive',\n",
              "                                                     [key], {});\n",
              "          if (!dataTable) return;\n",
              "\n",
              "          const docLinkHtml = 'Like what you see? Visit the ' +\n",
              "            '<a target=\"_blank\" href=https://colab.research.google.com/notebooks/data_table.ipynb>data table notebook</a>'\n",
              "            + ' to learn more about interactive tables.';\n",
              "          element.innerHTML = '';\n",
              "          dataTable['output_type'] = 'display_data';\n",
              "          await google.colab.output.renderOutput(dataTable, element);\n",
              "          const docLink = document.createElement('div');\n",
              "          docLink.innerHTML = docLinkHtml;\n",
              "          element.appendChild(docLink);\n",
              "        }\n",
              "      </script>\n",
              "    </div>\n",
              "  </div>\n",
              "  "
            ]
          },
          "metadata": {},
          "execution_count": 25
        }
      ]
    },
    {
      "cell_type": "code",
      "source": [
        "train_df = train_df[columns_to_keep]"
      ],
      "metadata": {
        "id": "pkss8_0i40tz"
      },
      "execution_count": 26,
      "outputs": []
    },
    {
      "cell_type": "code",
      "source": [
        "train_df.columns"
      ],
      "metadata": {
        "colab": {
          "base_uri": "https://localhost:8080/"
        },
        "id": "fCwNogoX40qz",
        "outputId": "8d77d33f-c068-4554-8cb0-4b0fab63f5e8"
      },
      "execution_count": 27,
      "outputs": [
        {
          "output_type": "execute_result",
          "data": {
            "text/plain": [
              "Index(['Primary_applicant_age_in_years', 'Gender', 'Marital_status',\n",
              "       'Number_of_dependents', 'Housing', 'Years_at_current_residence',\n",
              "       'Employment_status', 'empd_for_atleast',\n",
              "       'Has_been_employed_for_at_most', 'Foreign_worker',\n",
              "       'Savings_account_balance', 'A/c balance lower', 'A/c balance upper',\n",
              "       'Months_loan_taken_for', 'Purpose', 'Principal_loan_amount',\n",
              "       'EMI_rate_prcnt', 'Property', 'Has_coapplicant', 'Has_guarantor',\n",
              "       'Number_of_existing_loans_at_this_bank', 'Loan_history',\n",
              "       'high_risk_applicant'],\n",
              "      dtype='object')"
            ]
          },
          "metadata": {},
          "execution_count": 27
        }
      ]
    },
    {
      "cell_type": "code",
      "source": [
        "features = ['Primary_applicant_age_in_years', 'Gender', 'Marital_status',\n",
        "       'Number_of_dependents', 'Housing', 'Years_at_current_residence',\n",
        "       'Employment_status', 'empd_for_atleast',\n",
        "       'Has_been_employed_for_at_most', 'Foreign_worker',\n",
        "       'Savings_account_balance', 'A/c balance lower', 'A/c balance upper',\n",
        "       'Months_loan_taken_for', 'Purpose', 'Principal_loan_amount',\n",
        "       'EMI_rate_prcnt', 'Property', 'Has_coapplicant', 'Has_guarantor',\n",
        "       'Number_of_existing_loans_at_this_bank', 'Loan_history']"
      ],
      "metadata": {
        "id": "YvFgLpQX40n-"
      },
      "execution_count": 28,
      "outputs": []
    },
    {
      "cell_type": "code",
      "source": [
        "# Displaying features\n",
        "features"
      ],
      "metadata": {
        "colab": {
          "base_uri": "https://localhost:8080/"
        },
        "id": "-R787HNs40lC",
        "outputId": "6ce796ae-bed3-4725-c531-4293e62f7614"
      },
      "execution_count": 29,
      "outputs": [
        {
          "output_type": "execute_result",
          "data": {
            "text/plain": [
              "['Primary_applicant_age_in_years',\n",
              " 'Gender',\n",
              " 'Marital_status',\n",
              " 'Number_of_dependents',\n",
              " 'Housing',\n",
              " 'Years_at_current_residence',\n",
              " 'Employment_status',\n",
              " 'empd_for_atleast',\n",
              " 'Has_been_employed_for_at_most',\n",
              " 'Foreign_worker',\n",
              " 'Savings_account_balance',\n",
              " 'A/c balance lower',\n",
              " 'A/c balance upper',\n",
              " 'Months_loan_taken_for',\n",
              " 'Purpose',\n",
              " 'Principal_loan_amount',\n",
              " 'EMI_rate_prcnt',\n",
              " 'Property',\n",
              " 'Has_coapplicant',\n",
              " 'Has_guarantor',\n",
              " 'Number_of_existing_loans_at_this_bank',\n",
              " 'Loan_history']"
            ]
          },
          "metadata": {},
          "execution_count": 29
        }
      ]
    },
    {
      "cell_type": "code",
      "source": [
        "from sklearn import preprocessing"
      ],
      "metadata": {
        "id": "R32ulxIX40ib"
      },
      "execution_count": 30,
      "outputs": []
    },
    {
      "cell_type": "code",
      "source": [
        "dataset_pr = train_df.copy()"
      ],
      "metadata": {
        "id": "RUTKhKWF40fh"
      },
      "execution_count": 31,
      "outputs": []
    },
    {
      "cell_type": "code",
      "source": [
        "from scipy.stats import zscore\n",
        "\n",
        "X = dataset_pr[features].apply(zscore)"
      ],
      "metadata": {
        "id": "f4ipzmz940c1"
      },
      "execution_count": 32,
      "outputs": []
    },
    {
      "cell_type": "code",
      "source": [
        "y = train_df['high_risk_applicant']"
      ],
      "metadata": {
        "id": "-vyNasaq40Z9"
      },
      "execution_count": 33,
      "outputs": []
    },
    {
      "cell_type": "code",
      "source": [
        "X.head()"
      ],
      "metadata": {
        "colab": {
          "base_uri": "https://localhost:8080/",
          "height": 334
        },
        "id": "xaHcsA1h40XB",
        "outputId": "6e66d6ef-17a3-4c31-adff-8365fdd1061b"
      },
      "execution_count": 34,
      "outputs": [
        {
          "output_type": "execute_result",
          "data": {
            "text/plain": [
              "   Primary_applicant_age_in_years    Gender  Marital_status  \\\n",
              "0                        2.963789  0.801361        0.972003   \n",
              "1                       -1.205732 -1.247876       -1.007712   \n",
              "2                        1.295981  0.801361        0.972003   \n",
              "3                        0.925357  0.801361        0.972003   \n",
              "4                        1.666605  0.801361        0.972003   \n",
              "\n",
              "   Number_of_dependents   Housing  Years_at_current_residence  \\\n",
              "0             -0.362531 -0.018901                    1.194986   \n",
              "1             -0.362531 -0.018901                   -0.687117   \n",
              "2              2.758386 -0.018901                    0.253935   \n",
              "3              2.758386 -1.890063                    1.194986   \n",
              "4              2.758386 -1.890063                    1.194986   \n",
              "\n",
              "   Employment_status  empd_for_atleast  Has_been_employed_for_at_most  \\\n",
              "0          -0.217640          1.616738                       1.529987   \n",
              "1          -0.217640         -0.258407                      -0.175330   \n",
              "2           1.992247          0.679165                       0.677328   \n",
              "3          -0.217640          0.679165                       0.677328   \n",
              "4          -0.217640         -0.258407                      -0.175330   \n",
              "\n",
              "   Foreign_worker  ...  A/c balance upper  Months_loan_taken_for   Purpose  \\\n",
              "0        0.176777  ...          -0.537868              -1.318338  0.374993   \n",
              "1        0.176777  ...           1.859191               2.267285  0.374993   \n",
              "2        0.176777  ...          -0.537868              -0.806106 -0.022970   \n",
              "3        0.176777  ...          -0.537868               1.755053 -1.614825   \n",
              "4        0.176777  ...          -0.537868               0.218358  0.772957   \n",
              "\n",
              "   Principal_loan_amount  EMI_rate_prcnt  Property  Has_coapplicant  \\\n",
              "0              -0.743002        0.982627  1.441450        -0.165613   \n",
              "1               0.908501       -0.847912  1.441450        -0.165613   \n",
              "2              -0.422855       -0.847912  1.441450        -0.165613   \n",
              "3               1.575388       -0.847912 -1.105203        -0.165613   \n",
              "4               0.535169        0.067358 -1.105203        -0.165613   \n",
              "\n",
              "   Has_guarantor  Number_of_existing_loans_at_this_bank  Loan_history  \n",
              "0      -0.195454                               1.219133     -1.119473  \n",
              "1      -0.195454                              -0.613533      0.777336  \n",
              "2      -0.195454                              -0.613533     -1.119473  \n",
              "3       5.116295                              -0.613533      0.777336  \n",
              "4      -0.195454                               1.219133     -0.171069  \n",
              "\n",
              "[5 rows x 22 columns]"
            ],
            "text/html": [
              "\n",
              "  <div id=\"df-e9000501-2cab-478e-ac2e-4c6ffc4745a9\">\n",
              "    <div class=\"colab-df-container\">\n",
              "      <div>\n",
              "<style scoped>\n",
              "    .dataframe tbody tr th:only-of-type {\n",
              "        vertical-align: middle;\n",
              "    }\n",
              "\n",
              "    .dataframe tbody tr th {\n",
              "        vertical-align: top;\n",
              "    }\n",
              "\n",
              "    .dataframe thead th {\n",
              "        text-align: right;\n",
              "    }\n",
              "</style>\n",
              "<table border=\"1\" class=\"dataframe\">\n",
              "  <thead>\n",
              "    <tr style=\"text-align: right;\">\n",
              "      <th></th>\n",
              "      <th>Primary_applicant_age_in_years</th>\n",
              "      <th>Gender</th>\n",
              "      <th>Marital_status</th>\n",
              "      <th>Number_of_dependents</th>\n",
              "      <th>Housing</th>\n",
              "      <th>Years_at_current_residence</th>\n",
              "      <th>Employment_status</th>\n",
              "      <th>empd_for_atleast</th>\n",
              "      <th>Has_been_employed_for_at_most</th>\n",
              "      <th>Foreign_worker</th>\n",
              "      <th>...</th>\n",
              "      <th>A/c balance upper</th>\n",
              "      <th>Months_loan_taken_for</th>\n",
              "      <th>Purpose</th>\n",
              "      <th>Principal_loan_amount</th>\n",
              "      <th>EMI_rate_prcnt</th>\n",
              "      <th>Property</th>\n",
              "      <th>Has_coapplicant</th>\n",
              "      <th>Has_guarantor</th>\n",
              "      <th>Number_of_existing_loans_at_this_bank</th>\n",
              "      <th>Loan_history</th>\n",
              "    </tr>\n",
              "  </thead>\n",
              "  <tbody>\n",
              "    <tr>\n",
              "      <th>0</th>\n",
              "      <td>2.963789</td>\n",
              "      <td>0.801361</td>\n",
              "      <td>0.972003</td>\n",
              "      <td>-0.362531</td>\n",
              "      <td>-0.018901</td>\n",
              "      <td>1.194986</td>\n",
              "      <td>-0.217640</td>\n",
              "      <td>1.616738</td>\n",
              "      <td>1.529987</td>\n",
              "      <td>0.176777</td>\n",
              "      <td>...</td>\n",
              "      <td>-0.537868</td>\n",
              "      <td>-1.318338</td>\n",
              "      <td>0.374993</td>\n",
              "      <td>-0.743002</td>\n",
              "      <td>0.982627</td>\n",
              "      <td>1.441450</td>\n",
              "      <td>-0.165613</td>\n",
              "      <td>-0.195454</td>\n",
              "      <td>1.219133</td>\n",
              "      <td>-1.119473</td>\n",
              "    </tr>\n",
              "    <tr>\n",
              "      <th>1</th>\n",
              "      <td>-1.205732</td>\n",
              "      <td>-1.247876</td>\n",
              "      <td>-1.007712</td>\n",
              "      <td>-0.362531</td>\n",
              "      <td>-0.018901</td>\n",
              "      <td>-0.687117</td>\n",
              "      <td>-0.217640</td>\n",
              "      <td>-0.258407</td>\n",
              "      <td>-0.175330</td>\n",
              "      <td>0.176777</td>\n",
              "      <td>...</td>\n",
              "      <td>1.859191</td>\n",
              "      <td>2.267285</td>\n",
              "      <td>0.374993</td>\n",
              "      <td>0.908501</td>\n",
              "      <td>-0.847912</td>\n",
              "      <td>1.441450</td>\n",
              "      <td>-0.165613</td>\n",
              "      <td>-0.195454</td>\n",
              "      <td>-0.613533</td>\n",
              "      <td>0.777336</td>\n",
              "    </tr>\n",
              "    <tr>\n",
              "      <th>2</th>\n",
              "      <td>1.295981</td>\n",
              "      <td>0.801361</td>\n",
              "      <td>0.972003</td>\n",
              "      <td>2.758386</td>\n",
              "      <td>-0.018901</td>\n",
              "      <td>0.253935</td>\n",
              "      <td>1.992247</td>\n",
              "      <td>0.679165</td>\n",
              "      <td>0.677328</td>\n",
              "      <td>0.176777</td>\n",
              "      <td>...</td>\n",
              "      <td>-0.537868</td>\n",
              "      <td>-0.806106</td>\n",
              "      <td>-0.022970</td>\n",
              "      <td>-0.422855</td>\n",
              "      <td>-0.847912</td>\n",
              "      <td>1.441450</td>\n",
              "      <td>-0.165613</td>\n",
              "      <td>-0.195454</td>\n",
              "      <td>-0.613533</td>\n",
              "      <td>-1.119473</td>\n",
              "    </tr>\n",
              "    <tr>\n",
              "      <th>3</th>\n",
              "      <td>0.925357</td>\n",
              "      <td>0.801361</td>\n",
              "      <td>0.972003</td>\n",
              "      <td>2.758386</td>\n",
              "      <td>-1.890063</td>\n",
              "      <td>1.194986</td>\n",
              "      <td>-0.217640</td>\n",
              "      <td>0.679165</td>\n",
              "      <td>0.677328</td>\n",
              "      <td>0.176777</td>\n",
              "      <td>...</td>\n",
              "      <td>-0.537868</td>\n",
              "      <td>1.755053</td>\n",
              "      <td>-1.614825</td>\n",
              "      <td>1.575388</td>\n",
              "      <td>-0.847912</td>\n",
              "      <td>-1.105203</td>\n",
              "      <td>-0.165613</td>\n",
              "      <td>5.116295</td>\n",
              "      <td>-0.613533</td>\n",
              "      <td>0.777336</td>\n",
              "    </tr>\n",
              "    <tr>\n",
              "      <th>4</th>\n",
              "      <td>1.666605</td>\n",
              "      <td>0.801361</td>\n",
              "      <td>0.972003</td>\n",
              "      <td>2.758386</td>\n",
              "      <td>-1.890063</td>\n",
              "      <td>1.194986</td>\n",
              "      <td>-0.217640</td>\n",
              "      <td>-0.258407</td>\n",
              "      <td>-0.175330</td>\n",
              "      <td>0.176777</td>\n",
              "      <td>...</td>\n",
              "      <td>-0.537868</td>\n",
              "      <td>0.218358</td>\n",
              "      <td>0.772957</td>\n",
              "      <td>0.535169</td>\n",
              "      <td>0.067358</td>\n",
              "      <td>-1.105203</td>\n",
              "      <td>-0.165613</td>\n",
              "      <td>-0.195454</td>\n",
              "      <td>1.219133</td>\n",
              "      <td>-0.171069</td>\n",
              "    </tr>\n",
              "  </tbody>\n",
              "</table>\n",
              "<p>5 rows × 22 columns</p>\n",
              "</div>\n",
              "      <button class=\"colab-df-convert\" onclick=\"convertToInteractive('df-e9000501-2cab-478e-ac2e-4c6ffc4745a9')\"\n",
              "              title=\"Convert this dataframe to an interactive table.\"\n",
              "              style=\"display:none;\">\n",
              "        \n",
              "  <svg xmlns=\"http://www.w3.org/2000/svg\" height=\"24px\"viewBox=\"0 0 24 24\"\n",
              "       width=\"24px\">\n",
              "    <path d=\"M0 0h24v24H0V0z\" fill=\"none\"/>\n",
              "    <path d=\"M18.56 5.44l.94 2.06.94-2.06 2.06-.94-2.06-.94-.94-2.06-.94 2.06-2.06.94zm-11 1L8.5 8.5l.94-2.06 2.06-.94-2.06-.94L8.5 2.5l-.94 2.06-2.06.94zm10 10l.94 2.06.94-2.06 2.06-.94-2.06-.94-.94-2.06-.94 2.06-2.06.94z\"/><path d=\"M17.41 7.96l-1.37-1.37c-.4-.4-.92-.59-1.43-.59-.52 0-1.04.2-1.43.59L10.3 9.45l-7.72 7.72c-.78.78-.78 2.05 0 2.83L4 21.41c.39.39.9.59 1.41.59.51 0 1.02-.2 1.41-.59l7.78-7.78 2.81-2.81c.8-.78.8-2.07 0-2.86zM5.41 20L4 18.59l7.72-7.72 1.47 1.35L5.41 20z\"/>\n",
              "  </svg>\n",
              "      </button>\n",
              "      \n",
              "  <style>\n",
              "    .colab-df-container {\n",
              "      display:flex;\n",
              "      flex-wrap:wrap;\n",
              "      gap: 12px;\n",
              "    }\n",
              "\n",
              "    .colab-df-convert {\n",
              "      background-color: #E8F0FE;\n",
              "      border: none;\n",
              "      border-radius: 50%;\n",
              "      cursor: pointer;\n",
              "      display: none;\n",
              "      fill: #1967D2;\n",
              "      height: 32px;\n",
              "      padding: 0 0 0 0;\n",
              "      width: 32px;\n",
              "    }\n",
              "\n",
              "    .colab-df-convert:hover {\n",
              "      background-color: #E2EBFA;\n",
              "      box-shadow: 0px 1px 2px rgba(60, 64, 67, 0.3), 0px 1px 3px 1px rgba(60, 64, 67, 0.15);\n",
              "      fill: #174EA6;\n",
              "    }\n",
              "\n",
              "    [theme=dark] .colab-df-convert {\n",
              "      background-color: #3B4455;\n",
              "      fill: #D2E3FC;\n",
              "    }\n",
              "\n",
              "    [theme=dark] .colab-df-convert:hover {\n",
              "      background-color: #434B5C;\n",
              "      box-shadow: 0px 1px 3px 1px rgba(0, 0, 0, 0.15);\n",
              "      filter: drop-shadow(0px 1px 2px rgba(0, 0, 0, 0.3));\n",
              "      fill: #FFFFFF;\n",
              "    }\n",
              "  </style>\n",
              "\n",
              "      <script>\n",
              "        const buttonEl =\n",
              "          document.querySelector('#df-e9000501-2cab-478e-ac2e-4c6ffc4745a9 button.colab-df-convert');\n",
              "        buttonEl.style.display =\n",
              "          google.colab.kernel.accessAllowed ? 'block' : 'none';\n",
              "\n",
              "        async function convertToInteractive(key) {\n",
              "          const element = document.querySelector('#df-e9000501-2cab-478e-ac2e-4c6ffc4745a9');\n",
              "          const dataTable =\n",
              "            await google.colab.kernel.invokeFunction('convertToInteractive',\n",
              "                                                     [key], {});\n",
              "          if (!dataTable) return;\n",
              "\n",
              "          const docLinkHtml = 'Like what you see? Visit the ' +\n",
              "            '<a target=\"_blank\" href=https://colab.research.google.com/notebooks/data_table.ipynb>data table notebook</a>'\n",
              "            + ' to learn more about interactive tables.';\n",
              "          element.innerHTML = '';\n",
              "          dataTable['output_type'] = 'display_data';\n",
              "          await google.colab.output.renderOutput(dataTable, element);\n",
              "          const docLink = document.createElement('div');\n",
              "          docLink.innerHTML = docLinkHtml;\n",
              "          element.appendChild(docLink);\n",
              "        }\n",
              "      </script>\n",
              "    </div>\n",
              "  </div>\n",
              "  "
            ]
          },
          "metadata": {},
          "execution_count": 34
        }
      ]
    },
    {
      "cell_type": "code",
      "source": [
        "X = train_df.drop(['high_risk_applicant'],axis=1)\n",
        "y = train_df['high_risk_applicant']"
      ],
      "metadata": {
        "id": "yEXApxEC40US"
      },
      "execution_count": 35,
      "outputs": []
    },
    {
      "cell_type": "code",
      "source": [
        "columns = X.columns"
      ],
      "metadata": {
        "id": "a1xpptyy40Rq"
      },
      "execution_count": 36,
      "outputs": []
    },
    {
      "cell_type": "code",
      "source": [
        "# Using StandardScaler\n",
        "scaler = StandardScaler()\n",
        "X = scaler.fit_transform(X)"
      ],
      "metadata": {
        "id": "jQK3didU40O8"
      },
      "execution_count": 37,
      "outputs": []
    },
    {
      "cell_type": "code",
      "source": [
        "# Train Test Split\n",
        "X_train, X_test, y_train, y_test = train_test_split(X, y, test_size=0.30, random_state=42, stratify = y)"
      ],
      "metadata": {
        "id": "mzIYqPPB40Mc"
      },
      "execution_count": 38,
      "outputs": []
    },
    {
      "cell_type": "code",
      "source": [
        "param_grid = {'penalty':['l1','l2'], 'C' : [0.001, 0.01, 0.1, 1, 10, 100, 1000]}"
      ],
      "metadata": {
        "id": "5QZheWrz40Jh"
      },
      "execution_count": 39,
      "outputs": []
    },
    {
      "cell_type": "code",
      "source": [
        "grid_lr_clf = GridSearchCV(LogisticRegression(), param_grid, scoring = 'accuracy', n_jobs = -1, verbose = 3, cv = 3)\n",
        "grid_lr_clf.fit(X_train, y_train)"
      ],
      "metadata": {
        "colab": {
          "base_uri": "https://localhost:8080/"
        },
        "id": "uqtj2hP-40Gf",
        "outputId": "309a3a65-a75b-4003-9372-1f6c09149c9c"
      },
      "execution_count": 40,
      "outputs": [
        {
          "output_type": "stream",
          "name": "stdout",
          "text": [
            "Fitting 3 folds for each of 14 candidates, totalling 42 fits\n"
          ]
        },
        {
          "output_type": "stream",
          "name": "stderr",
          "text": [
            "/usr/local/lib/python3.7/dist-packages/sklearn/model_selection/_validation.py:372: FitFailedWarning: \n",
            "21 fits failed out of a total of 42.\n",
            "The score on these train-test partitions for these parameters will be set to nan.\n",
            "If these failures are not expected, you can try to debug them by setting error_score='raise'.\n",
            "\n",
            "Below are more details about the failures:\n",
            "--------------------------------------------------------------------------------\n",
            "21 fits failed with the following error:\n",
            "Traceback (most recent call last):\n",
            "  File \"/usr/local/lib/python3.7/dist-packages/sklearn/model_selection/_validation.py\", line 680, in _fit_and_score\n",
            "    estimator.fit(X_train, y_train, **fit_params)\n",
            "  File \"/usr/local/lib/python3.7/dist-packages/sklearn/linear_model/_logistic.py\", line 1461, in fit\n",
            "    solver = _check_solver(self.solver, self.penalty, self.dual)\n",
            "  File \"/usr/local/lib/python3.7/dist-packages/sklearn/linear_model/_logistic.py\", line 449, in _check_solver\n",
            "    % (solver, penalty)\n",
            "ValueError: Solver lbfgs supports only 'l2' or 'none' penalties, got l1 penalty.\n",
            "\n",
            "  warnings.warn(some_fits_failed_message, FitFailedWarning)\n",
            "/usr/local/lib/python3.7/dist-packages/sklearn/model_selection/_search.py:972: UserWarning: One or more of the test scores are non-finite: [       nan 0.70100587        nan 0.69998025        nan 0.7009995\n",
            "        nan 0.70408592        nan 0.70408274        nan 0.70408274\n",
            "        nan 0.70408274]\n",
            "  category=UserWarning,\n"
          ]
        },
        {
          "output_type": "execute_result",
          "data": {
            "text/plain": [
              "GridSearchCV(cv=3, estimator=LogisticRegression(), n_jobs=-1,\n",
              "             param_grid={'C': [0.001, 0.01, 0.1, 1, 10, 100, 1000],\n",
              "                         'penalty': ['l1', 'l2']},\n",
              "             scoring='accuracy', verbose=3)"
            ]
          },
          "metadata": {},
          "execution_count": 40
        }
      ]
    },
    {
      "cell_type": "code",
      "source": [
        "optimized_clf = grid_lr_clf.best_estimator_"
      ],
      "metadata": {
        "id": "-EDrGGDT40DR"
      },
      "execution_count": 41,
      "outputs": []
    },
    {
      "cell_type": "code",
      "source": [
        "# Displaying the best parameters\n",
        "grid_lr_clf.best_params_"
      ],
      "metadata": {
        "colab": {
          "base_uri": "https://localhost:8080/"
        },
        "id": "bqiRL0tv40AY",
        "outputId": "f3e555ce-1d1d-4d5b-baba-ee6db1a9ceae"
      },
      "execution_count": 42,
      "outputs": [
        {
          "output_type": "execute_result",
          "data": {
            "text/plain": [
              "{'C': 1, 'penalty': 'l2'}"
            ]
          },
          "metadata": {},
          "execution_count": 42
        }
      ]
    },
    {
      "cell_type": "code",
      "source": [
        "# Displaying the best score\n",
        "grid_lr_clf.best_score_"
      ],
      "metadata": {
        "colab": {
          "base_uri": "https://localhost:8080/"
        },
        "id": "KPgtObSB4z89",
        "outputId": "ea627d32-95c5-43e7-8c08-323b23f3d12f"
      },
      "execution_count": 43,
      "outputs": [
        {
          "output_type": "execute_result",
          "data": {
            "text/plain": [
              "0.7040859228681725"
            ]
          },
          "metadata": {},
          "execution_count": 43
        }
      ]
    },
    {
      "cell_type": "code",
      "source": [
        "# Predicted Probability\n",
        "\n",
        "train_preds = optimized_clf.predict_proba(X_train)[:,1]\n",
        "test_preds = optimized_clf.predict_proba(X_test)[:,1]"
      ],
      "metadata": {
        "id": "IXGFF9ix4z6D"
      },
      "execution_count": 44,
      "outputs": []
    },
    {
      "cell_type": "code",
      "source": [
        "# Get the predicted classes\n",
        "\n",
        "train_class_preds = optimized_clf.predict(X_train)\n",
        "test_class_preds = optimized_clf.predict(X_test)"
      ],
      "metadata": {
        "id": "YCg5Vvgm4z3B"
      },
      "execution_count": 45,
      "outputs": []
    },
    {
      "cell_type": "code",
      "source": [
        "# Get the accuracy scores\n",
        "\n",
        "train_accuracy_lr = accuracy_score(train_class_preds,y_train)\n",
        "test_accuracy_lr = accuracy_score(test_class_preds,y_test)\n",
        "\n",
        "print(\"The accuracy on train data is \", train_accuracy_lr)\n",
        "print(\"The accuracy on test data is \", test_accuracy_lr)"
      ],
      "metadata": {
        "colab": {
          "base_uri": "https://localhost:8080/"
        },
        "id": "31uaIFJM4zz5",
        "outputId": "edb128f4-d6e0-4751-e62f-e7f36d65293c"
      },
      "execution_count": 46,
      "outputs": [
        {
          "output_type": "stream",
          "name": "stdout",
          "text": [
            "The accuracy on train data is  0.7268041237113402\n",
            "The accuracy on test data is  0.6875\n"
          ]
        }
      ]
    },
    {
      "cell_type": "code",
      "source": [
        "# Displaying the accuracy\n",
        "\n",
        "test_accuracy_lr = accuracy_score(test_class_preds,y_test)\n",
        "test_precision_score_lr = precision_score(test_class_preds,y_test)\n",
        "test_recall_score_lr = recall_score(test_class_preds,y_test)\n",
        "test_f1_score_lr = f1_score(test_class_preds,y_test)\n",
        "test_roc_score_lr = roc_auc_score(test_class_preds,y_test)\n",
        "\n",
        "print(\"The accuracy on test data is \", test_accuracy_lr)\n",
        "print(\"The precision on test data is \", test_precision_score_lr)\n",
        "print(\"The recall on test data is \", test_recall_score_lr)\n",
        "print(\"The f1 on test data is \", test_f1_score_lr)\n",
        "print(\"The roc_score on test data is \", test_roc_score_lr)"
      ],
      "metadata": {
        "colab": {
          "base_uri": "https://localhost:8080/"
        },
        "id": "h2S1M0Oy4zxC",
        "outputId": "9f4e7cfb-e9cc-41ab-dcfa-0825c51b89ca"
      },
      "execution_count": 47,
      "outputs": [
        {
          "output_type": "stream",
          "name": "stdout",
          "text": [
            "The accuracy on test data is  0.6875\n",
            "The precision on test data is  0.6923076923076923\n",
            "The recall on test data is  0.6857142857142857\n",
            "The f1 on test data is  0.6889952153110047\n",
            "The roc_score on test data is  0.6875173370319002\n"
          ]
        }
      ]
    },
    {
      "cell_type": "code",
      "source": [
        "# Get the confusion matrix for both train and test\n",
        "\n",
        "labels = ['Low Risk', 'High Risk']\n",
        "cm = confusion_matrix(y_train, train_class_preds)\n",
        "print(cm)\n",
        "\n",
        "ax= plt.subplot()\n",
        "sns.heatmap(cm, annot=True, ax = ax) #annot=True to annotate cells\n",
        "\n",
        "# labels, title and ticks\n",
        "ax.set_xlabel('Predicted labels')\n",
        "ax.set_ylabel('True labels')\n",
        "ax.set_title('Confusion Matrix')\n",
        "ax.xaxis.set_ticklabels(labels)\n",
        "ax.yaxis.set_ticklabels(labels)"
      ],
      "metadata": {
        "colab": {
          "base_uri": "https://localhost:8080/",
          "height": 347
        },
        "id": "akW1REGW4zud",
        "outputId": "f9a3201f-4bbb-4ead-934e-d2be745ffa78"
      },
      "execution_count": 48,
      "outputs": [
        {
          "output_type": "stream",
          "name": "stdout",
          "text": [
            "[[341 144]\n",
            " [121 364]]\n"
          ]
        },
        {
          "output_type": "execute_result",
          "data": {
            "text/plain": [
              "[Text(0, 0.5, 'Low Risk'), Text(0, 1.5, 'High Risk')]"
            ]
          },
          "metadata": {},
          "execution_count": 48
        },
        {
          "output_type": "display_data",
          "data": {
            "text/plain": [
              "<Figure size 432x288 with 2 Axes>"
            ],
            "image/png": "[encoded data removed]"
          },
          "metadata": {
            "needs_background": "light"
          }
        }
      ]
    },
    {
      "cell_type": "code",
      "source": [
        "# Finding the important features\n",
        "feature_importance = pd.DataFrame({'Features':columns, 'Importance':np.abs(optimized_clf.coef_).ravel() })"
      ],
      "metadata": {
        "id": "wJZ-6kOS4zrD"
      },
      "execution_count": 49,
      "outputs": []
    },
    {
      "cell_type": "code",
      "source": [
        "feature_importance = feature_importance.sort_values(by = 'Importance', ascending=False)[:10]"
      ],
      "metadata": {
        "id": "tWUYNBkC4zn-"
      },
      "execution_count": 50,
      "outputs": []
    },
    {
      "cell_type": "code",
      "source": [
        "# Bar plot showing the importance of each feature\n",
        "plt.bar(height=feature_importance['Importance'], x= feature_importance['Features'])\n",
        "plt.xticks(rotation=80)\n",
        "plt.title(\"Feature importances via coefficients\")\n",
        "plt.show()"
      ],
      "metadata": {
        "colab": {
          "base_uri": "https://localhost:8080/",
          "height": 469
        },
        "id": "pGbMj6BV4zk7",
        "outputId": "761b0241-dc7e-4f9d-9396-5e619ecf04a6"
      },
      "execution_count": 51,
      "outputs": [
        {
          "output_type": "display_data",
          "data": {
            "text/plain": [
              "<Figure size 432x288 with 1 Axes>"
            ],
            "image/png": "[encoded data removed]"
          },
          "metadata": {
            "needs_background": "light"
          }
        }
      ]
    },
    {
      "cell_type": "code",
      "source": [
        "y_preds_proba_lr = optimized_clf.predict_proba(X_test)[::,1]"
      ],
      "metadata": {
        "id": "bjC3YKXp4zhq"
      },
      "execution_count": 52,
      "outputs": []
    },
    {
      "cell_type": "code",
      "source": [
        "# Plotting the ROC-AUC curve\n",
        "y_pred_proba = y_preds_proba_lr\n",
        "fpr, tpr, _ = roc_curve(y_test,  y_pred_proba)\n",
        "auc = roc_auc_score(y_test, y_pred_proba)\n",
        "plt.plot(fpr,tpr,label=\"data 1, auc=\"+str(auc))\n",
        "plt.legend(loc=4)\n",
        "plt.show()"
      ],
      "metadata": {
        "colab": {
          "base_uri": "https://localhost:8080/",
          "height": 265
        },
        "id": "oYEuETyO4ze_",
        "outputId": "349497ea-fcaf-4ea7-f5df-33ff00654050"
      },
      "execution_count": 53,
      "outputs": [
        {
          "output_type": "display_data",
          "data": {
            "text/plain": [
              "<Figure size 432x288 with 1 Axes>"
            ],
            "image/png": "[encoded data removed]"
          },
          "metadata": {
            "needs_background": "light"
          }
        }
      ]
    },
    {
      "cell_type": "markdown",
      "source": [
        "# **Implementing SVC**"
      ],
      "metadata": {
        "id": "H1qjh5ve6aTk"
      }
    },
    {
      "cell_type": "code",
      "source": [
        "# defining parameter range \n",
        "\n",
        "param_grid = {'C': [0.1, 1, 10, 100],'kernel': ['rbf']} "
      ],
      "metadata": {
        "id": "5OyBaW3j4zcH"
      },
      "execution_count": 54,
      "outputs": []
    },
    {
      "cell_type": "code",
      "source": [
        "X = train_df.drop(['high_risk_applicant'],axis=1)\n",
        "y = train_df['high_risk_applicant']"
      ],
      "metadata": {
        "id": "sSF2YTAB4zZL"
      },
      "execution_count": 55,
      "outputs": []
    },
    {
      "cell_type": "code",
      "source": [
        "# Using StandardScaler\n",
        "scaler = StandardScaler()\n",
        "X = scaler.fit_transform(X)"
      ],
      "metadata": {
        "id": "QoAcfa9-4zWe"
      },
      "execution_count": 56,
      "outputs": []
    },
    {
      "cell_type": "code",
      "source": [
        "# Train-Test split\n",
        "X_train, X_test, y_train, y_test = train_test_split(X, y, test_size=0.30, random_state=42, stratify = y)"
      ],
      "metadata": {
        "id": "ZBw9KY3r4zT7"
      },
      "execution_count": 57,
      "outputs": []
    },
    {
      "cell_type": "code",
      "source": [
        "# using the GridSearchCV\n",
        "grid_clf = GridSearchCV(SVC(probability=True), param_grid, scoring = 'accuracy', n_jobs = -1, verbose = 3, cv = 3)\n",
        "grid_clf.fit(X_train, y_train)"
      ],
      "metadata": {
        "colab": {
          "base_uri": "https://localhost:8080/"
        },
        "id": "e4srerN24zQp",
        "outputId": "c54af626-e0d9-469f-b8de-b5b1b47ae438"
      },
      "execution_count": 58,
      "outputs": [
        {
          "output_type": "stream",
          "name": "stdout",
          "text": [
            "Fitting 3 folds for each of 4 candidates, totalling 12 fits\n"
          ]
        },
        {
          "output_type": "execute_result",
          "data": {
            "text/plain": [
              "GridSearchCV(cv=3, estimator=SVC(probability=True), n_jobs=-1,\n",
              "             param_grid={'C': [0.1, 1, 10, 100], 'kernel': ['rbf']},\n",
              "             scoring='accuracy', verbose=3)"
            ]
          },
          "metadata": {},
          "execution_count": 58
        }
      ]
    },
    {
      "cell_type": "code",
      "source": [
        "# Finding the best estimators\n",
        "optimal_SVC_clf = grid_clf.best_estimator_"
      ],
      "metadata": {
        "id": "BgNhpsz94zN7"
      },
      "execution_count": 59,
      "outputs": []
    },
    {
      "cell_type": "code",
      "source": [
        "# Finding the best parameters\n",
        "grid_clf.best_params_"
      ],
      "metadata": {
        "colab": {
          "base_uri": "https://localhost:8080/"
        },
        "id": "XLsyKftK4zLE",
        "outputId": "4e6d45e3-a5a9-4374-b2af-0949eed67915"
      },
      "execution_count": 60,
      "outputs": [
        {
          "output_type": "execute_result",
          "data": {
            "text/plain": [
              "{'C': 10, 'kernel': 'rbf'}"
            ]
          },
          "metadata": {},
          "execution_count": 60
        }
      ]
    },
    {
      "cell_type": "code",
      "source": [
        "# Displaying the best score\n",
        "grid_clf.best_score_"
      ],
      "metadata": {
        "colab": {
          "base_uri": "https://localhost:8080/"
        },
        "id": "PnhBpAqA4zIh",
        "outputId": "061377e2-9663-456f-efcf-070643552a16"
      },
      "execution_count": 61,
      "outputs": [
        {
          "output_type": "execute_result",
          "data": {
            "text/plain": [
              "0.7576985310043445"
            ]
          },
          "metadata": {},
          "execution_count": 61
        }
      ]
    },
    {
      "cell_type": "code",
      "source": [
        "# Get the predicted classes\n",
        "\n",
        "train_class_preds = optimal_SVC_clf.predict(X_train)\n",
        "test_class_preds = optimal_SVC_clf.predict(X_test)"
      ],
      "metadata": {
        "id": "EFaat8_h4zFu"
      },
      "execution_count": 62,
      "outputs": []
    },
    {
      "cell_type": "code",
      "source": [
        "# Get the accuracy scores\n",
        "\n",
        "train_accuracy_SVC = accuracy_score(train_class_preds,y_train)\n",
        "test_accuracy_SVC = accuracy_score(test_class_preds,y_test)\n",
        "\n",
        "print(\"The accuracy on train data is \", train_accuracy_lr)\n",
        "print(\"The accuracy on test data is \", test_accuracy_lr)"
      ],
      "metadata": {
        "colab": {
          "base_uri": "https://localhost:8080/"
        },
        "id": "p2EyW4an4zCm",
        "outputId": "983ef610-306f-4f7a-aa0f-30eba7968a5c"
      },
      "execution_count": 63,
      "outputs": [
        {
          "output_type": "stream",
          "name": "stdout",
          "text": [
            "The accuracy on train data is  0.7268041237113402\n",
            "The accuracy on test data is  0.6875\n"
          ]
        }
      ]
    },
    {
      "cell_type": "code",
      "source": [
        "# Displaying accuracy of precision, recall, F1 and Roc-Auc\n",
        "\n",
        "test_accuracy_SVC = accuracy_score(test_class_preds,y_test)\n",
        "test_precision_score_SVC = precision_score(test_class_preds,y_test)\n",
        "test_recall_score_SVC = recall_score(test_class_preds,y_test)\n",
        "test_f1_score_SVC = f1_score(test_class_preds,y_test)\n",
        "test_roc_score_SVC = roc_auc_score(test_class_preds,y_test)\n",
        "\n",
        "print(\"The accuracy on test data is \", test_accuracy_SVC)\n",
        "print(\"The precision on test data is \", test_precision_score_SVC)\n",
        "print(\"The recall on test data is \", test_recall_score_SVC)\n",
        "print(\"The f1 on test data is \", test_f1_score_SVC)\n",
        "print(\"The roc_score on test data is \", test_roc_score_SVC)"
      ],
      "metadata": {
        "colab": {
          "base_uri": "https://localhost:8080/"
        },
        "id": "M3ZCLV-C6sex",
        "outputId": "4bc9a771-b9b9-4f3b-8e8c-435386b919ec"
      },
      "execution_count": 64,
      "outputs": [
        {
          "output_type": "stream",
          "name": "stdout",
          "text": [
            "The accuracy on test data is  0.7211538461538461\n",
            "The precision on test data is  0.7307692307692307\n",
            "The recall on test data is  0.7169811320754716\n",
            "The f1 on test data is  0.7238095238095238\n",
            "The roc_score on test data is  0.7212356640769515\n"
          ]
        }
      ]
    },
    {
      "cell_type": "code",
      "source": [
        "# Get the confusion matrix for both train and test\n",
        "\n",
        "labels = ['Low Risk', 'High Risk']\n",
        "cm = confusion_matrix(y_train, train_class_preds)\n",
        "print(cm)\n",
        "\n",
        "ax= plt.subplot()\n",
        "sns.heatmap(cm, annot=True, ax = ax) #annot=True to annotate cells\n",
        "\n",
        "# labels, title and ticks\n",
        "ax.set_xlabel('Predicted labels')\n",
        "ax.set_ylabel('True labels')\n",
        "ax.set_title('Confusion Matrix')\n",
        "ax.xaxis.set_ticklabels(labels)\n",
        "ax.yaxis.set_ticklabels(labels)"
      ],
      "metadata": {
        "colab": {
          "base_uri": "https://localhost:8080/",
          "height": 347
        },
        "id": "_6BnTXrf6sav",
        "outputId": "280b2ae2-e2c5-4023-9c60-69e8d40e1c10"
      },
      "execution_count": 65,
      "outputs": [
        {
          "output_type": "stream",
          "name": "stdout",
          "text": [
            "[[462  23]\n",
            " [ 16 469]]\n"
          ]
        },
        {
          "output_type": "execute_result",
          "data": {
            "text/plain": [
              "[Text(0, 0.5, 'Low Risk'), Text(0, 1.5, 'High Risk')]"
            ]
          },
          "metadata": {},
          "execution_count": 65
        },
        {
          "output_type": "display_data",
          "data": {
            "text/plain": [
              "<Figure size 432x288 with 2 Axes>"
            ],
            "image/png": "[encoded data removed]"
          },
          "metadata": {
            "needs_background": "light"
          }
        }
      ]
    },
    {
      "cell_type": "code",
      "source": [
        "# Get the predicted classes\n",
        "\n",
        "train_class_preds = optimal_SVC_clf.predict(X_train)\n",
        "test_class_preds = optimal_SVC_clf.predict(X_test)"
      ],
      "metadata": {
        "id": "bvNS5z876sYe"
      },
      "execution_count": 66,
      "outputs": []
    },
    {
      "cell_type": "code",
      "source": [
        "y_pred_proba_SVC = optimal_SVC_clf.predict_proba(X_test)[::,1]"
      ],
      "metadata": {
        "id": "Wze1-_tE6sWJ"
      },
      "execution_count": 67,
      "outputs": []
    },
    {
      "cell_type": "code",
      "source": [
        "# ROC AUC CURVE\n",
        "\n",
        "fpr, tpr, _ = roc_curve(y_test,  y_pred_proba_SVC)\n",
        "auc = roc_auc_score(y_test, y_pred_proba_SVC)\n",
        "plt.plot(fpr,tpr,label=\"data 1, auc=\"+str(auc))\n",
        "plt.legend(loc=4)\n",
        "plt.show()"
      ],
      "metadata": {
        "colab": {
          "base_uri": "https://localhost:8080/",
          "height": 265
        },
        "id": "dSTDgN_p6sTl",
        "outputId": "4d1d7da6-d64a-4d0e-9915-643922bea05e"
      },
      "execution_count": 68,
      "outputs": [
        {
          "output_type": "display_data",
          "data": {
            "text/plain": [
              "<Figure size 432x288 with 1 Axes>"
            ],
            "image/png": "[encoded data removed]"
          },
          "metadata": {
            "needs_background": "light"
          }
        }
      ]
    },
    {
      "cell_type": "markdown",
      "source": [
        "# **Implementing Decision Tree Classifier**"
      ],
      "metadata": {
        "id": "avx0eWVg60gb"
      }
    },
    {
      "cell_type": "code",
      "source": [
        "# Assigning parameters\n",
        "param_grid = {'max_depth': [20,30,50,100], 'min_samples_split':[0.1,0.2,0.4]}"
      ],
      "metadata": {
        "id": "WtdzaLo16sRO"
      },
      "execution_count": 69,
      "outputs": []
    },
    {
      "cell_type": "code",
      "source": [
        "# Importing Decision Tree Classifier\n",
        "from sklearn.tree import DecisionTreeClassifier  "
      ],
      "metadata": {
        "id": "mnXh9pQx6sOv"
      },
      "execution_count": 70,
      "outputs": []
    },
    {
      "cell_type": "code",
      "source": [
        "X = train_df.drop(['high_risk_applicant'],axis=1)\n",
        "y = train_df['high_risk_applicant']"
      ],
      "metadata": {
        "id": "5Do1dzVV6sMV"
      },
      "execution_count": 71,
      "outputs": []
    },
    {
      "cell_type": "code",
      "source": [
        "# Training the model\n",
        "grid_DTC_clf = GridSearchCV(DecisionTreeClassifier(), param_grid, scoring = 'accuracy', n_jobs = -1, verbose = 3, cv = 3)\n",
        "grid_DTC_clf.fit(X_train, y_train)"
      ],
      "metadata": {
        "colab": {
          "base_uri": "https://localhost:8080/"
        },
        "id": "sgojoawz6sIA",
        "outputId": "f8a0b57f-95df-4574-a1c0-1e34e3df4863"
      },
      "execution_count": 72,
      "outputs": [
        {
          "output_type": "stream",
          "name": "stdout",
          "text": [
            "Fitting 3 folds for each of 12 candidates, totalling 36 fits\n"
          ]
        },
        {
          "output_type": "execute_result",
          "data": {
            "text/plain": [
              "GridSearchCV(cv=3, estimator=DecisionTreeClassifier(), n_jobs=-1,\n",
              "             param_grid={'max_depth': [20, 30, 50, 100],\n",
              "                         'min_samples_split': [0.1, 0.2, 0.4]},\n",
              "             scoring='accuracy', verbose=3)"
            ]
          },
          "metadata": {},
          "execution_count": 72
        }
      ]
    },
    {
      "cell_type": "code",
      "source": [
        "# Displaying the best score\n",
        "grid_DTC_clf.best_score_"
      ],
      "metadata": {
        "colab": {
          "base_uri": "https://localhost:8080/"
        },
        "id": "1rNJdi5F6sFs",
        "outputId": "c0932d09-878b-43b1-e7a4-764026e4816b"
      },
      "execution_count": 73,
      "outputs": [
        {
          "output_type": "execute_result",
          "data": {
            "text/plain": [
              "0.6381308208793589"
            ]
          },
          "metadata": {},
          "execution_count": 73
        }
      ]
    },
    {
      "cell_type": "code",
      "source": [
        "# Finding the best estimator\n",
        "optimal_DTC_clf = grid_DTC_clf.best_estimator_"
      ],
      "metadata": {
        "id": "B2b-ZvUr6sDM"
      },
      "execution_count": 74,
      "outputs": []
    },
    {
      "cell_type": "code",
      "source": [
        "# Get the predicted classes\n",
        "\n",
        "train_class_preds = optimal_DTC_clf.predict(X_train)\n",
        "test_class_preds = optimal_DTC_clf.predict(X_test)"
      ],
      "metadata": {
        "id": "2SvXxNTR6sA4"
      },
      "execution_count": 75,
      "outputs": []
    },
    {
      "cell_type": "code",
      "source": [
        "# Displaying the best parameters\n",
        "grid_DTC_clf.best_params_"
      ],
      "metadata": {
        "colab": {
          "base_uri": "https://localhost:8080/"
        },
        "id": "bvsojsaV6r_C",
        "outputId": "c09b62fb-8e49-4eea-cf92-64f0869f7512"
      },
      "execution_count": 76,
      "outputs": [
        {
          "output_type": "execute_result",
          "data": {
            "text/plain": [
              "{'max_depth': 20, 'min_samples_split': 0.1}"
            ]
          },
          "metadata": {},
          "execution_count": 76
        }
      ]
    },
    {
      "cell_type": "code",
      "source": [
        "# Get the accuracy scores\n",
        "\n",
        "train_accuracy_DTC = accuracy_score(train_class_preds,y_train)\n",
        "test_accuracy_DTC = accuracy_score(test_class_preds,y_test)\n",
        "\n",
        "print(\"The accuracy on train data is \", train_accuracy_DTC)\n",
        "print(\"The accuracy on test data is \", test_accuracy_DTC)"
      ],
      "metadata": {
        "colab": {
          "base_uri": "https://localhost:8080/"
        },
        "id": "8rH2wznf6r73",
        "outputId": "7ff77c34-70a5-499a-9471-6f8e1e3ba3ed"
      },
      "execution_count": 77,
      "outputs": [
        {
          "output_type": "stream",
          "name": "stdout",
          "text": [
            "The accuracy on train data is  0.7123711340206186\n",
            "The accuracy on test data is  0.6586538461538461\n"
          ]
        }
      ]
    },
    {
      "cell_type": "code",
      "source": [
        "# Display the accuracy scores for Precision, Recall, F1 and ROC_AUC\n",
        "\n",
        "test_accuracy_DTC = accuracy_score(test_class_preds,y_test)\n",
        "test_precision_score_DTC = precision_score(test_class_preds,y_test)\n",
        "test_recall_score_DTC = recall_score(test_class_preds,y_test)\n",
        "test_f1_score_DTC = f1_score(test_class_preds,y_test)\n",
        "test_roc_score_DTC = roc_auc_score(test_class_preds,y_test)\n",
        "\n",
        "print(\"The accuracy on test data is \", test_accuracy_DTC)\n",
        "print(\"The precision on test data is \", test_precision_score_DTC)\n",
        "print(\"The recall on test data is \", test_recall_score_DTC)\n",
        "print(\"The f1 on test data is \", test_f1_score_DTC)\n",
        "print(\"The roc_score on test data is \", test_roc_score_DTC)"
      ],
      "metadata": {
        "colab": {
          "base_uri": "https://localhost:8080/"
        },
        "id": "C6S65Pq06r5R",
        "outputId": "0bb761e6-4ce5-4695-995e-3c41b91ec5b4"
      },
      "execution_count": 78,
      "outputs": [
        {
          "output_type": "stream",
          "name": "stdout",
          "text": [
            "The accuracy on test data is  0.6586538461538461\n",
            "The precision on test data is  0.6442307692307693\n",
            "The recall on test data is  0.6633663366336634\n",
            "The f1 on test data is  0.6536585365853659\n",
            "The roc_score on test data is  0.6587859720551497\n"
          ]
        }
      ]
    },
    {
      "cell_type": "code",
      "source": [
        "# Get the confusion matrix for both train and test\n",
        "\n",
        "labels = ['Low Risk', 'High Risk']\n",
        "cm = confusion_matrix(y_train, train_class_preds)\n",
        "print(cm)\n",
        "\n",
        "ax= plt.subplot()\n",
        "sns.heatmap(cm, annot=True, ax = ax) #annot=True to annotate cells\n",
        "\n",
        "# labels, title and ticks\n",
        "ax.set_xlabel('Predicted labels')\n",
        "ax.set_ylabel('True labels')\n",
        "ax.set_title('Confusion Matrix')\n",
        "ax.xaxis.set_ticklabels(labels)\n",
        "ax.yaxis.set_ticklabels(labels)"
      ],
      "metadata": {
        "colab": {
          "base_uri": "https://localhost:8080/",
          "height": 347
        },
        "id": "W1pistpr6r3C",
        "outputId": "9aa4fdea-d795-45a8-fc95-b372757ecd54"
      },
      "execution_count": 79,
      "outputs": [
        {
          "output_type": "stream",
          "name": "stdout",
          "text": [
            "[[365 120]\n",
            " [159 326]]\n"
          ]
        },
        {
          "output_type": "execute_result",
          "data": {
            "text/plain": [
              "[Text(0, 0.5, 'Low Risk'), Text(0, 1.5, 'High Risk')]"
            ]
          },
          "metadata": {},
          "execution_count": 79
        },
        {
          "output_type": "display_data",
          "data": {
            "text/plain": [
              "<Figure size 432x288 with 2 Axes>"
            ],
            "image/png": "[encoded data removed]"
          },
          "metadata": {
            "needs_background": "light"
          }
        }
      ]
    },
    {
      "cell_type": "code",
      "source": [
        "len(optimal_DTC_clf.feature_importances_)"
      ],
      "metadata": {
        "colab": {
          "base_uri": "https://localhost:8080/"
        },
        "id": "HvgftSw16r0W",
        "outputId": "b34a4190-e44c-4441-9a17-5cd154aafabe"
      },
      "execution_count": 80,
      "outputs": [
        {
          "output_type": "execute_result",
          "data": {
            "text/plain": [
              "22"
            ]
          },
          "metadata": {},
          "execution_count": 80
        }
      ]
    },
    {
      "cell_type": "code",
      "source": [
        "# Feature Importance\n",
        "feature_importances_DTC = pd.DataFrame(optimal_DTC_clf.feature_importances_,\n",
        "                                   index = columns,\n",
        "                                    columns=['importance_rf']).sort_values('importance_rf',\n",
        "                                                                        ascending=False)[:10]\n",
        "                                    \n",
        "plt.subplots(figsize=(15,5))\n",
        "plt.title(\"Feature importances\")\n",
        "plt.bar(feature_importances_DTC.index, feature_importances_DTC['importance_rf'],\n",
        "        color=\"R\",  align=\"center\")\n",
        "plt.xticks(feature_importances_DTC.index, rotation = 85)\n",
        "#plt.xlim([-1, X.shape[1]])\n",
        "plt.show()"
      ],
      "metadata": {
        "colab": {
          "base_uri": "https://localhost:8080/",
          "height": 580
        },
        "id": "JGL3D4TF6rxo",
        "outputId": "72c23e82-e200-4ab8-80f8-2d7d97a49bfd"
      },
      "execution_count": 81,
      "outputs": [
        {
          "output_type": "stream",
          "name": "stderr",
          "text": [
            "/usr/local/lib/python3.7/dist-packages/ipykernel_launcher.py:10: MatplotlibDeprecationWarning: Support for uppercase single-letter colors is deprecated since Matplotlib 3.1 and will be removed in 3.3; please use lowercase instead.\n",
            "  # Remove the CWD from sys.path while we load stuff.\n"
          ]
        },
        {
          "output_type": "display_data",
          "data": {
            "text/plain": [
              "<Figure size 1080x360 with 1 Axes>"
            ],
            "image/png": "[encoded data removed]"
          },
          "metadata": {
            "needs_background": "light"
          }
        }
      ]
    },
    {
      "cell_type": "markdown",
      "source": [
        "# **Implementing RandomForest**"
      ],
      "metadata": {
        "id": "ItRY5Itt7Hcn"
      }
    },
    {
      "cell_type": "code",
      "source": [
        "# Importing the Random Forest Classifier \n",
        "from sklearn.ensemble import RandomForestClassifier"
      ],
      "metadata": {
        "id": "QqUiGrgg6rvg"
      },
      "execution_count": 82,
      "outputs": []
    },
    {
      "cell_type": "code",
      "source": [
        "X = train_df.drop(['high_risk_applicant'],axis=1)\n",
        "y = train_df['high_risk_applicant']"
      ],
      "metadata": {
        "id": "b6QsCoVW6rtJ"
      },
      "execution_count": 83,
      "outputs": []
    },
    {
      "cell_type": "code",
      "source": [
        "# Training the model\n",
        "rf_clf = RandomForestClassifier()\n",
        "rf_clf.fit(X_train,y_train)"
      ],
      "metadata": {
        "colab": {
          "base_uri": "https://localhost:8080/"
        },
        "id": "B_9p3AKi6rqy",
        "outputId": "74649830-5ba8-4e44-9965-fd7e5854949f"
      },
      "execution_count": 84,
      "outputs": [
        {
          "output_type": "execute_result",
          "data": {
            "text/plain": [
              "RandomForestClassifier()"
            ]
          },
          "metadata": {},
          "execution_count": 84
        }
      ]
    },
    {
      "cell_type": "code",
      "source": [
        "# Get the predicted classes\n",
        "train_class_preds = rf_clf.predict(X_train)\n",
        "test_class_preds = rf_clf.predict(X_test)"
      ],
      "metadata": {
        "id": "-g1TDSCw6roY"
      },
      "execution_count": 85,
      "outputs": []
    },
    {
      "cell_type": "code",
      "source": [
        "# Get the accuracy scores\n",
        "train_accuracy_rf = accuracy_score(train_class_preds,y_train)\n",
        "test_accuracy_rf = accuracy_score(test_class_preds,y_test)\n",
        "\n",
        "print(\"The accuracy on train data is \", train_accuracy_rf)\n",
        "print(\"The accuracy on test data is \", test_accuracy_rf)"
      ],
      "metadata": {
        "colab": {
          "base_uri": "https://localhost:8080/"
        },
        "id": "sYKW7HOo6rl-",
        "outputId": "17afb707-02df-4fe3-ab3d-5bfd837431ad"
      },
      "execution_count": 86,
      "outputs": [
        {
          "output_type": "stream",
          "name": "stdout",
          "text": [
            "The accuracy on train data is  1.0\n",
            "The accuracy on test data is  0.7475961538461539\n"
          ]
        }
      ]
    },
    {
      "cell_type": "code",
      "source": [
        "# Display the accuracy scores for Precision, Recall, F1 and ROC_AUC\n",
        "\n",
        "test_accuracy_rf = accuracy_score(test_class_preds,y_test)\n",
        "test_precision_score_rf = precision_score(test_class_preds,y_test)\n",
        "test_recall_score_rf = recall_score(test_class_preds,y_test)\n",
        "test_f1_score_rf = f1_score(test_class_preds,y_test)\n",
        "test_roc_score_rf = roc_auc_score(test_class_preds,y_test)\n",
        "\n",
        "print(\"The accuracy on test data is \", test_accuracy_rf)\n",
        "print(\"The precision on test data is \", test_precision_score_rf)\n",
        "print(\"The recall on test data is \", test_recall_score_rf)\n",
        "print(\"The f1 on test data is \", test_f1_score_rf)\n",
        "print(\"The roc_score on test data is \", test_roc_score_rf)"
      ],
      "metadata": {
        "colab": {
          "base_uri": "https://localhost:8080/"
        },
        "id": "QhoPj1gT6rjo",
        "outputId": "e8b1a404-df89-4918-bf2c-d330dcbc916d"
      },
      "execution_count": 87,
      "outputs": [
        {
          "output_type": "stream",
          "name": "stdout",
          "text": [
            "The accuracy on test data is  0.7475961538461539\n",
            "The precision on test data is  0.7115384615384616\n",
            "The recall on test data is  0.7668393782383419\n",
            "The f1 on test data is  0.7381546134663343\n",
            "The roc_score on test data is  0.7488905411371083\n"
          ]
        }
      ]
    },
    {
      "cell_type": "code",
      "source": [
        "  # Get the confusion matrix for both train and test\n",
        "\n",
        "labels = ['Low Risk', 'High Risk']\n",
        "cm = confusion_matrix(y_train, train_class_preds)\n",
        "print(cm)\n",
        "\n",
        "ax= plt.subplot()\n",
        "sns.heatmap(cm, annot=True, ax = ax) #annot=True to annotate cells\n",
        "\n",
        "# labels, title and ticks\n",
        "ax.set_xlabel('Predicted labels')\n",
        "ax.set_ylabel('True labels')\n",
        "ax.set_title('Confusion Matrix')\n",
        "ax.xaxis.set_ticklabels(labels)\n",
        "ax.yaxis.set_ticklabels(labels)"
      ],
      "metadata": {
        "colab": {
          "base_uri": "https://localhost:8080/",
          "height": 347
        },
        "id": "VRuRFcBK6rg9",
        "outputId": "505ea52c-0d5f-4b47-9a16-3701ee304672"
      },
      "execution_count": 88,
      "outputs": [
        {
          "output_type": "stream",
          "name": "stdout",
          "text": [
            "[[485   0]\n",
            " [  0 485]]\n"
          ]
        },
        {
          "output_type": "execute_result",
          "data": {
            "text/plain": [
              "[Text(0, 0.5, 'Low Risk'), Text(0, 1.5, 'High Risk')]"
            ]
          },
          "metadata": {},
          "execution_count": 88
        },
        {
          "output_type": "display_data",
          "data": {
            "text/plain": [
              "<Figure size 432x288 with 2 Axes>"
            ],
            "image/png": "[encoded data removed]"
          },
          "metadata": {
            "needs_background": "light"
          }
        }
      ]
    },
    {
      "cell_type": "code",
      "source": [
        "param_grid = {'n_estimators': [100,150,200], 'max_depth': [10,20,30]}"
      ],
      "metadata": {
        "id": "d_ptqz776reg"
      },
      "execution_count": 89,
      "outputs": []
    },
    {
      "cell_type": "code",
      "source": [
        "# Using the Grid Search CV\n",
        "grid_rf_clf = GridSearchCV(RandomForestClassifier(), param_grid, scoring = 'accuracy', n_jobs = -1, verbose = 3, cv = 3)\n",
        "grid_rf_clf.fit(X_train, y_train)"
      ],
      "metadata": {
        "colab": {
          "base_uri": "https://localhost:8080/"
        },
        "id": "iKBl0a7x6rb_",
        "outputId": "5f169365-986c-4073-a5a6-c3d0b197c411"
      },
      "execution_count": 90,
      "outputs": [
        {
          "output_type": "stream",
          "name": "stdout",
          "text": [
            "Fitting 3 folds for each of 9 candidates, totalling 27 fits\n"
          ]
        },
        {
          "output_type": "execute_result",
          "data": {
            "text/plain": [
              "GridSearchCV(cv=3, estimator=RandomForestClassifier(), n_jobs=-1,\n",
              "             param_grid={'max_depth': [10, 20, 30],\n",
              "                         'n_estimators': [100, 150, 200]},\n",
              "             scoring='accuracy', verbose=3)"
            ]
          },
          "metadata": {},
          "execution_count": 90
        }
      ]
    },
    {
      "cell_type": "code",
      "source": [
        "# Displaying the best score\n",
        "grid_rf_clf.best_score_"
      ],
      "metadata": {
        "colab": {
          "base_uri": "https://localhost:8080/"
        },
        "id": "HwPGiA596rZk",
        "outputId": "853b3758-ba83-4169-cc91-ceb99abc053a"
      },
      "execution_count": 91,
      "outputs": [
        {
          "output_type": "execute_result",
          "data": {
            "text/plain": [
              "0.7772936335027838"
            ]
          },
          "metadata": {},
          "execution_count": 91
        }
      ]
    },
    {
      "cell_type": "code",
      "source": [
        "# Finding the best parameters\n",
        "grid_rf_clf.best_params_"
      ],
      "metadata": {
        "colab": {
          "base_uri": "https://localhost:8080/"
        },
        "id": "BEhPb6H16rXr",
        "outputId": "bdb3fcb0-8c1f-435a-b80d-c4dbd3c39623"
      },
      "execution_count": 92,
      "outputs": [
        {
          "output_type": "execute_result",
          "data": {
            "text/plain": [
              "{'max_depth': 20, 'n_estimators': 100}"
            ]
          },
          "metadata": {},
          "execution_count": 92
        }
      ]
    },
    {
      "cell_type": "code",
      "source": [
        "# Displaying the best estimator\n",
        "optimal_rf_clf = grid_rf_clf.best_estimator_"
      ],
      "metadata": {
        "id": "jSffwvDQ6rU2"
      },
      "execution_count": 93,
      "outputs": []
    },
    {
      "cell_type": "code",
      "source": [
        "# Get the predicted classes\n",
        "train_class_preds = optimal_rf_clf.predict(X_train)\n",
        "test_class_preds = optimal_rf_clf.predict(X_test)"
      ],
      "metadata": {
        "id": "6uSrN3Vz6rSl"
      },
      "execution_count": 94,
      "outputs": []
    },
    {
      "cell_type": "code",
      "source": [
        "# Get the accuracy scores\n",
        "train_accuracy_rf = accuracy_score(train_class_preds,y_train)\n",
        "test_accuracy_rf = accuracy_score(test_class_preds,y_test)\n",
        "\n",
        "print(\"The accuracy on train data is \", train_accuracy_rf)\n",
        "print(\"The accuracy on test data is \", test_accuracy_rf)"
      ],
      "metadata": {
        "colab": {
          "base_uri": "https://localhost:8080/"
        },
        "id": "ZZoX-s3T6rQM",
        "outputId": "8d1657a4-4ed7-4eed-e755-f37d4f07bf1a"
      },
      "execution_count": 95,
      "outputs": [
        {
          "output_type": "stream",
          "name": "stdout",
          "text": [
            "The accuracy on train data is  1.0\n",
            "The accuracy on test data is  0.7716346153846154\n"
          ]
        }
      ]
    },
    {
      "cell_type": "code",
      "source": [
        "# Display the accuracy scores for Precision, Recall, F1 and ROC_AUC\n",
        "\n",
        "test_accuracy_rf = accuracy_score(test_class_preds,y_test)\n",
        "test_precision_score_rf = precision_score(test_class_preds,y_test)\n",
        "test_recall_score_rf = recall_score(test_class_preds,y_test)\n",
        "test_f1_score_rf = f1_score(test_class_preds,y_test)\n",
        "test_roc_score_rf = roc_auc_score(test_class_preds,y_test)\n",
        "\n",
        "print(\"The accuracy on test data is \", test_accuracy_rf)\n",
        "print(\"The precision on test data is \", test_precision_score_rf)\n",
        "print(\"The recall on test data is \", test_recall_score_rf)\n",
        "print(\"The f1 on test data is \", test_f1_score_rf)\n",
        "print(\"The roc_score on test data is \", test_roc_score_rf)"
      ],
      "metadata": {
        "colab": {
          "base_uri": "https://localhost:8080/"
        },
        "id": "liovpabx6rN4",
        "outputId": "ae84d492-6180-4e45-9f4c-3e59ea17a3d4"
      },
      "execution_count": 96,
      "outputs": [
        {
          "output_type": "stream",
          "name": "stdout",
          "text": [
            "The accuracy on test data is  0.7716346153846154\n",
            "The precision on test data is  0.7644230769230769\n",
            "The recall on test data is  0.775609756097561\n",
            "The f1 on test data is  0.7699757869249394\n",
            "The roc_score on test data is  0.7716911339729511\n"
          ]
        }
      ]
    },
    {
      "cell_type": "code",
      "source": [
        "# Get the confusion matrix for both train and test\n",
        "\n",
        "labels = ['Low Risk', 'High Risk']\n",
        "cm = confusion_matrix(y_train, train_class_preds)\n",
        "print(cm)\n",
        "\n",
        "ax= plt.subplot()\n",
        "sns.heatmap(cm, annot=True, ax = ax) #annot=True to annotate cells\n",
        "\n",
        "# labels, title and ticks\n",
        "ax.set_xlabel('Predicted labels')\n",
        "ax.set_ylabel('True labels')\n",
        "ax.set_title('Confusion Matrix')\n",
        "ax.xaxis.set_ticklabels(labels)\n",
        "ax.yaxis.set_ticklabels(labels)"
      ],
      "metadata": {
        "colab": {
          "base_uri": "https://localhost:8080/",
          "height": 347
        },
        "id": "DJ2umCbV6rLP",
        "outputId": "a559967e-692d-4d79-e1b6-6ca2498bcdeb"
      },
      "execution_count": 97,
      "outputs": [
        {
          "output_type": "stream",
          "name": "stdout",
          "text": [
            "[[485   0]\n",
            " [  0 485]]\n"
          ]
        },
        {
          "output_type": "execute_result",
          "data": {
            "text/plain": [
              "[Text(0, 0.5, 'Low Risk'), Text(0, 1.5, 'High Risk')]"
            ]
          },
          "metadata": {},
          "execution_count": 97
        },
        {
          "output_type": "display_data",
          "data": {
            "text/plain": [
              "<Figure size 432x288 with 2 Axes>"
            ],
            "image/png": "[encoded data removed]"
          },
          "metadata": {
            "needs_background": "light"
          }
        }
      ]
    },
    {
      "cell_type": "code",
      "source": [
        "len(optimal_rf_clf.feature_importances_)"
      ],
      "metadata": {
        "colab": {
          "base_uri": "https://localhost:8080/"
        },
        "id": "gvbg7UzV6rJF",
        "outputId": "76c94528-d149-4d7c-851a-a3c9fdfe51aa"
      },
      "execution_count": 98,
      "outputs": [
        {
          "output_type": "execute_result",
          "data": {
            "text/plain": [
              "22"
            ]
          },
          "metadata": {},
          "execution_count": 98
        }
      ]
    },
    {
      "cell_type": "code",
      "source": [
        "# Feature Importance\n",
        "feature_importances_rf = pd.DataFrame(optimal_rf_clf.feature_importances_,\n",
        "                                   index = columns,\n",
        "                                    columns=['importance_rf']).sort_values('importance_rf',\n",
        "                                                                        ascending=False)[:10]\n",
        "                                    \n",
        "plt.subplots(figsize=(15,5))\n",
        "plt.title(\"Feature importances\")\n",
        "plt.bar(feature_importances_rf.index, feature_importances_rf['importance_rf'],\n",
        "        color=\"R\",  align=\"center\")\n",
        "plt.xticks(feature_importances_rf.index, rotation = 85)\n",
        "#plt.xlim([-1, X.shape[1]])\n",
        "plt.show()"
      ],
      "metadata": {
        "colab": {
          "base_uri": "https://localhost:8080/",
          "height": 493
        },
        "id": "NM_KuSQJ6rGt",
        "outputId": "d59a1fd6-83ba-470f-98cb-b5eaea0a1647"
      },
      "execution_count": 99,
      "outputs": [
        {
          "output_type": "display_data",
          "data": {
            "text/plain": [
              "<Figure size 1080x360 with 1 Axes>"
            ],
            "image/png": "[encoded data removed]"
          },
          "metadata": {
            "needs_background": "light"
          }
        }
      ]
    },
    {
      "cell_type": "code",
      "source": [
        "# Get the predicted classes\n",
        "train_class_preds = optimal_rf_clf.predict(X_train)\n",
        "test_class_preds = optimal_rf_clf.predict(X_test)"
      ],
      "metadata": {
        "id": "98caTPkR6rEE"
      },
      "execution_count": 100,
      "outputs": []
    },
    {
      "cell_type": "code",
      "source": [
        "y_preds_proba_rf = optimal_rf_clf.predict_proba(X_test)[::,1]"
      ],
      "metadata": {
        "id": "18D_i_oA6q_t"
      },
      "execution_count": 101,
      "outputs": []
    },
    {
      "cell_type": "code",
      "source": [
        "# Displaying the ROC-AUC Curve\n",
        "\n",
        "y_pred_proba = y_preds_proba_rf\n",
        "fpr, tpr, _ = roc_curve(y_test,  y_pred_proba)\n",
        "auc = roc_auc_score(y_test, y_pred_proba)\n",
        "plt.plot(fpr,tpr,label=\"data 1, auc=\"+str(auc))\n",
        "plt.legend(loc=4)\n",
        "plt.show()"
      ],
      "metadata": {
        "colab": {
          "base_uri": "https://localhost:8080/",
          "height": 265
        },
        "id": "uISDd-yP6q9Y",
        "outputId": "eaf3476e-d329-4569-c889-671fffcc1755"
      },
      "execution_count": 102,
      "outputs": [
        {
          "output_type": "display_data",
          "data": {
            "text/plain": [
              "<Figure size 432x288 with 1 Axes>"
            ],
            "image/png": "[encoded data removed]"
          },
          "metadata": {
            "needs_background": "light"
          }
        }
      ]
    },
    {
      "cell_type": "markdown",
      "source": [
        "# **Implementing XGBoost**"
      ],
      "metadata": {
        "id": "v7r1itWN7iPz"
      }
    },
    {
      "cell_type": "code",
      "source": [
        "#import lightgbm and xgboost \n",
        "import lightgbm as lgb \n",
        "import xgboost as xgb"
      ],
      "metadata": {
        "id": "iS1UZPX06q6u"
      },
      "execution_count": 103,
      "outputs": []
    },
    {
      "cell_type": "code",
      "source": [
        "#The data is stored in a DMatrix object \n",
        "#label is used to define our outcome variable\n",
        "\n",
        "dtrain=xgb.DMatrix(X_train,label=y_train)\n",
        "dtest=xgb.DMatrix(X_test)"
      ],
      "metadata": {
        "id": "yEYSjwbZ6q4l"
      },
      "execution_count": 104,
      "outputs": []
    },
    {
      "cell_type": "code",
      "source": [
        "#setting parameters for xgboost\n",
        "parameters={'max_depth':7, 'eta':1, 'silent':1,'objective':'binary:logistic','eval_metric':'auc','learning_rate':.05}"
      ],
      "metadata": {
        "id": "tZp_EPEP6q2I"
      },
      "execution_count": 105,
      "outputs": []
    },
    {
      "cell_type": "code",
      "source": [
        "#training our model \n",
        "num_round=50\n",
        "from datetime import datetime \n",
        "start = datetime.now() \n",
        "xg=xgb.train(parameters,dtrain,num_round) \n",
        "stop = datetime.now()"
      ],
      "metadata": {
        "id": "f9lISfpo6qzk"
      },
      "execution_count": 106,
      "outputs": []
    },
    {
      "cell_type": "code",
      "source": [
        "#Execution time of the model \n",
        "execution_time_xgb = stop-start \n",
        "execution_time_xgb"
      ],
      "metadata": {
        "colab": {
          "base_uri": "https://localhost:8080/"
        },
        "id": "c1UAIp0g6qxj",
        "outputId": "742ad18a-8fda-4dc6-a114-d32f3f523d98"
      },
      "execution_count": 107,
      "outputs": [
        {
          "output_type": "execute_result",
          "data": {
            "text/plain": [
              "datetime.timedelta(microseconds=239779)"
            ]
          },
          "metadata": {},
          "execution_count": 107
        }
      ]
    },
    {
      "cell_type": "code",
      "source": [
        "#now predicting our model on train set \n",
        "train_class_preds_probs=xg.predict(dtrain) \n",
        "\n",
        "#now predicting our model on test set \n",
        "test_class_preds_probs =xg.predict(dtest) "
      ],
      "metadata": {
        "id": "kV0HamyH6qvR"
      },
      "execution_count": 108,
      "outputs": []
    },
    {
      "cell_type": "code",
      "source": [
        "len(train_class_preds_probs)"
      ],
      "metadata": {
        "colab": {
          "base_uri": "https://localhost:8080/"
        },
        "id": "Ko1uPhGb6qs-",
        "outputId": "4c79d968-d415-4e15-d58b-29e1704d3311"
      },
      "execution_count": 109,
      "outputs": [
        {
          "output_type": "execute_result",
          "data": {
            "text/plain": [
              "970"
            ]
          },
          "metadata": {},
          "execution_count": 109
        }
      ]
    },
    {
      "cell_type": "code",
      "source": [
        "train_class_preds = []\n",
        "test_class_preds = []\n",
        "for i in range(0,len(train_class_preds_probs)):\n",
        "  if train_class_preds_probs[i] >= 0.5:\n",
        "    train_class_preds.append(1)\n",
        "  else:\n",
        "    train_class_preds.append(0)\n",
        "\n",
        "for i in range(0,len(test_class_preds_probs)):\n",
        "  if test_class_preds_probs[i] >= 0.5:\n",
        "    test_class_preds.append(1)\n",
        "  else:\n",
        "    test_class_preds.append(0)"
      ],
      "metadata": {
        "id": "TdQPAM5Q6qox"
      },
      "execution_count": 110,
      "outputs": []
    },
    {
      "cell_type": "code",
      "source": [
        "test_class_preds_probs[:20]"
      ],
      "metadata": {
        "colab": {
          "base_uri": "https://localhost:8080/"
        },
        "id": "tB5jcmBT6qmY",
        "outputId": "416a6fa1-859e-45ef-e95f-074822d66987"
      },
      "execution_count": 111,
      "outputs": [
        {
          "output_type": "execute_result",
          "data": {
            "text/plain": [
              "array([0.61659396, 0.49745238, 0.4518117 , 0.40987667, 0.149721  ,\n",
              "       0.35476965, 0.7472296 , 0.75439036, 0.8312844 , 0.2506669 ,\n",
              "       0.4802749 , 0.78327245, 0.837654  , 0.7317682 , 0.37389338,\n",
              "       0.5300132 , 0.7291484 , 0.8367569 , 0.30759233, 0.4319474 ],\n",
              "      dtype=float32)"
            ]
          },
          "metadata": {},
          "execution_count": 111
        }
      ]
    },
    {
      "cell_type": "code",
      "source": [
        "test_class_preds[:20]"
      ],
      "metadata": {
        "colab": {
          "base_uri": "https://localhost:8080/"
        },
        "id": "RJdB-eMU6qkP",
        "outputId": "619e078a-cbf6-4bd2-e070-152678d4fed6"
      },
      "execution_count": 112,
      "outputs": [
        {
          "output_type": "execute_result",
          "data": {
            "text/plain": [
              "[1, 0, 0, 0, 0, 0, 1, 1, 1, 0, 0, 1, 1, 1, 0, 1, 1, 1, 0, 0]"
            ]
          },
          "metadata": {},
          "execution_count": 112
        }
      ]
    },
    {
      "cell_type": "code",
      "source": [
        "len(y_train)"
      ],
      "metadata": {
        "colab": {
          "base_uri": "https://localhost:8080/"
        },
        "id": "9YnQVFDN6qiM",
        "outputId": "48e66f74-9fb6-4f73-cee2-43d5a27727e4"
      },
      "execution_count": 113,
      "outputs": [
        {
          "output_type": "execute_result",
          "data": {
            "text/plain": [
              "970"
            ]
          },
          "metadata": {},
          "execution_count": 113
        }
      ]
    },
    {
      "cell_type": "code",
      "source": [
        "len(train_class_preds)"
      ],
      "metadata": {
        "colab": {
          "base_uri": "https://localhost:8080/"
        },
        "id": "PFFKila-6qgG",
        "outputId": "0208a348-dc90-4efc-9b1f-1b1c15fb5a58"
      },
      "execution_count": 114,
      "outputs": [
        {
          "output_type": "execute_result",
          "data": {
            "text/plain": [
              "970"
            ]
          },
          "metadata": {},
          "execution_count": 114
        }
      ]
    },
    {
      "cell_type": "code",
      "source": [
        "# Get the accuracy scores\n",
        "train_accuracy_xgb = accuracy_score(train_class_preds,y_train)\n",
        "test_accuracy_xgb = accuracy_score(test_class_preds,y_test)\n",
        "\n",
        "print(\"The accuracy on train data is \", train_accuracy_xgb)\n",
        "print(\"The accuracy on test data is \", test_accuracy_xgb)"
      ],
      "metadata": {
        "colab": {
          "base_uri": "https://localhost:8080/"
        },
        "id": "llgqelcA6qeE",
        "outputId": "a6ba60b8-9def-475c-e402-4d6e89a53747"
      },
      "execution_count": 115,
      "outputs": [
        {
          "output_type": "stream",
          "name": "stdout",
          "text": [
            "The accuracy on train data is  0.9443298969072165\n",
            "The accuracy on test data is  0.7548076923076923\n"
          ]
        }
      ]
    },
    {
      "cell_type": "code",
      "source": [
        "# Display the accuracy scores for Precision, Recall, F1 and ROC_AUC\n",
        "\n",
        "test_accuracy_xgb = accuracy_score(test_class_preds,y_test)\n",
        "test_precision_xgb = precision_score(test_class_preds,y_test)\n",
        "test_recall_score_xgb = recall_score(test_class_preds,y_test)\n",
        "test_f1_score_xgb = f1_score(test_class_preds,y_test)\n",
        "test_roc_score_xgb = roc_auc_score(test_class_preds,y_test)\n",
        "\n",
        "print(\"The accuracy on test data is \", test_accuracy_xgb)\n",
        "print(\"The precision on test data is \", test_precision_xgb)\n",
        "print(\"The recall on test data is \", test_recall_score_xgb)\n",
        "print(\"The f1 on test data is \", test_f1_score_xgb)\n",
        "print(\"The roc_score on train data is \", test_roc_score_xgb)"
      ],
      "metadata": {
        "colab": {
          "base_uri": "https://localhost:8080/"
        },
        "id": "4nYcLH4I6qb2",
        "outputId": "06d11247-9b7a-4396-b368-ec6370dc2a5e"
      },
      "execution_count": 116,
      "outputs": [
        {
          "output_type": "stream",
          "name": "stdout",
          "text": [
            "The accuracy on test data is  0.7548076923076923\n",
            "The precision on test data is  0.7403846153846154\n",
            "The recall on test data is  0.7623762376237624\n",
            "The f1 on test data is  0.751219512195122\n",
            "The roc_score on train data is  0.7550198945128158\n"
          ]
        }
      ]
    },
    {
      "cell_type": "code",
      "source": [
        "# Get the confusion matrix for both train and test\n",
        "\n",
        "labels = ['Low Risk', 'High Risk']\n",
        "cm = confusion_matrix(y_train, train_class_preds)\n",
        "print(cm)\n",
        "\n",
        "ax= plt.subplot()\n",
        "sns.heatmap(cm, annot=True, ax = ax) #annot=True to annotate cells\n",
        "\n",
        "# labels, title and ticks\n",
        "ax.set_xlabel('Predicted labels')\n",
        "ax.set_ylabel('True labels')\n",
        "ax.set_title('Confusion Matrix')\n",
        "ax.xaxis.set_ticklabels(labels)\n",
        "ax.yaxis.set_ticklabels(labels)"
      ],
      "metadata": {
        "colab": {
          "base_uri": "https://localhost:8080/",
          "height": 347
        },
        "id": "3YX4vs4Y6qZf",
        "outputId": "af2edb57-4e76-4884-a451-e5c956f21ae1"
      },
      "execution_count": 117,
      "outputs": [
        {
          "output_type": "stream",
          "name": "stdout",
          "text": [
            "[[459  26]\n",
            " [ 28 457]]\n"
          ]
        },
        {
          "output_type": "execute_result",
          "data": {
            "text/plain": [
              "[Text(0, 0.5, 'Low Risk'), Text(0, 1.5, 'High Risk')]"
            ]
          },
          "metadata": {},
          "execution_count": 117
        },
        {
          "output_type": "display_data",
          "data": {
            "text/plain": [
              "<Figure size 432x288 with 2 Axes>"
            ],
            "image/png": "[encoded data removed]"
          },
          "metadata": {
            "needs_background": "light"
          }
        }
      ]
    },
    {
      "cell_type": "markdown",
      "source": [
        "# **Hyperparameter Tuning**"
      ],
      "metadata": {
        "id": "7OhMTQ1a72Q8"
      }
    },
    {
      "cell_type": "code",
      "source": [
        "# Importing the XGB Classifier\n",
        "from xgboost import  XGBClassifier"
      ],
      "metadata": {
        "id": "JiKrX-0K77Mi"
      },
      "execution_count": 118,
      "outputs": []
    },
    {
      "cell_type": "code",
      "source": [
        "X = train_df.drop(['high_risk_applicant'],axis=1)\n",
        "y = train_df['high_risk_applicant']"
      ],
      "metadata": {
        "id": "ZllPrptA77Jl"
      },
      "execution_count": 119,
      "outputs": []
    },
    {
      "cell_type": "code",
      "source": [
        "# Train-Test split\n",
        "X_train, X_test, y_train, y_test = train_test_split(X, y, test_size=0.30, random_state=42, stratify = y)"
      ],
      "metadata": {
        "id": "FNH6NqiT77Hu"
      },
      "execution_count": 120,
      "outputs": []
    },
    {
      "cell_type": "code",
      "source": [
        "param_test1 = {\n",
        " 'max_depth':range(3,10,2),\n",
        " 'min_child_weight':range(1,6,2)\n",
        "}\n",
        "gsearch1 = GridSearchCV(estimator = XGBClassifier( learning_rate =0.1, n_estimators=140, max_depth=5,\n",
        " min_child_weight=1, gamma=0, subsample=0.8, colsample_bytree=0.8,\n",
        " objective= 'binary:logistic', nthread=4, scale_pos_weight=1, seed=27), \n",
        " param_grid = param_test1, scoring='accuracy',n_jobs=-1, cv=3, verbose = 2)\n",
        "gsearch1.fit(X_train, y_train)"
      ],
      "metadata": {
        "colab": {
          "base_uri": "https://localhost:8080/"
        },
        "id": "2VjYGMn877Fi",
        "outputId": "ec89e92e-280a-467d-9c1f-287a2bdc418b"
      },
      "execution_count": 121,
      "outputs": [
        {
          "output_type": "stream",
          "name": "stdout",
          "text": [
            "Fitting 3 folds for each of 12 candidates, totalling 36 fits\n"
          ]
        },
        {
          "output_type": "execute_result",
          "data": {
            "text/plain": [
              "GridSearchCV(cv=3,\n",
              "             estimator=XGBClassifier(colsample_bytree=0.8, max_depth=5,\n",
              "                                     n_estimators=140, nthread=4, seed=27,\n",
              "                                     subsample=0.8),\n",
              "             n_jobs=-1,\n",
              "             param_grid={'max_depth': range(3, 10, 2),\n",
              "                         'min_child_weight': range(1, 6, 2)},\n",
              "             scoring='accuracy', verbose=2)"
            ]
          },
          "metadata": {},
          "execution_count": 121
        }
      ]
    },
    {
      "cell_type": "code",
      "source": [
        "# Finding the best score\n",
        "gsearch1.best_score_"
      ],
      "metadata": {
        "colab": {
          "base_uri": "https://localhost:8080/"
        },
        "id": "E7ynu2Da77DM",
        "outputId": "7b525f1d-c72b-48a2-fb3d-9d232e3e32c0"
      },
      "execution_count": 122,
      "outputs": [
        {
          "output_type": "execute_result",
          "data": {
            "text/plain": [
              "0.7845016499127265"
            ]
          },
          "metadata": {},
          "execution_count": 122
        }
      ]
    },
    {
      "cell_type": "code",
      "source": [
        "# Finding the best estimator\n",
        "optimal_xgb = gsearch1.best_estimator_"
      ],
      "metadata": {
        "id": "h6Xc4kDi77At"
      },
      "execution_count": 123,
      "outputs": []
    },
    {
      "cell_type": "code",
      "source": [
        "gsearch1.best_params_"
      ],
      "metadata": {
        "colab": {
          "base_uri": "https://localhost:8080/"
        },
        "id": "McNZbJeB7620",
        "outputId": "7c1056dc-d90e-48a2-9c5e-70bdefc1e69f"
      },
      "execution_count": 124,
      "outputs": [
        {
          "output_type": "execute_result",
          "data": {
            "text/plain": [
              "{'max_depth': 5, 'min_child_weight': 1}"
            ]
          },
          "metadata": {},
          "execution_count": 124
        }
      ]
    },
    {
      "cell_type": "code",
      "source": [
        "# Get the predicted classes\n",
        "train_class_preds = optimal_xgb.predict(X_train)\n",
        "test_class_preds = optimal_xgb.predict(X_test)"
      ],
      "metadata": {
        "id": "yX3kuqB1760W"
      },
      "execution_count": 125,
      "outputs": []
    },
    {
      "cell_type": "code",
      "source": [
        "# Get the accuracy scores\n",
        "train_accuracy_xgb_tuned = accuracy_score(train_class_preds,y_train)\n",
        "test_accuracy_xgb_tuned = accuracy_score(test_class_preds,y_test)\n",
        "\n",
        "print(\"The accuracy on train data is \", train_accuracy_xgb_tuned)\n",
        "print(\"The accuracy on test data is \", test_accuracy_xgb_tuned)"
      ],
      "metadata": {
        "colab": {
          "base_uri": "https://localhost:8080/"
        },
        "id": "b7g-TlcS76x4",
        "outputId": "6dffdee8-dd96-4229-ce2d-42b197f948b1"
      },
      "execution_count": 126,
      "outputs": [
        {
          "output_type": "stream",
          "name": "stdout",
          "text": [
            "The accuracy on train data is  0.9824742268041237\n",
            "The accuracy on test data is  0.75\n"
          ]
        }
      ]
    },
    {
      "cell_type": "code",
      "source": [
        "# Display the accuracy scores for Precision, Recall, F1 and ROC_AUC\n",
        "\n",
        "test_accuracy_xgb_tuned = accuracy_score(test_class_preds,y_test)\n",
        "test_precision_xgb_tuned = precision_score(test_class_preds,y_test)\n",
        "test_recall_score_xgb_tuned = recall_score(test_class_preds,y_test)\n",
        "test_f1_score_xgb_tuned = f1_score(test_class_preds,y_test)\n",
        "test_roc_score_xgb_tuned = roc_auc_score(test_class_preds,y_test)\n",
        "\n",
        "print(\"The accuracy on test data is \", test_accuracy_xgb_tuned)\n",
        "print(\"The precision on test data is \", test_precision_xgb_tuned)\n",
        "print(\"The recall on test data is \", test_recall_score_xgb_tuned)\n",
        "print(\"The f1 on test data is \", test_f1_score_xgb_tuned)\n",
        "print(\"The roc_score on train data is \", test_roc_score_xgb_tuned)"
      ],
      "metadata": {
        "colab": {
          "base_uri": "https://localhost:8080/"
        },
        "id": "Box5xmv876vv",
        "outputId": "62cca83f-e857-486d-aaf1-debaad46779c"
      },
      "execution_count": 127,
      "outputs": [
        {
          "output_type": "stream",
          "name": "stdout",
          "text": [
            "The accuracy on test data is  0.75\n",
            "The precision on test data is  0.7451923076923077\n",
            "The recall on test data is  0.7524271844660194\n",
            "The f1 on test data is  0.7487922705314008\n",
            "The roc_score on train data is  0.7500231160425335\n"
          ]
        }
      ]
    },
    {
      "cell_type": "code",
      "source": [
        "# Get the confusion matrix for both train and test\n",
        "\n",
        "labels = ['Low Risk', 'High Risk']\n",
        "cm = confusion_matrix(y_train, train_class_preds)\n",
        "print(cm)\n",
        "\n",
        "ax= plt.subplot()\n",
        "sns.heatmap(cm, annot=True, ax = ax) #annot=True to annotate cells\n",
        "\n",
        "# labels, title and ticks\n",
        "ax.set_xlabel('Predicted labels')\n",
        "ax.set_ylabel('True labels')\n",
        "ax.set_title('Confusion Matrix')\n",
        "ax.xaxis.set_ticklabels(labels)\n",
        "ax.yaxis.set_ticklabels(labels)"
      ],
      "metadata": {
        "colab": {
          "base_uri": "https://localhost:8080/",
          "height": 347
        },
        "id": "vi8kgR3q76tY",
        "outputId": "9a8c5261-fc1a-4675-fcd0-b2ddf0eeca47"
      },
      "execution_count": 128,
      "outputs": [
        {
          "output_type": "stream",
          "name": "stdout",
          "text": [
            "[[478   7]\n",
            " [ 10 475]]\n"
          ]
        },
        {
          "output_type": "execute_result",
          "data": {
            "text/plain": [
              "[Text(0, 0.5, 'Low Risk'), Text(0, 1.5, 'High Risk')]"
            ]
          },
          "metadata": {},
          "execution_count": 128
        },
        {
          "output_type": "display_data",
          "data": {
            "text/plain": [
              "<Figure size 432x288 with 2 Axes>"
            ],
            "image/png": "[encoded data removed]"
          },
          "metadata": {
            "needs_background": "light"
          }
        }
      ]
    },
    {
      "cell_type": "code",
      "source": [
        "len(optimal_xgb.feature_importances_)"
      ],
      "metadata": {
        "colab": {
          "base_uri": "https://localhost:8080/"
        },
        "id": "eGY28OTd76rH",
        "outputId": "8b8c7beb-a7ea-4de9-f27d-e66daaf29101"
      },
      "execution_count": 129,
      "outputs": [
        {
          "output_type": "execute_result",
          "data": {
            "text/plain": [
              "22"
            ]
          },
          "metadata": {},
          "execution_count": 129
        }
      ]
    },
    {
      "cell_type": "code",
      "source": [
        "# Feature Importance\n",
        "feature_importances_xgb = pd.DataFrame(optimal_xgb.feature_importances_,\n",
        "                                   index = columns,\n",
        "                                    columns=['importance_rf']).sort_values('importance_rf',\n",
        "                                                                        ascending=False)[:10]\n",
        "                                    \n",
        "plt.subplots(figsize=(15,5))\n",
        "plt.title(\"Feature importances\")\n",
        "plt.bar(feature_importances_xgb.index, feature_importances_xgb['importance_rf'],\n",
        "        color=\"R\",  align=\"center\")\n",
        "plt.xticks(feature_importances_xgb.index, rotation = 85)\n",
        "#plt.xlim([-1, X.shape[1]])\n",
        "plt.show()"
      ],
      "metadata": {
        "colab": {
          "base_uri": "https://localhost:8080/",
          "height": 525
        },
        "id": "X4C6OKhi76mv",
        "outputId": "9768f977-9d70-402b-c70d-8961589ec2a7"
      },
      "execution_count": 130,
      "outputs": [
        {
          "output_type": "display_data",
          "data": {
            "text/plain": [
              "<Figure size 1080x360 with 1 Axes>"
            ],
            "image/png": "[encoded data removed]"
          },
          "metadata": {
            "needs_background": "light"
          }
        }
      ]
    },
    {
      "cell_type": "code",
      "source": [
        "y_preds_proba_xgb = optimal_xgb.predict_proba(X_test)[::,1]"
      ],
      "metadata": {
        "id": "zREIjO5o76ka"
      },
      "execution_count": 131,
      "outputs": []
    },
    {
      "cell_type": "code",
      "source": [
        "y_pred_proba = y_preds_proba_xgb\n",
        "fpr, tpr, _ = roc_curve(y_test,  y_pred_proba)\n",
        "auc = roc_auc_score(y_test, y_pred_proba)\n",
        "plt.plot(fpr,tpr,label=\"data 1, auc=\"+str(auc))\n",
        "plt.legend(loc=4)\n",
        "plt.show()"
      ],
      "metadata": {
        "colab": {
          "base_uri": "https://localhost:8080/",
          "height": 265
        },
        "id": "ongVtRWF76h1",
        "outputId": "ddc209c1-229e-430d-db2f-24c8a5df63be"
      },
      "execution_count": 132,
      "outputs": [
        {
          "output_type": "display_data",
          "data": {
            "text/plain": [
              "<Figure size 432x288 with 1 Axes>"
            ],
            "image/png": "[encoded data removed]"
          },
          "metadata": {
            "needs_background": "light"
          }
        }
      ]
    },
    {
      "cell_type": "code",
      "source": [
        "classifiers = ['Logistic Regression', 'SVC', 'Random Forest CLf', 'Xgboost Clf']\n",
        "train_accuracy = [train_accuracy_lr, train_accuracy_SVC, train_accuracy_rf, train_accuracy_xgb_tuned]\n",
        "test_accuracy = [test_accuracy_lr, test_accuracy_SVC, test_accuracy_rf, test_accuracy_xgb_tuned]\n",
        "precision_score = [test_precision_score_lr, test_precision_score_SVC, test_precision_score_rf, test_precision_xgb_tuned]\n",
        "recall_score = [test_recall_score_lr, test_recall_score_SVC, test_recall_score_rf, test_recall_score_xgb_tuned]\n",
        "f1_score = [test_f1_score_lr, test_f1_score_SVC, test_f1_score_rf, test_f1_score_xgb_tuned]"
      ],
      "metadata": {
        "id": "2z6cn25e76fr"
      },
      "execution_count": 133,
      "outputs": []
    },
    {
      "cell_type": "code",
      "source": [
        "pd.DataFrame({'Classifier':classifiers, 'Train Accuracy': train_accuracy, 'Test Accuracy': test_accuracy, 'Precision Score': precision_score, 'Recall Score': recall_score, 'F1 score': f1_score})\n"
      ],
      "metadata": {
        "colab": {
          "base_uri": "https://localhost:8080/",
          "height": 175
        },
        "id": "mv14STEc76dP",
        "outputId": "7025b94b-fbbc-42ef-f5d7-d2d9884307a9"
      },
      "execution_count": 134,
      "outputs": [
        {
          "output_type": "execute_result",
          "data": {
            "text/plain": [
              "            Classifier  Train Accuracy  Test Accuracy  Precision Score  \\\n",
              "0  Logistic Regression        0.726804       0.687500         0.692308   \n",
              "1                  SVC        0.959794       0.721154         0.730769   \n",
              "2    Random Forest CLf        1.000000       0.771635         0.764423   \n",
              "3          Xgboost Clf        0.982474       0.750000         0.745192   \n",
              "\n",
              "   Recall Score  F1 score  \n",
              "0      0.685714  0.688995  \n",
              "1      0.716981  0.723810  \n",
              "2      0.775610  0.769976  \n",
              "3      0.752427  0.748792  "
            ],
            "text/html": [
              "\n",
              "  <div id=\"df-f18bf6e2-dbb9-4400-9af1-11965edbd738\">\n",
              "    <div class=\"colab-df-container\">\n",
              "      <div>\n",
              "<style scoped>\n",
              "    .dataframe tbody tr th:only-of-type {\n",
              "        vertical-align: middle;\n",
              "    }\n",
              "\n",
              "    .dataframe tbody tr th {\n",
              "        vertical-align: top;\n",
              "    }\n",
              "\n",
              "    .dataframe thead th {\n",
              "        text-align: right;\n",
              "    }\n",
              "</style>\n",
              "<table border=\"1\" class=\"dataframe\">\n",
              "  <thead>\n",
              "    <tr style=\"text-align: right;\">\n",
              "      <th></th>\n",
              "      <th>Classifier</th>\n",
              "      <th>Train Accuracy</th>\n",
              "      <th>Test Accuracy</th>\n",
              "      <th>Precision Score</th>\n",
              "      <th>Recall Score</th>\n",
              "      <th>F1 score</th>\n",
              "    </tr>\n",
              "  </thead>\n",
              "  <tbody>\n",
              "    <tr>\n",
              "      <th>0</th>\n",
              "      <td>Logistic Regression</td>\n",
              "      <td>0.726804</td>\n",
              "      <td>0.687500</td>\n",
              "      <td>0.692308</td>\n",
              "      <td>0.685714</td>\n",
              "      <td>0.688995</td>\n",
              "    </tr>\n",
              "    <tr>\n",
              "      <th>1</th>\n",
              "      <td>SVC</td>\n",
              "      <td>0.959794</td>\n",
              "      <td>0.721154</td>\n",
              "      <td>0.730769</td>\n",
              "      <td>0.716981</td>\n",
              "      <td>0.723810</td>\n",
              "    </tr>\n",
              "    <tr>\n",
              "      <th>2</th>\n",
              "      <td>Random Forest CLf</td>\n",
              "      <td>1.000000</td>\n",
              "      <td>0.771635</td>\n",
              "      <td>0.764423</td>\n",
              "      <td>0.775610</td>\n",
              "      <td>0.769976</td>\n",
              "    </tr>\n",
              "    <tr>\n",
              "      <th>3</th>\n",
              "      <td>Xgboost Clf</td>\n",
              "      <td>0.982474</td>\n",
              "      <td>0.750000</td>\n",
              "      <td>0.745192</td>\n",
              "      <td>0.752427</td>\n",
              "      <td>0.748792</td>\n",
              "    </tr>\n",
              "  </tbody>\n",
              "</table>\n",
              "</div>\n",
              "      <button class=\"colab-df-convert\" onclick=\"convertToInteractive('df-f18bf6e2-dbb9-4400-9af1-11965edbd738')\"\n",
              "              title=\"Convert this dataframe to an interactive table.\"\n",
              "              style=\"display:none;\">\n",
              "        \n",
              "  <svg xmlns=\"http://www.w3.org/2000/svg\" height=\"24px\"viewBox=\"0 0 24 24\"\n",
              "       width=\"24px\">\n",
              "    <path d=\"M0 0h24v24H0V0z\" fill=\"none\"/>\n",
              "    <path d=\"M18.56 5.44l.94 2.06.94-2.06 2.06-.94-2.06-.94-.94-2.06-.94 2.06-2.06.94zm-11 1L8.5 8.5l.94-2.06 2.06-.94-2.06-.94L8.5 2.5l-.94 2.06-2.06.94zm10 10l.94 2.06.94-2.06 2.06-.94-2.06-.94-.94-2.06-.94 2.06-2.06.94z\"/><path d=\"M17.41 7.96l-1.37-1.37c-.4-.4-.92-.59-1.43-.59-.52 0-1.04.2-1.43.59L10.3 9.45l-7.72 7.72c-.78.78-.78 2.05 0 2.83L4 21.41c.39.39.9.59 1.41.59.51 0 1.02-.2 1.41-.59l7.78-7.78 2.81-2.81c.8-.78.8-2.07 0-2.86zM5.41 20L4 18.59l7.72-7.72 1.47 1.35L5.41 20z\"/>\n",
              "  </svg>\n",
              "      </button>\n",
              "      \n",
              "  <style>\n",
              "    .colab-df-container {\n",
              "      display:flex;\n",
              "      flex-wrap:wrap;\n",
              "      gap: 12px;\n",
              "    }\n",
              "\n",
              "    .colab-df-convert {\n",
              "      background-color: #E8F0FE;\n",
              "      border: none;\n",
              "      border-radius: 50%;\n",
              "      cursor: pointer;\n",
              "      display: none;\n",
              "      fill: #1967D2;\n",
              "      height: 32px;\n",
              "      padding: 0 0 0 0;\n",
              "      width: 32px;\n",
              "    }\n",
              "\n",
              "    .colab-df-convert:hover {\n",
              "      background-color: #E2EBFA;\n",
              "      box-shadow: 0px 1px 2px rgba(60, 64, 67, 0.3), 0px 1px 3px 1px rgba(60, 64, 67, 0.15);\n",
              "      fill: #174EA6;\n",
              "    }\n",
              "\n",
              "    [theme=dark] .colab-df-convert {\n",
              "      background-color: #3B4455;\n",
              "      fill: #D2E3FC;\n",
              "    }\n",
              "\n",
              "    [theme=dark] .colab-df-convert:hover {\n",
              "      background-color: #434B5C;\n",
              "      box-shadow: 0px 1px 3px 1px rgba(0, 0, 0, 0.15);\n",
              "      filter: drop-shadow(0px 1px 2px rgba(0, 0, 0, 0.3));\n",
              "      fill: #FFFFFF;\n",
              "    }\n",
              "  </style>\n",
              "\n",
              "      <script>\n",
              "        const buttonEl =\n",
              "          document.querySelector('#df-f18bf6e2-dbb9-4400-9af1-11965edbd738 button.colab-df-convert');\n",
              "        buttonEl.style.display =\n",
              "          google.colab.kernel.accessAllowed ? 'block' : 'none';\n",
              "\n",
              "        async function convertToInteractive(key) {\n",
              "          const element = document.querySelector('#df-f18bf6e2-dbb9-4400-9af1-11965edbd738');\n",
              "          const dataTable =\n",
              "            await google.colab.kernel.invokeFunction('convertToInteractive',\n",
              "                                                     [key], {});\n",
              "          if (!dataTable) return;\n",
              "\n",
              "          const docLinkHtml = 'Like what you see? Visit the ' +\n",
              "            '<a target=\"_blank\" href=https://colab.research.google.com/notebooks/data_table.ipynb>data table notebook</a>'\n",
              "            + ' to learn more about interactive tables.';\n",
              "          element.innerHTML = '';\n",
              "          dataTable['output_type'] = 'display_data';\n",
              "          await google.colab.output.renderOutput(dataTable, element);\n",
              "          const docLink = document.createElement('div');\n",
              "          docLink.innerHTML = docLinkHtml;\n",
              "          element.appendChild(docLink);\n",
              "        }\n",
              "      </script>\n",
              "    </div>\n",
              "  </div>\n",
              "  "
            ]
          },
          "metadata": {},
          "execution_count": 134
        }
      ]
    },
    {
      "cell_type": "code",
      "source": [
        "classifiers_proba = [(optimized_clf, y_preds_proba_lr), \n",
        "               (optimal_rf_clf, y_preds_proba_rf), \n",
        "               (optimal_xgb, y_preds_proba_xgb),\n",
        "               (optimal_SVC_clf,y_pred_proba_SVC)]\n",
        "\n",
        "# Define a result table as a DataFrame\n",
        "result_table = pd.DataFrame(columns=['classifiers', 'fpr','tpr','auc'])\n",
        "\n",
        "# Train the models and record the results\n",
        "for pair in classifiers_proba:\n",
        "    \n",
        "    fpr, tpr, _ = roc_curve(y_test,  pair[1])\n",
        "    auc = roc_auc_score(y_test, pair[1])\n",
        "    \n",
        "    result_table = result_table.append({'classifiers':pair[0].__class__.__name__,\n",
        "                                        'fpr':fpr, \n",
        "                                        'tpr':tpr, \n",
        "                                        'auc':auc}, ignore_index=True)\n",
        "\n",
        "# Set name of the classifiers as index labels\n",
        "result_table.set_index('classifiers', inplace=True)"
      ],
      "metadata": {
        "id": "SaSP-mHP76bN"
      },
      "execution_count": 135,
      "outputs": []
    },
    {
      "cell_type": "code",
      "source": [
        "result_table"
      ],
      "metadata": {
        "colab": {
          "base_uri": "https://localhost:8080/",
          "height": 206
        },
        "id": "w7-IHfQ476Y1",
        "outputId": "7650553a-1243-42ef-9803-fe5c9d16d8db"
      },
      "execution_count": 136,
      "outputs": [
        {
          "output_type": "execute_result",
          "data": {
            "text/plain": [
              "                                                                      fpr  \\\n",
              "classifiers                                                                 \n",
              "LogisticRegression      [0.0, 0.0, 0.0, 0.004807692307692308, 0.004807...   \n",
              "RandomForestClassifier  [0.0, 0.0, 0.0, 0.0, 0.0, 0.0, 0.0, 0.0, 0.0, ...   \n",
              "XGBClassifier           [0.0, 0.0, 0.0, 0.004807692307692308, 0.004807...   \n",
              "SVC                     [0.0, 0.0, 0.0, 0.004807692307692308, 0.004807...   \n",
              "\n",
              "                                                                      tpr  \\\n",
              "classifiers                                                                 \n",
              "LogisticRegression      [0.0, 0.004807692307692308, 0.0240384615384615...   \n",
              "RandomForestClassifier  [0.0, 0.004807692307692308, 0.0144230769230769...   \n",
              "XGBClassifier           [0.0, 0.004807692307692308, 0.0240384615384615...   \n",
              "SVC                     [0.0, 0.004807692307692308, 0.0384615384615384...   \n",
              "\n",
              "                             auc  \n",
              "classifiers                       \n",
              "LogisticRegression      0.703425  \n",
              "RandomForestClassifier  0.841415  \n",
              "XGBClassifier           0.847679  \n",
              "SVC                     0.796991  "
            ],
            "text/html": [
              "\n",
              "  <div id=\"df-648d1088-b943-4058-bcce-cc978744e5b4\">\n",
              "    <div class=\"colab-df-container\">\n",
              "      <div>\n",
              "<style scoped>\n",
              "    .dataframe tbody tr th:only-of-type {\n",
              "        vertical-align: middle;\n",
              "    }\n",
              "\n",
              "    .dataframe tbody tr th {\n",
              "        vertical-align: top;\n",
              "    }\n",
              "\n",
              "    .dataframe thead th {\n",
              "        text-align: right;\n",
              "    }\n",
              "</style>\n",
              "<table border=\"1\" class=\"dataframe\">\n",
              "  <thead>\n",
              "    <tr style=\"text-align: right;\">\n",
              "      <th></th>\n",
              "      <th>fpr</th>\n",
              "      <th>tpr</th>\n",
              "      <th>auc</th>\n",
              "    </tr>\n",
              "    <tr>\n",
              "      <th>classifiers</th>\n",
              "      <th></th>\n",
              "      <th></th>\n",
              "      <th></th>\n",
              "    </tr>\n",
              "  </thead>\n",
              "  <tbody>\n",
              "    <tr>\n",
              "      <th>LogisticRegression</th>\n",
              "      <td>[0.0, 0.0, 0.0, 0.004807692307692308, 0.004807...</td>\n",
              "      <td>[0.0, 0.004807692307692308, 0.0240384615384615...</td>\n",
              "      <td>0.703425</td>\n",
              "    </tr>\n",
              "    <tr>\n",
              "      <th>RandomForestClassifier</th>\n",
              "      <td>[0.0, 0.0, 0.0, 0.0, 0.0, 0.0, 0.0, 0.0, 0.0, ...</td>\n",
              "      <td>[0.0, 0.004807692307692308, 0.0144230769230769...</td>\n",
              "      <td>0.841415</td>\n",
              "    </tr>\n",
              "    <tr>\n",
              "      <th>XGBClassifier</th>\n",
              "      <td>[0.0, 0.0, 0.0, 0.004807692307692308, 0.004807...</td>\n",
              "      <td>[0.0, 0.004807692307692308, 0.0240384615384615...</td>\n",
              "      <td>0.847679</td>\n",
              "    </tr>\n",
              "    <tr>\n",
              "      <th>SVC</th>\n",
              "      <td>[0.0, 0.0, 0.0, 0.004807692307692308, 0.004807...</td>\n",
              "      <td>[0.0, 0.004807692307692308, 0.0384615384615384...</td>\n",
              "      <td>0.796991</td>\n",
              "    </tr>\n",
              "  </tbody>\n",
              "</table>\n",
              "</div>\n",
              "      <button class=\"colab-df-convert\" onclick=\"convertToInteractive('df-648d1088-b943-4058-bcce-cc978744e5b4')\"\n",
              "              title=\"Convert this dataframe to an interactive table.\"\n",
              "              style=\"display:none;\">\n",
              "        \n",
              "  <svg xmlns=\"http://www.w3.org/2000/svg\" height=\"24px\"viewBox=\"0 0 24 24\"\n",
              "       width=\"24px\">\n",
              "    <path d=\"M0 0h24v24H0V0z\" fill=\"none\"/>\n",
              "    <path d=\"M18.56 5.44l.94 2.06.94-2.06 2.06-.94-2.06-.94-.94-2.06-.94 2.06-2.06.94zm-11 1L8.5 8.5l.94-2.06 2.06-.94-2.06-.94L8.5 2.5l-.94 2.06-2.06.94zm10 10l.94 2.06.94-2.06 2.06-.94-2.06-.94-.94-2.06-.94 2.06-2.06.94z\"/><path d=\"M17.41 7.96l-1.37-1.37c-.4-.4-.92-.59-1.43-.59-.52 0-1.04.2-1.43.59L10.3 9.45l-7.72 7.72c-.78.78-.78 2.05 0 2.83L4 21.41c.39.39.9.59 1.41.59.51 0 1.02-.2 1.41-.59l7.78-7.78 2.81-2.81c.8-.78.8-2.07 0-2.86zM5.41 20L4 18.59l7.72-7.72 1.47 1.35L5.41 20z\"/>\n",
              "  </svg>\n",
              "      </button>\n",
              "      \n",
              "  <style>\n",
              "    .colab-df-container {\n",
              "      display:flex;\n",
              "      flex-wrap:wrap;\n",
              "      gap: 12px;\n",
              "    }\n",
              "\n",
              "    .colab-df-convert {\n",
              "      background-color: #E8F0FE;\n",
              "      border: none;\n",
              "      border-radius: 50%;\n",
              "      cursor: pointer;\n",
              "      display: none;\n",
              "      fill: #1967D2;\n",
              "      height: 32px;\n",
              "      padding: 0 0 0 0;\n",
              "      width: 32px;\n",
              "    }\n",
              "\n",
              "    .colab-df-convert:hover {\n",
              "      background-color: #E2EBFA;\n",
              "      box-shadow: 0px 1px 2px rgba(60, 64, 67, 0.3), 0px 1px 3px 1px rgba(60, 64, 67, 0.15);\n",
              "      fill: #174EA6;\n",
              "    }\n",
              "\n",
              "    [theme=dark] .colab-df-convert {\n",
              "      background-color: #3B4455;\n",
              "      fill: #D2E3FC;\n",
              "    }\n",
              "\n",
              "    [theme=dark] .colab-df-convert:hover {\n",
              "      background-color: #434B5C;\n",
              "      box-shadow: 0px 1px 3px 1px rgba(0, 0, 0, 0.15);\n",
              "      filter: drop-shadow(0px 1px 2px rgba(0, 0, 0, 0.3));\n",
              "      fill: #FFFFFF;\n",
              "    }\n",
              "  </style>\n",
              "\n",
              "      <script>\n",
              "        const buttonEl =\n",
              "          document.querySelector('#df-648d1088-b943-4058-bcce-cc978744e5b4 button.colab-df-convert');\n",
              "        buttonEl.style.display =\n",
              "          google.colab.kernel.accessAllowed ? 'block' : 'none';\n",
              "\n",
              "        async function convertToInteractive(key) {\n",
              "          const element = document.querySelector('#df-648d1088-b943-4058-bcce-cc978744e5b4');\n",
              "          const dataTable =\n",
              "            await google.colab.kernel.invokeFunction('convertToInteractive',\n",
              "                                                     [key], {});\n",
              "          if (!dataTable) return;\n",
              "\n",
              "          const docLinkHtml = 'Like what you see? Visit the ' +\n",
              "            '<a target=\"_blank\" href=https://colab.research.google.com/notebooks/data_table.ipynb>data table notebook</a>'\n",
              "            + ' to learn more about interactive tables.';\n",
              "          element.innerHTML = '';\n",
              "          dataTable['output_type'] = 'display_data';\n",
              "          await google.colab.output.renderOutput(dataTable, element);\n",
              "          const docLink = document.createElement('div');\n",
              "          docLink.innerHTML = docLinkHtml;\n",
              "          element.appendChild(docLink);\n",
              "        }\n",
              "      </script>\n",
              "    </div>\n",
              "  </div>\n",
              "  "
            ]
          },
          "metadata": {},
          "execution_count": 136
        }
      ]
    },
    {
      "cell_type": "code",
      "source": [
        "# Plotting the ROC-AUC Curve\n",
        "\n",
        "fig = plt.figure(figsize=(8,6))\n",
        "\n",
        "for i in result_table.index:\n",
        "    plt.plot(result_table.loc[i]['fpr'], \n",
        "             result_table.loc[i]['tpr'], \n",
        "             label=\"{}, AUC={:.3f}\".format(i, result_table.loc[i]['auc']))\n",
        "    \n",
        "plt.plot([0,1], [0,1], color='orange', linestyle='--')\n",
        "\n",
        "plt.xticks(np.arange(0.0, 1.1, step=0.1))\n",
        "plt.xlabel(\"Flase Positive Rate\", fontsize=15)\n",
        "\n",
        "plt.yticks(np.arange(0.0, 1.1, step=0.1))\n",
        "plt.ylabel(\"True Positive Rate\", fontsize=15)\n",
        "\n",
        "plt.title('ROC Curve Analysis', fontweight='bold', fontsize=15)\n",
        "plt.legend(prop={'size':13}, loc='lower right')\n",
        "\n",
        "plt.show()"
      ],
      "metadata": {
        "colab": {
          "base_uri": "https://localhost:8080/",
          "height": 411
        },
        "id": "viacF63D76WB",
        "outputId": "2dcb6a39-9307-49b2-9c86-20bb6eb376f0"
      },
      "execution_count": 137,
      "outputs": [
        {
          "output_type": "display_data",
          "data": {
            "text/plain": [
              "<Figure size 576x432 with 1 Axes>"
            ],
            "image/png": "[encoded data removed]"
          },
          "metadata": {
            "needs_background": "light"
          }
        }
      ]
    },
    {
      "cell_type": "markdown",
      "source": [
        "# **Conclusion**\n",
        "\n",
        "• XGBoost provided us the best results giving us a recall of 75 percent (meaning out of 100 risk applicants 75 will be having high chances of paying loan back)\n",
        "\n",
        "• Random Forest also had good score as well as well but leads to overfit the data.\n",
        "\n",
        "• Logistic regression being the least accurate with a recall of 68."
      ],
      "metadata": {
        "id": "cEi-evJj8U-f"
      }
    },
    {
      "cell_type": "markdown",
      "source": [
        "Q1. Explain your intuition behind the features used for the modeling.\n",
        "\n",
        "-Features like applicant_id and telephone were removed, since they were not that much helpful. The remaining features played quiet an important role in understanding the data and training the model.\n",
        "\n",
        "Q2. Are you creating new derived features? If yes explain the intuition behind them.\n",
        "\n",
        "-No.\n",
        "\n",
        "Q3. Are there missing values? If yes how you plan to handle it.\n",
        "\n",
        "-There are few missing values in few of the columns and in order to handle them I filled the missing values with appropriate values, such as ‘NaN’ will be replaced with 0 and many such.\n",
        "\n",
        "Q4. How categorical features are handled for modeling.\n",
        "\n",
        "-To handle the categorical feature I’ve used label encoding. Label Encoding refers to converting the labels into a numeric form so as to convert them into the machine-readable form.\n",
        "\n",
        "Q5. Describe the feature correlation using the matrix. Tell us about few correlated features and share your understanding on why they are correlated.\n",
        "\n",
        "-There are quite a few features that are correlated with each other like the ‘Years_at_current_residence’ is highly correlated with ‘Primary_applicant_age_in_years’, this two features tells us that the age of applicant might play a crucial role in understanding how many years an applicant might stay there, applicants of young age might like to change residence after every few years, whereas the elder aged applicants might stay at same residence for a long time. Other features like ‘Principla_loan_amount’ and ‘Months_loan_taken_for’ are also highly correlated, these two features can easily tell us that if the amount of loan is greater then the time duration for which the loan amount was taken for will also be greater.\n",
        "\n",
        "Q6. Do you plan to drop the correlated features? If yes then how?\n",
        "\n",
        "-No.\n",
        "\n",
        "Q7. Which ML algorithm you plan to use for modeling.\n",
        "\n",
        "-I’ve planned to use DecisionTreeClassifier, RandomForest and XGBoost.\n",
        "\n",
        "Q8. Which metric(s) you will choose to select between the set of models.\n",
        "\n",
        "-Metrics like Confusion Matrix, F1 score, Recall, Precision and ROC_score are prime essentials for the models that I’ve trained. The F1 score is defined as the harmonic mean of precision and recall.\n",
        "\n",
        "Q9. Train two (at least) ML models to predict the credit risk & provide the confusion matrix for each model.\n",
        "![image.png](data:image/png;base64,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)\n",
        "\n",
        " \n",
        "\n",
        "Q10. How will you select the hyperparameters for the models trained in above step.\n",
        "\n",
        "-To select the hyperparameters we first Split the data at hand into training and test subsets by comparing all the metric values I’ve chosen the hyperparameter set that yields the best metric value.\n",
        "\n",
        "Q11. Explain how you will export the trained models and deploy it for prediction in production.\n",
        "\n",
        "Exporting\n",
        "Pickle is the standard way of serializing objects in Python. You can use the pickle operation to serialize your machine learning algorithms and save the serialized format to a file. Later you can load this file to deserialize your model and use it to make new predictions.\n",
        "\n",
        "Joblib is an alternative tool to pickle that we can use to save [and load] our models. It’s part of SciPy’s ecosystem and is much more efficient on objects that carry large NumPy arrays\n",
        "\n",
        "Steps for Exporting\n",
        "1. Save the trained model as a pickle string.\n",
        "2. Load the pickled model.\n",
        "3. Use the loaded pickled model to make predictions.\n",
        "\n",
        "\n",
        "\n",
        "-Method 1: Deploying Machine Learning model as web service.\n",
        "The simplest way to deploy a machine learning model is to create a web service for prediction. We can use the Flask web framework to wrap a random forest classifier built with scikit-learn. Scikit-learn offers python specific serialization that makes model persistence and restoration effortless. we can serve the persisted model using a web framework.\n",
        "\n",
        "Method 2: Deploying Machine Learning model as batch prediction.\n",
        "While online models can serve prediction, on-demand batch predictions are sometimes preferable. Offline models can be optimized to handle a high volume of job instances and run more complex models. In batch production mode, you don't need to worry about scaling or managing servers either. To do so we first train the model on a high-performance computing system with an appropriate batch-processing framework. After all the stages have been executed, we can predict unseen data with the resulting model by iterating sequentially over the partitions.\n",
        "\n"
      ],
      "metadata": {
        "id": "4b9GIuSDduTT"
      }
    }
  ]
}